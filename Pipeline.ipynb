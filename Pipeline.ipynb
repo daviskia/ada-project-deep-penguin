{
 "cells": [
  {
   "cell_type": "markdown",
   "metadata": {},
   "source": [
    "# Project Pipeline"
   ]
  },
  {
   "cell_type": "markdown",
   "metadata": {},
   "source": [
    "## Current Status"
   ]
  },
  {
   "cell_type": "markdown",
   "metadata": {},
   "source": [
    "Data includes:\n",
    "- Complete dataset of all the bixi data from all years including station data saved as pickle file\n",
    "- Station dataset with station list from all years and location information saved as pickle file\n",
    "- Bike lane data saved as geojson file\n",
    "- Public transport lines saved as geojson file, list of main public transport station locations as pickle file\n",
    "- Weather data from 2014 to 2019 saved as .csv files\n",
    "        \n",
    "        \n",
    "Analysis:\n",
    "- Correlation of bike use with weather (precipitation level, temperature)\n",
    "- Initial analysis of BIXI data including time evolutions of BIXI use and more detailed station use analysis of 2019 data\n",
    "- Status of bike stations in 2019 (how many bikes available) based on station caps\n",
    "\n"
   ]
  },
  {
   "cell_type": "markdown",
   "metadata": {},
   "source": [
    "## Research Questions"
   ]
  },
  {
   "cell_type": "markdown",
   "metadata": {},
   "source": [
    "1. Do the trips taken align with existing public transport lines or are they used to fill the gaps of the public transport routes?\n",
    "2. Are some areas of Montreal more bike-friendly than others (i.e. have bike lanes or are smaller roads) and is this bike friendliness correlated with more trips done in that area?"
   ]
  },
  {
   "cell_type": "markdown",
   "metadata": {},
   "source": [
    "## Future Tasks"
   ]
  },
  {
   "cell_type": "markdown",
   "metadata": {},
   "source": [
    "Task 1: Research Question 1"
   ]
  },
  {
   "cell_type": "markdown",
   "metadata": {},
   "source": [
    "1. Where are the most used bike stations?\n",
    "2. Along which paths do people ride the most?\n",
    "3. What are the most used public transport lines? (base on the schedule, more frequent scheduled buses/metros indicates a more popular line)\n",
    "4. Do the most popular paths go between stations on major transport lines? Or are they in areas where there is less public transport (or less efficient transport) available?\n",
    "5. Visualization of station use on map (folium)"
   ]
  },
  {
   "cell_type": "markdown",
   "metadata": {},
   "source": [
    "Task 2: Research Question 2"
   ]
  },
  {
   "cell_type": "markdown",
   "metadata": {},
   "source": [
    "1. Which areas have the highest density of bike lanes in the city?\n",
    "2. Which areas have a higher density of low speed limit roads?\n",
    "3. Do the areas with more bike lanes and low speed limits correspond to higher use by the BIXI system?\n",
    "5. Visualization of bike friendliness on map (folium)"
   ]
  },
  {
   "cell_type": "markdown",
   "metadata": {},
   "source": [
    "Task 3: Final Report"
   ]
  },
  {
   "cell_type": "markdown",
   "metadata": {},
   "source": [
    "1. Related work (other bike share analysis, other public transport analysis in Montreal)\n",
    "2. Choose most important data and findings to present\n",
    "3. Description of important/main methods\n",
    "4. Organization of data into a 'story'"
   ]
  },
  {
   "cell_type": "markdown",
   "metadata": {},
   "source": [
    "Task 4: Poster Presentation"
   ]
  },
  {
   "cell_type": "code",
   "execution_count": null,
   "metadata": {},
   "outputs": [],
   "source": []
  }
 ],
 "metadata": {
  "kernelspec": {
   "display_name": "Python 3",
   "language": "python",
   "name": "python3"
  },
  "language_info": {
   "codemirror_mode": {
    "name": "ipython",
    "version": 3
   },
   "file_extension": ".py",
   "mimetype": "text/x-python",
   "name": "python",
   "nbconvert_exporter": "python",
   "pygments_lexer": "ipython3",
   "version": "3.7.4"
  }
 },
 "nbformat": 4,
 "nbformat_minor": 2
}
