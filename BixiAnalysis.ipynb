{
 "cells": [
  {
   "cell_type": "markdown",
   "metadata": {},
   "source": [
    "# Initial Analysis of BIXI Data"
   ]
  },
  {
   "cell_type": "code",
   "execution_count": 4,
   "metadata": {},
   "outputs": [],
   "source": [
    "%matplotlib inline\n",
    "import pandas as pd\n",
    "import numpy as np\n",
    "import seaborn as sns\n",
    "import os\n",
    "import json\n",
    "import folium\n",
    "from folium import plugins\n",
    "import re\n",
    "from haversine import haversine, Unit\n",
    "from datetime import datetime, date, time\n",
    "from matplotlib.ticker import MaxNLocator\n",
    "import matplotlib.pyplot as plt\n",
    "from requests import get\n",
    "from bs4 import BeautifulSoup\n",
    "from collections import namedtuple"
   ]
  },
  {
   "cell_type": "code",
   "execution_count": 26,
   "metadata": {},
   "outputs": [
    {
     "name": "stderr",
     "output_type": "stream",
     "text": [
      "C:\\anaconda\\envs\\ada\\lib\\site-packages\\IPython\\core\\interactiveshell.py:3249: DtypeWarning: Columns (1,3) have mixed types. Specify dtype option on import or set low_memory=False.\n",
      "  if (await self.run_code(code, result,  async_=asy)):\n"
     ]
    },
    {
     "data": {
      "text/html": [
       "<div>\n",
       "<style scoped>\n",
       "    .dataframe tbody tr th:only-of-type {\n",
       "        vertical-align: middle;\n",
       "    }\n",
       "\n",
       "    .dataframe tbody tr th {\n",
       "        vertical-align: top;\n",
       "    }\n",
       "\n",
       "    .dataframe thead th {\n",
       "        text-align: right;\n",
       "    }\n",
       "</style>\n",
       "<table border=\"1\" class=\"dataframe\">\n",
       "  <thead>\n",
       "    <tr style=\"text-align: right;\">\n",
       "      <th></th>\n",
       "      <th>start_date</th>\n",
       "      <th>start_station_code</th>\n",
       "      <th>end_date</th>\n",
       "      <th>end_station_code</th>\n",
       "      <th>duration_sec</th>\n",
       "      <th>is_member</th>\n",
       "    </tr>\n",
       "  </thead>\n",
       "  <tbody>\n",
       "    <tr>\n",
       "      <td>0</td>\n",
       "      <td>2014-04-15 00:01</td>\n",
       "      <td>6209</td>\n",
       "      <td>2014-04-15 00:18</td>\n",
       "      <td>6436</td>\n",
       "      <td>1061</td>\n",
       "      <td>1</td>\n",
       "    </tr>\n",
       "    <tr>\n",
       "      <td>1</td>\n",
       "      <td>2014-04-15 00:01</td>\n",
       "      <td>6214</td>\n",
       "      <td>2014-04-15 00:11</td>\n",
       "      <td>6248</td>\n",
       "      <td>615</td>\n",
       "      <td>1</td>\n",
       "    </tr>\n",
       "    <tr>\n",
       "      <td>2</td>\n",
       "      <td>2014-04-15 00:01</td>\n",
       "      <td>6164</td>\n",
       "      <td>2014-04-15 00:18</td>\n",
       "      <td>6216</td>\n",
       "      <td>1031</td>\n",
       "      <td>1</td>\n",
       "    </tr>\n",
       "    <tr>\n",
       "      <td>3</td>\n",
       "      <td>2014-04-15 00:01</td>\n",
       "      <td>6214</td>\n",
       "      <td>2014-04-15 00:24</td>\n",
       "      <td>6082</td>\n",
       "      <td>1382</td>\n",
       "      <td>1</td>\n",
       "    </tr>\n",
       "    <tr>\n",
       "      <td>4</td>\n",
       "      <td>2014-04-15 00:02</td>\n",
       "      <td>6149</td>\n",
       "      <td>2014-04-15 00:08</td>\n",
       "      <td>6265</td>\n",
       "      <td>347</td>\n",
       "      <td>1</td>\n",
       "    </tr>\n",
       "  </tbody>\n",
       "</table>\n",
       "</div>"
      ],
      "text/plain": [
       "         start_date start_station_code          end_date end_station_code  \\\n",
       "0  2014-04-15 00:01               6209  2014-04-15 00:18             6436   \n",
       "1  2014-04-15 00:01               6214  2014-04-15 00:11             6248   \n",
       "2  2014-04-15 00:01               6164  2014-04-15 00:18             6216   \n",
       "3  2014-04-15 00:01               6214  2014-04-15 00:24             6082   \n",
       "4  2014-04-15 00:02               6149  2014-04-15 00:08             6265   \n",
       "\n",
       "   duration_sec  is_member  \n",
       "0          1061          1  \n",
       "1           615          1  \n",
       "2          1031          1  \n",
       "3          1382          1  \n",
       "4           347          1  "
      ]
     },
     "execution_count": 26,
     "metadata": {},
     "output_type": "execute_result"
    }
   ],
   "source": [
    "DATA_PATH = './BixiMontrealRentals/'\n",
    "\n",
    "#load bike ride data\n",
    "def load_data():\n",
    "    #loads data from all years and months into single dataframe\n",
    "    df = pd.DataFrame()\n",
    "    for year in range(4,10):\n",
    "        for month in range(4,12):\n",
    "            if month>9:\n",
    "                file_loc = '%sOD_201%d-%d.csv'%(DATA_PATH,year,month)\n",
    "                if year==9:\n",
    "                    return df #only have data up to Sep 2019\n",
    "            else:\n",
    "                file_loc = '%sOD_201%d-0%d.csv'%(DATA_PATH,year,month)\n",
    "            month_data = pd.read_csv(file_loc, sep=',')\n",
    "            df = df.append(month_data, ignore_index=True)\n",
    "\n",
    "raw_data = load_data()\n",
    "raw_data.head()"
   ]
  },
  {
   "cell_type": "code",
   "execution_count": 27,
   "metadata": {},
   "outputs": [
    {
     "data": {
      "text/html": [
       "<div>\n",
       "<style scoped>\n",
       "    .dataframe tbody tr th:only-of-type {\n",
       "        vertical-align: middle;\n",
       "    }\n",
       "\n",
       "    .dataframe tbody tr th {\n",
       "        vertical-align: top;\n",
       "    }\n",
       "\n",
       "    .dataframe thead th {\n",
       "        text-align: right;\n",
       "    }\n",
       "</style>\n",
       "<table border=\"1\" class=\"dataframe\">\n",
       "  <thead>\n",
       "    <tr style=\"text-align: right;\">\n",
       "      <th></th>\n",
       "      <th>name</th>\n",
       "      <th>latitude</th>\n",
       "      <th>longitude</th>\n",
       "    </tr>\n",
       "    <tr>\n",
       "      <th>code</th>\n",
       "      <th></th>\n",
       "      <th></th>\n",
       "      <th></th>\n",
       "    </tr>\n",
       "  </thead>\n",
       "  <tbody>\n",
       "    <tr>\n",
       "      <td>6209</td>\n",
       "      <td>Milton / Clark</td>\n",
       "      <td>45.512520</td>\n",
       "      <td>-73.570620</td>\n",
       "    </tr>\n",
       "    <tr>\n",
       "      <td>6436</td>\n",
       "      <td>Côte St-Antoine / Clarke</td>\n",
       "      <td>45.486452</td>\n",
       "      <td>-73.595234</td>\n",
       "    </tr>\n",
       "    <tr>\n",
       "      <td>6214</td>\n",
       "      <td>Square St-Louis</td>\n",
       "      <td>45.517350</td>\n",
       "      <td>-73.569060</td>\n",
       "    </tr>\n",
       "    <tr>\n",
       "      <td>6248</td>\n",
       "      <td>St-Dominique / Rachel</td>\n",
       "      <td>45.518593</td>\n",
       "      <td>-73.581566</td>\n",
       "    </tr>\n",
       "    <tr>\n",
       "      <td>6164</td>\n",
       "      <td>Chambord / Laurier</td>\n",
       "      <td>45.532955</td>\n",
       "      <td>-73.584194</td>\n",
       "    </tr>\n",
       "  </tbody>\n",
       "</table>\n",
       "</div>"
      ],
      "text/plain": [
       "                          name   latitude  longitude\n",
       "code                                                \n",
       "6209            Milton / Clark  45.512520 -73.570620\n",
       "6436  Côte St-Antoine / Clarke  45.486452 -73.595234\n",
       "6214           Square St-Louis  45.517350 -73.569060\n",
       "6248     St-Dominique / Rachel  45.518593 -73.581566\n",
       "6164        Chambord / Laurier  45.532955 -73.584194"
      ]
     },
     "execution_count": 27,
     "metadata": {},
     "output_type": "execute_result"
    }
   ],
   "source": [
    "#load station data - need to look at all year's station data in case some stations were added or removed throughout the years\n",
    "stations = pd.read_csv('%sStations_2014.csv'%(DATA_PATH), sep=',')\n",
    "\n",
    "for year in range(5,10):\n",
    "    station_year = pd.read_csv('%sStations_201%d.csv'%(DATA_PATH,year), sep=',')\n",
    "    new_stations = station_year[~station_year['code'].isin(stations.code)]\n",
    "    stations = stations.append(new_stations, ignore_index=True) #add only stations which aren't already in list\n",
    "\n",
    "stations = stations.set_index('code')\n",
    "stations.head()"
   ]
  },
  {
   "cell_type": "code",
   "execution_count": 58,
   "metadata": {},
   "outputs": [
    {
     "data": {
      "text/plain": [
       "start_date            datetime64[ns]\n",
       "start_station_code            object\n",
       "end_date              datetime64[ns]\n",
       "end_station_code              object\n",
       "duration_sec                   int64\n",
       "is_member                      int64\n",
       "dtype: object"
      ]
     },
     "execution_count": 58,
     "metadata": {},
     "output_type": "execute_result"
    }
   ],
   "source": [
    "raw_data.start_date = pd.to_datetime(raw_data.start_date)\n",
    "raw_data.end_date = pd.to_datetime(raw_data.end_date)\n",
    "raw_data.dtypes"
   ]
  },
  {
   "cell_type": "code",
   "execution_count": 109,
   "metadata": {},
   "outputs": [],
   "source": [
    "#merge the bike data and station tables into one\n",
    "data = raw_data.merge(stations[['latitude','longitude']], how='left', left_on=['start_station_code'], right_index=True)\n",
    "data = data.merge(stations[['latitude','longitude']], how='left', left_on=['end_station_code'], right_index=True, suffixes=('_start','_end'))\n"
   ]
  },
  {
   "cell_type": "code",
   "execution_count": 110,
   "metadata": {},
   "outputs": [
    {
     "data": {
      "text/html": [
       "<div>\n",
       "<style scoped>\n",
       "    .dataframe tbody tr th:only-of-type {\n",
       "        vertical-align: middle;\n",
       "    }\n",
       "\n",
       "    .dataframe tbody tr th {\n",
       "        vertical-align: top;\n",
       "    }\n",
       "\n",
       "    .dataframe thead th {\n",
       "        text-align: right;\n",
       "    }\n",
       "</style>\n",
       "<table border=\"1\" class=\"dataframe\">\n",
       "  <thead>\n",
       "    <tr style=\"text-align: right;\">\n",
       "      <th></th>\n",
       "      <th>start_date</th>\n",
       "      <th>start_station_code</th>\n",
       "      <th>end_date</th>\n",
       "      <th>end_station_code</th>\n",
       "      <th>duration_sec</th>\n",
       "      <th>is_member</th>\n",
       "      <th>latitude_start</th>\n",
       "      <th>longitude_start</th>\n",
       "      <th>latitude_end</th>\n",
       "      <th>longitude_end</th>\n",
       "      <th>year</th>\n",
       "      <th>month</th>\n",
       "      <th>start_day</th>\n",
       "      <th>start_hour</th>\n",
       "      <th>end_day</th>\n",
       "      <th>end_hour</th>\n",
       "    </tr>\n",
       "  </thead>\n",
       "  <tbody>\n",
       "    <tr>\n",
       "      <td>0</td>\n",
       "      <td>2014-04-15 00:01:00</td>\n",
       "      <td>6209</td>\n",
       "      <td>2014-04-15 00:18:00</td>\n",
       "      <td>6436</td>\n",
       "      <td>1061</td>\n",
       "      <td>1</td>\n",
       "      <td>45.512520</td>\n",
       "      <td>-73.570620</td>\n",
       "      <td>45.486452</td>\n",
       "      <td>-73.595234</td>\n",
       "      <td>2014</td>\n",
       "      <td>4</td>\n",
       "      <td>15</td>\n",
       "      <td>0</td>\n",
       "      <td>15</td>\n",
       "      <td>0</td>\n",
       "    </tr>\n",
       "    <tr>\n",
       "      <td>1</td>\n",
       "      <td>2014-04-15 00:01:00</td>\n",
       "      <td>6214</td>\n",
       "      <td>2014-04-15 00:11:00</td>\n",
       "      <td>6248</td>\n",
       "      <td>615</td>\n",
       "      <td>1</td>\n",
       "      <td>45.517350</td>\n",
       "      <td>-73.569060</td>\n",
       "      <td>45.518593</td>\n",
       "      <td>-73.581566</td>\n",
       "      <td>2014</td>\n",
       "      <td>4</td>\n",
       "      <td>15</td>\n",
       "      <td>0</td>\n",
       "      <td>15</td>\n",
       "      <td>0</td>\n",
       "    </tr>\n",
       "    <tr>\n",
       "      <td>2</td>\n",
       "      <td>2014-04-15 00:01:00</td>\n",
       "      <td>6164</td>\n",
       "      <td>2014-04-15 00:18:00</td>\n",
       "      <td>6216</td>\n",
       "      <td>1031</td>\n",
       "      <td>1</td>\n",
       "      <td>45.532955</td>\n",
       "      <td>-73.584194</td>\n",
       "      <td>45.514960</td>\n",
       "      <td>-73.585030</td>\n",
       "      <td>2014</td>\n",
       "      <td>4</td>\n",
       "      <td>15</td>\n",
       "      <td>0</td>\n",
       "      <td>15</td>\n",
       "      <td>0</td>\n",
       "    </tr>\n",
       "    <tr>\n",
       "      <td>3</td>\n",
       "      <td>2014-04-15 00:01:00</td>\n",
       "      <td>6214</td>\n",
       "      <td>2014-04-15 00:24:00</td>\n",
       "      <td>6082</td>\n",
       "      <td>1382</td>\n",
       "      <td>1</td>\n",
       "      <td>45.517350</td>\n",
       "      <td>-73.569060</td>\n",
       "      <td>45.550613</td>\n",
       "      <td>-73.582883</td>\n",
       "      <td>2014</td>\n",
       "      <td>4</td>\n",
       "      <td>15</td>\n",
       "      <td>0</td>\n",
       "      <td>15</td>\n",
       "      <td>0</td>\n",
       "    </tr>\n",
       "    <tr>\n",
       "      <td>4</td>\n",
       "      <td>2014-04-15 00:02:00</td>\n",
       "      <td>6149</td>\n",
       "      <td>2014-04-15 00:08:00</td>\n",
       "      <td>6265</td>\n",
       "      <td>347</td>\n",
       "      <td>1</td>\n",
       "      <td>45.538670</td>\n",
       "      <td>-73.569360</td>\n",
       "      <td>45.539259</td>\n",
       "      <td>-73.577338</td>\n",
       "      <td>2014</td>\n",
       "      <td>4</td>\n",
       "      <td>15</td>\n",
       "      <td>0</td>\n",
       "      <td>15</td>\n",
       "      <td>0</td>\n",
       "    </tr>\n",
       "  </tbody>\n",
       "</table>\n",
       "</div>"
      ],
      "text/plain": [
       "           start_date start_station_code            end_date end_station_code  \\\n",
       "0 2014-04-15 00:01:00               6209 2014-04-15 00:18:00             6436   \n",
       "1 2014-04-15 00:01:00               6214 2014-04-15 00:11:00             6248   \n",
       "2 2014-04-15 00:01:00               6164 2014-04-15 00:18:00             6216   \n",
       "3 2014-04-15 00:01:00               6214 2014-04-15 00:24:00             6082   \n",
       "4 2014-04-15 00:02:00               6149 2014-04-15 00:08:00             6265   \n",
       "\n",
       "   duration_sec  is_member  latitude_start  longitude_start  latitude_end  \\\n",
       "0          1061          1       45.512520       -73.570620     45.486452   \n",
       "1           615          1       45.517350       -73.569060     45.518593   \n",
       "2          1031          1       45.532955       -73.584194     45.514960   \n",
       "3          1382          1       45.517350       -73.569060     45.550613   \n",
       "4           347          1       45.538670       -73.569360     45.539259   \n",
       "\n",
       "   longitude_end  year  month  start_day  start_hour  end_day  end_hour  \n",
       "0     -73.595234  2014      4         15           0       15         0  \n",
       "1     -73.581566  2014      4         15           0       15         0  \n",
       "2     -73.585030  2014      4         15           0       15         0  \n",
       "3     -73.582883  2014      4         15           0       15         0  \n",
       "4     -73.577338  2014      4         15           0       15         0  "
      ]
     },
     "execution_count": 110,
     "metadata": {},
     "output_type": "execute_result"
    }
   ],
   "source": [
    "#create new columns for the day, hour, and year\n",
    "def split_date(col,df):\n",
    "    df['%s_day'%(col)] = df['%s_date'%(col)].apply(lambda x: x.day)\n",
    "    df['%s_hour'%(col)] = df['%s_date'%(col)].apply(lambda x: x.hour)\n",
    "    return df\n",
    "\n",
    "data['year'] = data['start_date'].apply(lambda x: x.year)\n",
    "data['month'] = data['start_date'].apply(lambda x: x.month)\n",
    "\n",
    "data = split_date('start', data)\n",
    "data = split_date('end', data)\n",
    "\n",
    "data.head()"
   ]
  },
  {
   "cell_type": "code",
   "execution_count": null,
   "metadata": {},
   "outputs": [],
   "source": [
    "#average proximity of station rides\n",
    "\n",
    "#haversine function calculates the distance between two coordinates (lat, lon) - can install through 'pip install haversine'\n",
    "#outputs distance in km\n",
    "data['distance'] = data.apply(lambda x: haversine((x.latitude_start,x.longitude_start),(x.latitude_end,x.longitude_end)),axis=1)"
   ]
  },
  {
   "cell_type": "code",
   "execution_count": 128,
   "metadata": {},
   "outputs": [],
   "source": [
    "#save the combined set to pickle\n",
    "data.to_pickle(\"../combined_data\")"
   ]
  },
  {
   "cell_type": "code",
   "execution_count": 28,
   "metadata": {},
   "outputs": [],
   "source": [
    "stations.to_pickle(\"../stations\")"
   ]
  },
  {
   "cell_type": "markdown",
   "metadata": {},
   "source": [
    "# Load saved combined dataframe on restart"
   ]
  },
  {
   "cell_type": "markdown",
   "metadata": {},
   "source": [
    "Run first cell to import libraries and then only this cell onwards to save time. "
   ]
  },
  {
   "cell_type": "code",
   "execution_count": 5,
   "metadata": {},
   "outputs": [],
   "source": [
    "#start from here on restart of notebook - loads the combined dataset\n",
    "data = pd.read_pickle(\"../combined_data\")"
   ]
  },
  {
   "cell_type": "code",
   "execution_count": 29,
   "metadata": {},
   "outputs": [],
   "source": [
    "stations = pd.read_pickle(\"../stations\")"
   ]
  },
  {
   "cell_type": "markdown",
   "metadata": {},
   "source": [
    "# Time evolution of BIXI use"
   ]
  },
  {
   "cell_type": "code",
   "execution_count": 6,
   "metadata": {},
   "outputs": [
    {
     "data": {
      "text/html": [
       "<div>\n",
       "<style scoped>\n",
       "    .dataframe tbody tr th:only-of-type {\n",
       "        vertical-align: middle;\n",
       "    }\n",
       "\n",
       "    .dataframe tbody tr th {\n",
       "        vertical-align: top;\n",
       "    }\n",
       "\n",
       "    .dataframe thead th {\n",
       "        text-align: right;\n",
       "    }\n",
       "</style>\n",
       "<table border=\"1\" class=\"dataframe\">\n",
       "  <thead>\n",
       "    <tr style=\"text-align: right;\">\n",
       "      <th></th>\n",
       "      <th>year</th>\n",
       "      <th>start_station_code</th>\n",
       "      <th>counts</th>\n",
       "    </tr>\n",
       "  </thead>\n",
       "  <tbody>\n",
       "    <tr>\n",
       "      <td>0</td>\n",
       "      <td>2014</td>\n",
       "      <td>5002</td>\n",
       "      <td>254</td>\n",
       "    </tr>\n",
       "    <tr>\n",
       "      <td>1</td>\n",
       "      <td>2014</td>\n",
       "      <td>5003</td>\n",
       "      <td>202</td>\n",
       "    </tr>\n",
       "    <tr>\n",
       "      <td>2</td>\n",
       "      <td>2014</td>\n",
       "      <td>5004</td>\n",
       "      <td>187</td>\n",
       "    </tr>\n",
       "    <tr>\n",
       "      <td>3</td>\n",
       "      <td>2014</td>\n",
       "      <td>5005</td>\n",
       "      <td>475</td>\n",
       "    </tr>\n",
       "    <tr>\n",
       "      <td>4</td>\n",
       "      <td>2014</td>\n",
       "      <td>5006</td>\n",
       "      <td>325</td>\n",
       "    </tr>\n",
       "  </tbody>\n",
       "</table>\n",
       "</div>"
      ],
      "text/plain": [
       "   year start_station_code  counts\n",
       "0  2014               5002     254\n",
       "1  2014               5003     202\n",
       "2  2014               5004     187\n",
       "3  2014               5005     475\n",
       "4  2014               5006     325"
      ]
     },
     "execution_count": 6,
     "metadata": {},
     "output_type": "execute_result"
    }
   ],
   "source": [
    "#station use count\n",
    "station_use = data.groupby(['year','start_station_code']).size().reset_index(name='counts')\n",
    "station_use.head()"
   ]
  },
  {
   "cell_type": "code",
   "execution_count": 7,
   "metadata": {},
   "outputs": [
    {
     "data": {
      "image/png": "[encoded data removed]",
      "text/plain": [
       "<Figure size 432x288 with 2 Axes>"
      ]
     },
     "metadata": {
      "needs_background": "light"
     },
     "output_type": "display_data"
    }
   ],
   "source": [
    "plot = station_use.pivot('year', 'start_station_code', 'counts')\n",
    "sns.heatmap(plot.iloc[:,0:50], linewidth=0.5, cmap=sns.cubehelix_palette(8, start=.5, rot=-.75))\n",
    "plt.show()"
   ]
  },
  {
   "cell_type": "markdown",
   "metadata": {},
   "source": [
    "***Not an efficient way to plot since can only fit a few stations in one heatmap***"
   ]
  },
  {
   "cell_type": "markdown",
   "metadata": {},
   "source": [
    "Instead: look at most popular stations regardless of year, then analyse time dependence once filter for the stations with the highest use"
   ]
  },
  {
   "cell_type": "code",
   "execution_count": 9,
   "metadata": {},
   "outputs": [
    {
     "data": {
      "text/plain": [
       "[<matplotlib.lines.Line2D at 0x296ef9d8988>]"
      ]
     },
     "execution_count": 9,
     "metadata": {},
     "output_type": "execute_result"
    },
    {
     "data": {
      "image/png": "[encoded data removed]",
      "text/plain": [
       "<Figure size 432x288 with 1 Axes>"
      ]
     },
     "metadata": {
      "needs_background": "light"
     },
     "output_type": "display_data"
    }
   ],
   "source": [
    "#number of stations\n",
    "station_count = station_use.groupby('year').size().reset_index(name='num_stat')\n",
    "plt.plot(station_count.year, station_count.num_stat)"
   ]
  },
  {
   "cell_type": "code",
   "execution_count": 10,
   "metadata": {},
   "outputs": [
    {
     "data": {
      "text/plain": [
       "[<matplotlib.lines.Line2D at 0x296efa29948>]"
      ]
     },
     "execution_count": 10,
     "metadata": {},
     "output_type": "execute_result"
    },
    {
     "data": {
      "image/png": "[encoded data removed]",
      "text/plain": [
       "<Figure size 432x288 with 1 Axes>"
      ]
     },
     "metadata": {
      "needs_background": "light"
     },
     "output_type": "display_data"
    }
   ],
   "source": [
    "#total number of trips\n",
    "trips = station_use.groupby('year').sum()\n",
    "plt.plot(trips.index, trips.counts)"
   ]
  },
  {
   "cell_type": "code",
   "execution_count": 11,
   "metadata": {},
   "outputs": [
    {
     "data": {
      "text/plain": [
       "[<matplotlib.lines.Line2D at 0x296efa76f48>]"
      ]
     },
     "execution_count": 11,
     "metadata": {},
     "output_type": "execute_result"
    },
    {
     "data": {
      "image/png": "[encoded data removed]",
      "text/plain": [
       "<Figure size 432x288 with 1 Axes>"
      ]
     },
     "metadata": {
      "needs_background": "light"
     },
     "output_type": "display_data"
    }
   ],
   "source": [
    "#use by month (averaged over the years)\n",
    "monthly = data.groupby(['month','year']).size().reset_index(name='trips_per_month')\n",
    "monthly = monthly[['month','trips_per_month']].groupby('month').mean()\n",
    "plt.plot(monthly.index, monthly.trips_per_month)"
   ]
  },
  {
   "cell_type": "code",
   "execution_count": 12,
   "metadata": {},
   "outputs": [],
   "source": [
    "#2019 data only\n",
    "data19 = data.query('year==2019')"
   ]
  },
  {
   "cell_type": "code",
   "execution_count": 13,
   "metadata": {},
   "outputs": [
    {
     "data": {
      "text/plain": [
       "<matplotlib.axes._subplots.AxesSubplot at 0x296efa06e48>"
      ]
     },
     "execution_count": 13,
     "metadata": {},
     "output_type": "execute_result"
    },
    {
     "data": {
      "image/png": "[encoded data removed]",
      "text/plain": [
       "<Figure size 432x288 with 1 Axes>"
      ]
     },
     "metadata": {
      "needs_background": "light"
     },
     "output_type": "display_data"
    }
   ],
   "source": [
    "#ride duration by month - 2019\n",
    "#monthly19 = data19[['month','duration_sec']].groupby('month')\n",
    "\n",
    "sns.boxplot(x='month', y='duration_sec', data=data19)"
   ]
  },
  {
   "cell_type": "code",
   "execution_count": 14,
   "metadata": {},
   "outputs": [
    {
     "data": {
      "image/png": "[encoded data removed]",
      "text/plain": [
       "<Figure size 432x432 with 3 Axes>"
      ]
     },
     "metadata": {
      "needs_background": "light"
     },
     "output_type": "display_data"
    }
   ],
   "source": [
    "#distance vs duration for 2019 (all months)\n",
    "sns.jointplot(data19.distance, data19.duration_sec, kind='hex', color=\"#4CB391\")\n",
    "plt.show()"
   ]
  },
  {
   "cell_type": "markdown",
   "metadata": {},
   "source": [
    "We can see that most of the trips are short distance and short duration, indicating use for commuting. "
   ]
  },
  {
   "cell_type": "markdown",
   "metadata": {},
   "source": [
    "# BIXI use in 2019"
   ]
  },
  {
   "cell_type": "code",
   "execution_count": 31,
   "metadata": {},
   "outputs": [
    {
     "data": {
      "text/plain": [
       "<matplotlib.axes._subplots.AxesSubplot at 0x298527218c8>"
      ]
     },
     "execution_count": 31,
     "metadata": {},
     "output_type": "execute_result"
    },
    {
     "data": {
      "image/png": "[encoded data removed]",
      "text/plain": [
       "<Figure size 432x288 with 1 Axes>"
      ]
     },
     "metadata": {
      "needs_background": "light"
     },
     "output_type": "display_data"
    }
   ],
   "source": [
    "#distribution of station popularity by start of trips from given station\n",
    "station_use19 = station_use.query('year==2019')\n",
    "del station_use19['year']\n",
    "sns.boxplot(x=station_use19['counts'])"
   ]
  },
  {
   "cell_type": "markdown",
   "metadata": {},
   "source": [
    "From this can see that most stations are used less than 15,000 times per year. Now want to list the most frequently used stations (with latitude and longitude so can compare to public transpo) and plot them on a map. "
   ]
  },
  {
   "cell_type": "code",
   "execution_count": 32,
   "metadata": {},
   "outputs": [
    {
     "data": {
      "text/html": [
       "<div>\n",
       "<style scoped>\n",
       "    .dataframe tbody tr th:only-of-type {\n",
       "        vertical-align: middle;\n",
       "    }\n",
       "\n",
       "    .dataframe tbody tr th {\n",
       "        vertical-align: top;\n",
       "    }\n",
       "\n",
       "    .dataframe thead th {\n",
       "        text-align: right;\n",
       "    }\n",
       "</style>\n",
       "<table border=\"1\" class=\"dataframe\">\n",
       "  <thead>\n",
       "    <tr style=\"text-align: right;\">\n",
       "      <th></th>\n",
       "      <th>start_station_code</th>\n",
       "      <th>end_station_code</th>\n",
       "      <th>latitude_start</th>\n",
       "      <th>longitude_start</th>\n",
       "      <th>latitude_end</th>\n",
       "      <th>longitude_end</th>\n",
       "      <th>distance</th>\n",
       "    </tr>\n",
       "  </thead>\n",
       "  <tbody>\n",
       "    <tr>\n",
       "      <td>20598138</td>\n",
       "      <td>6411</td>\n",
       "      <td>6411</td>\n",
       "      <td>45.513338</td>\n",
       "      <td>-73.572950</td>\n",
       "      <td>45.513338</td>\n",
       "      <td>-73.572950</td>\n",
       "      <td>0.000000</td>\n",
       "    </tr>\n",
       "    <tr>\n",
       "      <td>20598154</td>\n",
       "      <td>6169</td>\n",
       "      <td>6183</td>\n",
       "      <td>45.527426</td>\n",
       "      <td>-73.579918</td>\n",
       "      <td>45.522413</td>\n",
       "      <td>-73.584130</td>\n",
       "      <td>0.646842</td>\n",
       "    </tr>\n",
       "    <tr>\n",
       "      <td>20598158</td>\n",
       "      <td>6036</td>\n",
       "      <td>6036</td>\n",
       "      <td>45.504245</td>\n",
       "      <td>-73.553545</td>\n",
       "      <td>45.504245</td>\n",
       "      <td>-73.553545</td>\n",
       "      <td>0.000000</td>\n",
       "    </tr>\n",
       "    <tr>\n",
       "      <td>20598161</td>\n",
       "      <td>6155</td>\n",
       "      <td>6154</td>\n",
       "      <td>45.530920</td>\n",
       "      <td>-73.576740</td>\n",
       "      <td>45.532290</td>\n",
       "      <td>-73.575440</td>\n",
       "      <td>0.182923</td>\n",
       "    </tr>\n",
       "    <tr>\n",
       "      <td>20598166</td>\n",
       "      <td>6411</td>\n",
       "      <td>7071</td>\n",
       "      <td>45.513338</td>\n",
       "      <td>-73.572950</td>\n",
       "      <td>45.495789</td>\n",
       "      <td>-73.582596</td>\n",
       "      <td>2.091127</td>\n",
       "    </tr>\n",
       "  </tbody>\n",
       "</table>\n",
       "</div>"
      ],
      "text/plain": [
       "         start_station_code end_station_code  latitude_start  longitude_start  \\\n",
       "20598138               6411             6411       45.513338       -73.572950   \n",
       "20598154               6169             6183       45.527426       -73.579918   \n",
       "20598158               6036             6036       45.504245       -73.553545   \n",
       "20598161               6155             6154       45.530920       -73.576740   \n",
       "20598166               6411             7071       45.513338       -73.572950   \n",
       "\n",
       "          latitude_end  longitude_end  distance  \n",
       "20598138     45.513338     -73.572950  0.000000  \n",
       "20598154     45.522413     -73.584130  0.646842  \n",
       "20598158     45.504245     -73.553545  0.000000  \n",
       "20598161     45.532290     -73.575440  0.182923  \n",
       "20598166     45.495789     -73.582596  2.091127  "
      ]
     },
     "execution_count": 32,
     "metadata": {},
     "output_type": "execute_result"
    }
   ],
   "source": [
    "station_use19 = station_use19.query('counts>20000')\n",
    "popular = data19[data19['start_station_code'].isin(station_use19['start_station_code'])]\n",
    "popular = popular[['start_station_code','end_station_code','latitude_start','longitude_start','latitude_end','longitude_end','distance']]\n",
    "popular.head()"
   ]
  },
  {
   "cell_type": "code",
   "execution_count": 33,
   "metadata": {},
   "outputs": [
    {
     "data": {
      "text/html": [
       "<div>\n",
       "<style scoped>\n",
       "    .dataframe tbody tr th:only-of-type {\n",
       "        vertical-align: middle;\n",
       "    }\n",
       "\n",
       "    .dataframe tbody tr th {\n",
       "        vertical-align: top;\n",
       "    }\n",
       "\n",
       "    .dataframe thead th {\n",
       "        text-align: right;\n",
       "    }\n",
       "</style>\n",
       "<table border=\"1\" class=\"dataframe\">\n",
       "  <thead>\n",
       "    <tr style=\"text-align: right;\">\n",
       "      <th></th>\n",
       "      <th>start_station_code</th>\n",
       "      <th>counts</th>\n",
       "      <th>latitude</th>\n",
       "      <th>longitude</th>\n",
       "    </tr>\n",
       "  </thead>\n",
       "  <tbody>\n",
       "    <tr>\n",
       "      <td>2501</td>\n",
       "      <td>6012</td>\n",
       "      <td>22832</td>\n",
       "      <td>45.510660</td>\n",
       "      <td>-73.564970</td>\n",
       "    </tr>\n",
       "    <tr>\n",
       "      <td>2504</td>\n",
       "      <td>6015</td>\n",
       "      <td>25173</td>\n",
       "      <td>45.515299</td>\n",
       "      <td>-73.561273</td>\n",
       "    </tr>\n",
       "    <tr>\n",
       "      <td>2508</td>\n",
       "      <td>6019</td>\n",
       "      <td>21056</td>\n",
       "      <td>45.517910</td>\n",
       "      <td>-73.567143</td>\n",
       "    </tr>\n",
       "    <tr>\n",
       "      <td>2512</td>\n",
       "      <td>6023</td>\n",
       "      <td>22888</td>\n",
       "      <td>45.510860</td>\n",
       "      <td>-73.549830</td>\n",
       "    </tr>\n",
       "    <tr>\n",
       "      <td>2515</td>\n",
       "      <td>6026</td>\n",
       "      <td>27631</td>\n",
       "      <td>45.507629</td>\n",
       "      <td>-73.551876</td>\n",
       "    </tr>\n",
       "  </tbody>\n",
       "</table>\n",
       "</div>"
      ],
      "text/plain": [
       "     start_station_code  counts   latitude  longitude\n",
       "2501               6012   22832  45.510660 -73.564970\n",
       "2504               6015   25173  45.515299 -73.561273\n",
       "2508               6019   21056  45.517910 -73.567143\n",
       "2512               6023   22888  45.510860 -73.549830\n",
       "2515               6026   27631  45.507629 -73.551876"
      ]
     },
     "execution_count": 33,
     "metadata": {},
     "output_type": "execute_result"
    }
   ],
   "source": [
    "#visualize stations on a map\n",
    "vis = station_use19.merge(stations[['latitude','longitude']], how='left', left_on=['start_station_code'], right_index=True)\n",
    "vis.head()"
   ]
  },
  {
   "cell_type": "code",
   "execution_count": 35,
   "metadata": {},
   "outputs": [
    {
     "data": {
      "text/html": [
       "<div style=\"width:100%;\"><div style=\"position:relative;width:100%;height:0;padding-bottom:60%;\"><iframe src=\"data:text/html;charset=utf-8;base64,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\" style=\"position:absolute;width:100%;height:100%;left:0;top:0;border:none !important;\" allowfullscreen webkitallowfullscreen mozallowfullscreen></iframe></div></div>"
      ],
      "text/plain": [
       "<folium.folium.Map at 0x29852790888>"
      ]
     },
     "execution_count": 35,
     "metadata": {},
     "output_type": "execute_result"
    }
   ],
   "source": [
    "montreal = [45.5017, -73.5673]\n",
    "\n",
    "m = folium.Map(location=montreal, zoom_start=14)\n",
    "for lat, lng, name, count in zip(vis.latitude,vis.longitude,vis.start_station_code, vis.counts):\n",
    "    m.add_child(folium.CircleMarker(location=[lat,lng], fill='true', radius=count/10000, popup=name, fill_color='red', color='red')) #CircleMarker gives dot, Marker gives drop    \n",
    "m"
   ]
  },
  {
   "cell_type": "code",
   "execution_count": null,
   "metadata": {},
   "outputs": [],
   "source": []
  }
 ],
 "metadata": {
  "kernelspec": {
   "display_name": "Python 3",
   "language": "python",
   "name": "python3"
  },
  "language_info": {
   "codemirror_mode": {
    "name": "ipython",
    "version": 3
   },
   "file_extension": ".py",
   "mimetype": "text/x-python",
   "name": "python",
   "nbconvert_exporter": "python",
   "pygments_lexer": "ipython3",
   "version": "3.7.4"
  }
 },
 "nbformat": 4,
 "nbformat_minor": 2
}
