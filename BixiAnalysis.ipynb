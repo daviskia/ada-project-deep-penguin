{
 "cells": [
  {
   "cell_type": "markdown",
   "metadata": {},
   "source": [
    "# Initial Analysis of BIXI Data"
   ]
  },
  {
   "cell_type": "code",
   "execution_count": 1,
   "metadata": {},
   "outputs": [],
   "source": [
    "%matplotlib inline\n",
    "import pandas as pd\n",
    "import numpy as np\n",
    "import seaborn as sns\n",
    "import os\n",
    "import json\n",
    "import folium\n",
    "from folium import plugins\n",
    "import re\n",
    "from haversine import haversine, Unit\n",
    "from datetime import datetime, date, time\n",
    "from matplotlib.ticker import MaxNLocator\n",
    "import matplotlib.pyplot as plt\n",
    "from requests import get\n",
    "from bs4 import BeautifulSoup\n",
    "from collections import namedtuple"
   ]
  },
  {
   "cell_type": "code",
   "execution_count": 56,
   "metadata": {},
   "outputs": [
    {
     "data": {
      "text/html": [
       "<div>\n",
       "<style scoped>\n",
       "    .dataframe tbody tr th:only-of-type {\n",
       "        vertical-align: middle;\n",
       "    }\n",
       "\n",
       "    .dataframe tbody tr th {\n",
       "        vertical-align: top;\n",
       "    }\n",
       "\n",
       "    .dataframe thead th {\n",
       "        text-align: right;\n",
       "    }\n",
       "</style>\n",
       "<table border=\"1\" class=\"dataframe\">\n",
       "  <thead>\n",
       "    <tr style=\"text-align: right;\">\n",
       "      <th></th>\n",
       "      <th>start_date</th>\n",
       "      <th>start_station_code</th>\n",
       "      <th>end_date</th>\n",
       "      <th>end_station_code</th>\n",
       "      <th>duration_sec</th>\n",
       "      <th>is_member</th>\n",
       "    </tr>\n",
       "  </thead>\n",
       "  <tbody>\n",
       "    <tr>\n",
       "      <td>0</td>\n",
       "      <td>2014-04-15 00:01</td>\n",
       "      <td>6209</td>\n",
       "      <td>2014-04-15 00:18</td>\n",
       "      <td>6436</td>\n",
       "      <td>1061</td>\n",
       "      <td>1</td>\n",
       "    </tr>\n",
       "    <tr>\n",
       "      <td>1</td>\n",
       "      <td>2014-04-15 00:01</td>\n",
       "      <td>6214</td>\n",
       "      <td>2014-04-15 00:11</td>\n",
       "      <td>6248</td>\n",
       "      <td>615</td>\n",
       "      <td>1</td>\n",
       "    </tr>\n",
       "    <tr>\n",
       "      <td>2</td>\n",
       "      <td>2014-04-15 00:01</td>\n",
       "      <td>6164</td>\n",
       "      <td>2014-04-15 00:18</td>\n",
       "      <td>6216</td>\n",
       "      <td>1031</td>\n",
       "      <td>1</td>\n",
       "    </tr>\n",
       "    <tr>\n",
       "      <td>3</td>\n",
       "      <td>2014-04-15 00:01</td>\n",
       "      <td>6214</td>\n",
       "      <td>2014-04-15 00:24</td>\n",
       "      <td>6082</td>\n",
       "      <td>1382</td>\n",
       "      <td>1</td>\n",
       "    </tr>\n",
       "    <tr>\n",
       "      <td>4</td>\n",
       "      <td>2014-04-15 00:02</td>\n",
       "      <td>6149</td>\n",
       "      <td>2014-04-15 00:08</td>\n",
       "      <td>6265</td>\n",
       "      <td>347</td>\n",
       "      <td>1</td>\n",
       "    </tr>\n",
       "  </tbody>\n",
       "</table>\n",
       "</div>"
      ],
      "text/plain": [
       "         start_date start_station_code          end_date end_station_code  \\\n",
       "0  2014-04-15 00:01               6209  2014-04-15 00:18             6436   \n",
       "1  2014-04-15 00:01               6214  2014-04-15 00:11             6248   \n",
       "2  2014-04-15 00:01               6164  2014-04-15 00:18             6216   \n",
       "3  2014-04-15 00:01               6214  2014-04-15 00:24             6082   \n",
       "4  2014-04-15 00:02               6149  2014-04-15 00:08             6265   \n",
       "\n",
       "   duration_sec  is_member  \n",
       "0          1061          1  \n",
       "1           615          1  \n",
       "2          1031          1  \n",
       "3          1382          1  \n",
       "4           347          1  "
      ]
     },
     "execution_count": 56,
     "metadata": {},
     "output_type": "execute_result"
    }
   ],
   "source": [
    "DATA_PATH = './BixiMontrealRentals/'\n",
    "\n",
    "#load bike ride data\n",
    "def load_data():\n",
    "    #loads data from all years and months into single dataframe\n",
    "    df = pd.DataFrame()\n",
    "    for year in range(4,10):\n",
    "        for month in range(4,12):\n",
    "            if month>9:\n",
    "                file_loc = '%sOD_201%d-%d.csv'%(DATA_PATH,year,month)\n",
    "                if year==9:\n",
    "                    return df #only have data up to Sep 2019\n",
    "            else:\n",
    "                file_loc = '%sOD_201%d-0%d.csv'%(DATA_PATH,year,month)\n",
    "            month_data = pd.read_csv(file_loc, sep=',')\n",
    "            df = df.append(month_data, ignore_index=True)\n",
    "\n",
    "raw_data = load_data()\n",
    "raw_data.head()"
   ]
  },
  {
   "cell_type": "code",
   "execution_count": 57,
   "metadata": {},
   "outputs": [
    {
     "data": {
      "text/html": [
       "<div>\n",
       "<style scoped>\n",
       "    .dataframe tbody tr th:only-of-type {\n",
       "        vertical-align: middle;\n",
       "    }\n",
       "\n",
       "    .dataframe tbody tr th {\n",
       "        vertical-align: top;\n",
       "    }\n",
       "\n",
       "    .dataframe thead th {\n",
       "        text-align: right;\n",
       "    }\n",
       "</style>\n",
       "<table border=\"1\" class=\"dataframe\">\n",
       "  <thead>\n",
       "    <tr style=\"text-align: right;\">\n",
       "      <th></th>\n",
       "      <th>name</th>\n",
       "      <th>latitude</th>\n",
       "      <th>longitude</th>\n",
       "    </tr>\n",
       "    <tr>\n",
       "      <th>code</th>\n",
       "      <th></th>\n",
       "      <th></th>\n",
       "      <th></th>\n",
       "    </tr>\n",
       "  </thead>\n",
       "  <tbody>\n",
       "    <tr>\n",
       "      <td>6209</td>\n",
       "      <td>Milton / Clark</td>\n",
       "      <td>45.512520</td>\n",
       "      <td>-73.570620</td>\n",
       "    </tr>\n",
       "    <tr>\n",
       "      <td>6436</td>\n",
       "      <td>Côte St-Antoine / Clarke</td>\n",
       "      <td>45.486452</td>\n",
       "      <td>-73.595234</td>\n",
       "    </tr>\n",
       "    <tr>\n",
       "      <td>6214</td>\n",
       "      <td>Square St-Louis</td>\n",
       "      <td>45.517350</td>\n",
       "      <td>-73.569060</td>\n",
       "    </tr>\n",
       "    <tr>\n",
       "      <td>6248</td>\n",
       "      <td>St-Dominique / Rachel</td>\n",
       "      <td>45.518593</td>\n",
       "      <td>-73.581566</td>\n",
       "    </tr>\n",
       "    <tr>\n",
       "      <td>6164</td>\n",
       "      <td>Chambord / Laurier</td>\n",
       "      <td>45.532955</td>\n",
       "      <td>-73.584194</td>\n",
       "    </tr>\n",
       "  </tbody>\n",
       "</table>\n",
       "</div>"
      ],
      "text/plain": [
       "                          name   latitude  longitude\n",
       "code                                                \n",
       "6209            Milton / Clark  45.512520 -73.570620\n",
       "6436  Côte St-Antoine / Clarke  45.486452 -73.595234\n",
       "6214           Square St-Louis  45.517350 -73.569060\n",
       "6248     St-Dominique / Rachel  45.518593 -73.581566\n",
       "6164        Chambord / Laurier  45.532955 -73.584194"
      ]
     },
     "execution_count": 57,
     "metadata": {},
     "output_type": "execute_result"
    }
   ],
   "source": [
    "#load station data - need to look at all year's station data in case some stations were added or removed throughout the years\n",
    "stations = pd.read_csv('%sStations_2014.csv'%(DATA_PATH), sep=',')\n",
    "\n",
    "for year in range(5,10):\n",
    "    station_year = pd.read_csv('%sStations_201%d.csv'%(DATA_PATH,year), sep=',')\n",
    "    new_stations = station_year[~station_year['code'].isin(stations.code)]\n",
    "    stations = stations.append(new_stations, ignore_index=True) #add only stations which aren't already in list\n",
    "\n",
    "stations = stations.set_index('code')\n",
    "stations.head()"
   ]
  },
  {
   "cell_type": "code",
   "execution_count": 58,
   "metadata": {},
   "outputs": [
    {
     "data": {
      "text/plain": [
       "start_date            datetime64[ns]\n",
       "start_station_code            object\n",
       "end_date              datetime64[ns]\n",
       "end_station_code              object\n",
       "duration_sec                   int64\n",
       "is_member                      int64\n",
       "dtype: object"
      ]
     },
     "execution_count": 58,
     "metadata": {},
     "output_type": "execute_result"
    }
   ],
   "source": [
    "raw_data.start_date = pd.to_datetime(raw_data.start_date)\n",
    "raw_data.end_date = pd.to_datetime(raw_data.end_date)\n",
    "raw_data.dtypes"
   ]
  },
  {
   "cell_type": "code",
   "execution_count": 109,
   "metadata": {},
   "outputs": [],
   "source": [
    "#merge the bike data and station tables into one\n",
    "data = raw_data.merge(stations[['latitude','longitude']], how='left', left_on=['start_station_code'], right_index=True)\n",
    "data = data.merge(stations[['latitude','longitude']], how='left', left_on=['end_station_code'], right_index=True, suffixes=('_start','_end'))\n"
   ]
  },
  {
   "cell_type": "code",
   "execution_count": 110,
   "metadata": {},
   "outputs": [
    {
     "data": {
      "text/html": [
       "<div>\n",
       "<style scoped>\n",
       "    .dataframe tbody tr th:only-of-type {\n",
       "        vertical-align: middle;\n",
       "    }\n",
       "\n",
       "    .dataframe tbody tr th {\n",
       "        vertical-align: top;\n",
       "    }\n",
       "\n",
       "    .dataframe thead th {\n",
       "        text-align: right;\n",
       "    }\n",
       "</style>\n",
       "<table border=\"1\" class=\"dataframe\">\n",
       "  <thead>\n",
       "    <tr style=\"text-align: right;\">\n",
       "      <th></th>\n",
       "      <th>start_date</th>\n",
       "      <th>start_station_code</th>\n",
       "      <th>end_date</th>\n",
       "      <th>end_station_code</th>\n",
       "      <th>duration_sec</th>\n",
       "      <th>is_member</th>\n",
       "      <th>latitude_start</th>\n",
       "      <th>longitude_start</th>\n",
       "      <th>latitude_end</th>\n",
       "      <th>longitude_end</th>\n",
       "      <th>year</th>\n",
       "      <th>month</th>\n",
       "      <th>start_day</th>\n",
       "      <th>start_hour</th>\n",
       "      <th>end_day</th>\n",
       "      <th>end_hour</th>\n",
       "    </tr>\n",
       "  </thead>\n",
       "  <tbody>\n",
       "    <tr>\n",
       "      <td>0</td>\n",
       "      <td>2014-04-15 00:01:00</td>\n",
       "      <td>6209</td>\n",
       "      <td>2014-04-15 00:18:00</td>\n",
       "      <td>6436</td>\n",
       "      <td>1061</td>\n",
       "      <td>1</td>\n",
       "      <td>45.512520</td>\n",
       "      <td>-73.570620</td>\n",
       "      <td>45.486452</td>\n",
       "      <td>-73.595234</td>\n",
       "      <td>2014</td>\n",
       "      <td>4</td>\n",
       "      <td>15</td>\n",
       "      <td>0</td>\n",
       "      <td>15</td>\n",
       "      <td>0</td>\n",
       "    </tr>\n",
       "    <tr>\n",
       "      <td>1</td>\n",
       "      <td>2014-04-15 00:01:00</td>\n",
       "      <td>6214</td>\n",
       "      <td>2014-04-15 00:11:00</td>\n",
       "      <td>6248</td>\n",
       "      <td>615</td>\n",
       "      <td>1</td>\n",
       "      <td>45.517350</td>\n",
       "      <td>-73.569060</td>\n",
       "      <td>45.518593</td>\n",
       "      <td>-73.581566</td>\n",
       "      <td>2014</td>\n",
       "      <td>4</td>\n",
       "      <td>15</td>\n",
       "      <td>0</td>\n",
       "      <td>15</td>\n",
       "      <td>0</td>\n",
       "    </tr>\n",
       "    <tr>\n",
       "      <td>2</td>\n",
       "      <td>2014-04-15 00:01:00</td>\n",
       "      <td>6164</td>\n",
       "      <td>2014-04-15 00:18:00</td>\n",
       "      <td>6216</td>\n",
       "      <td>1031</td>\n",
       "      <td>1</td>\n",
       "      <td>45.532955</td>\n",
       "      <td>-73.584194</td>\n",
       "      <td>45.514960</td>\n",
       "      <td>-73.585030</td>\n",
       "      <td>2014</td>\n",
       "      <td>4</td>\n",
       "      <td>15</td>\n",
       "      <td>0</td>\n",
       "      <td>15</td>\n",
       "      <td>0</td>\n",
       "    </tr>\n",
       "    <tr>\n",
       "      <td>3</td>\n",
       "      <td>2014-04-15 00:01:00</td>\n",
       "      <td>6214</td>\n",
       "      <td>2014-04-15 00:24:00</td>\n",
       "      <td>6082</td>\n",
       "      <td>1382</td>\n",
       "      <td>1</td>\n",
       "      <td>45.517350</td>\n",
       "      <td>-73.569060</td>\n",
       "      <td>45.550613</td>\n",
       "      <td>-73.582883</td>\n",
       "      <td>2014</td>\n",
       "      <td>4</td>\n",
       "      <td>15</td>\n",
       "      <td>0</td>\n",
       "      <td>15</td>\n",
       "      <td>0</td>\n",
       "    </tr>\n",
       "    <tr>\n",
       "      <td>4</td>\n",
       "      <td>2014-04-15 00:02:00</td>\n",
       "      <td>6149</td>\n",
       "      <td>2014-04-15 00:08:00</td>\n",
       "      <td>6265</td>\n",
       "      <td>347</td>\n",
       "      <td>1</td>\n",
       "      <td>45.538670</td>\n",
       "      <td>-73.569360</td>\n",
       "      <td>45.539259</td>\n",
       "      <td>-73.577338</td>\n",
       "      <td>2014</td>\n",
       "      <td>4</td>\n",
       "      <td>15</td>\n",
       "      <td>0</td>\n",
       "      <td>15</td>\n",
       "      <td>0</td>\n",
       "    </tr>\n",
       "  </tbody>\n",
       "</table>\n",
       "</div>"
      ],
      "text/plain": [
       "           start_date start_station_code            end_date end_station_code  \\\n",
       "0 2014-04-15 00:01:00               6209 2014-04-15 00:18:00             6436   \n",
       "1 2014-04-15 00:01:00               6214 2014-04-15 00:11:00             6248   \n",
       "2 2014-04-15 00:01:00               6164 2014-04-15 00:18:00             6216   \n",
       "3 2014-04-15 00:01:00               6214 2014-04-15 00:24:00             6082   \n",
       "4 2014-04-15 00:02:00               6149 2014-04-15 00:08:00             6265   \n",
       "\n",
       "   duration_sec  is_member  latitude_start  longitude_start  latitude_end  \\\n",
       "0          1061          1       45.512520       -73.570620     45.486452   \n",
       "1           615          1       45.517350       -73.569060     45.518593   \n",
       "2          1031          1       45.532955       -73.584194     45.514960   \n",
       "3          1382          1       45.517350       -73.569060     45.550613   \n",
       "4           347          1       45.538670       -73.569360     45.539259   \n",
       "\n",
       "   longitude_end  year  month  start_day  start_hour  end_day  end_hour  \n",
       "0     -73.595234  2014      4         15           0       15         0  \n",
       "1     -73.581566  2014      4         15           0       15         0  \n",
       "2     -73.585030  2014      4         15           0       15         0  \n",
       "3     -73.582883  2014      4         15           0       15         0  \n",
       "4     -73.577338  2014      4         15           0       15         0  "
      ]
     },
     "execution_count": 110,
     "metadata": {},
     "output_type": "execute_result"
    }
   ],
   "source": [
    "#create new columns for the day, hour, and year\n",
    "def split_date(col,df):\n",
    "    df['%s_day'%(col)] = df['%s_date'%(col)].apply(lambda x: x.day)\n",
    "    df['%s_hour'%(col)] = df['%s_date'%(col)].apply(lambda x: x.hour)\n",
    "    return df\n",
    "\n",
    "data['year'] = data['start_date'].apply(lambda x: x.year)\n",
    "data['month'] = data['start_date'].apply(lambda x: x.month)\n",
    "\n",
    "data = split_date('start', data)\n",
    "data = split_date('end', data)\n",
    "\n",
    "data.head()"
   ]
  },
  {
   "cell_type": "code",
   "execution_count": 111,
   "metadata": {},
   "outputs": [],
   "source": [
    "#save the combined set to pickle\n",
    "data.to_pickle(\"../combined_data\")"
   ]
  },
  {
   "cell_type": "markdown",
   "metadata": {},
   "source": [
    "# Load saved combined dataframe on restart"
   ]
  },
  {
   "cell_type": "markdown",
   "metadata": {},
   "source": [
    "Run first cell to import libraries and then only this cell onwards to save time. "
   ]
  },
  {
   "cell_type": "code",
   "execution_count": 112,
   "metadata": {},
   "outputs": [],
   "source": [
    "#start from here on restart of notebook - loads the combined dataset\n",
    "data = pd.read_pickle(\"../combined_data\")"
   ]
  },
  {
   "cell_type": "markdown",
   "metadata": {},
   "source": [
    "# Time evolution of BIXI use"
   ]
  },
  {
   "cell_type": "code",
   "execution_count": 78,
   "metadata": {},
   "outputs": [
    {
     "data": {
      "text/html": [
       "<div>\n",
       "<style scoped>\n",
       "    .dataframe tbody tr th:only-of-type {\n",
       "        vertical-align: middle;\n",
       "    }\n",
       "\n",
       "    .dataframe tbody tr th {\n",
       "        vertical-align: top;\n",
       "    }\n",
       "\n",
       "    .dataframe thead th {\n",
       "        text-align: right;\n",
       "    }\n",
       "</style>\n",
       "<table border=\"1\" class=\"dataframe\">\n",
       "  <thead>\n",
       "    <tr style=\"text-align: right;\">\n",
       "      <th></th>\n",
       "      <th>start_year</th>\n",
       "      <th>start_station_code</th>\n",
       "      <th>counts</th>\n",
       "    </tr>\n",
       "  </thead>\n",
       "  <tbody>\n",
       "    <tr>\n",
       "      <td>0</td>\n",
       "      <td>2014</td>\n",
       "      <td>5002</td>\n",
       "      <td>254</td>\n",
       "    </tr>\n",
       "    <tr>\n",
       "      <td>1</td>\n",
       "      <td>2014</td>\n",
       "      <td>5003</td>\n",
       "      <td>202</td>\n",
       "    </tr>\n",
       "    <tr>\n",
       "      <td>2</td>\n",
       "      <td>2014</td>\n",
       "      <td>5004</td>\n",
       "      <td>187</td>\n",
       "    </tr>\n",
       "    <tr>\n",
       "      <td>3</td>\n",
       "      <td>2014</td>\n",
       "      <td>5005</td>\n",
       "      <td>475</td>\n",
       "    </tr>\n",
       "    <tr>\n",
       "      <td>4</td>\n",
       "      <td>2014</td>\n",
       "      <td>5006</td>\n",
       "      <td>325</td>\n",
       "    </tr>\n",
       "  </tbody>\n",
       "</table>\n",
       "</div>"
      ],
      "text/plain": [
       "   start_year start_station_code  counts\n",
       "0        2014               5002     254\n",
       "1        2014               5003     202\n",
       "2        2014               5004     187\n",
       "3        2014               5005     475\n",
       "4        2014               5006     325"
      ]
     },
     "execution_count": 78,
     "metadata": {},
     "output_type": "execute_result"
    }
   ],
   "source": [
    "#station use count\n",
    "station_use = data.groupby(['year','start_station_code']).size().reset_index(name='counts')\n",
    "station_use.head()"
   ]
  },
  {
   "cell_type": "code",
   "execution_count": 89,
   "metadata": {},
   "outputs": [
    {
     "data": {
      "image/png": "[encoded data removed]",
      "text/plain": [
       "<Figure size 432x288 with 2 Axes>"
      ]
     },
     "metadata": {
      "needs_background": "light"
     },
     "output_type": "display_data"
    }
   ],
   "source": [
    "plot = station_use.pivot('year', 'start_station_code', 'counts')\n",
    "sns.heatmap(plot.iloc[:,0:50], linewidth=0.5, cmap=sns.cubehelix_palette(8, start=.5, rot=-.75))\n",
    "plt.show()"
   ]
  },
  {
   "cell_type": "markdown",
   "metadata": {},
   "source": [
    "***Not an efficient way to plot since can only fit a few stations in one heatmap***"
   ]
  },
  {
   "cell_type": "markdown",
   "metadata": {},
   "source": [
    "Instead: look at most popular stations regardless of year, then analyse time dependence once filter for the stations with the highest use"
   ]
  },
  {
   "cell_type": "code",
   "execution_count": 101,
   "metadata": {},
   "outputs": [
    {
     "data": {
      "text/plain": [
       "[<matplotlib.lines.Line2D at 0x250dacf4d88>]"
      ]
     },
     "execution_count": 101,
     "metadata": {},
     "output_type": "execute_result"
    },
    {
     "data": {
      "image/png": "[encoded data removed]",
      "text/plain": [
       "<Figure size 432x288 with 1 Axes>"
      ]
     },
     "metadata": {
      "needs_background": "light"
     },
     "output_type": "display_data"
    }
   ],
   "source": [
    "#number of stations\n",
    "station_count = station_use.groupby('year').size().reset_index(name='num_stat')\n",
    "plt.plot(station_count.start_year, station_count.num_stat)"
   ]
  },
  {
   "cell_type": "code",
   "execution_count": 100,
   "metadata": {},
   "outputs": [
    {
     "data": {
      "text/plain": [
       "[<matplotlib.lines.Line2D at 0x250dd977948>]"
      ]
     },
     "execution_count": 100,
     "metadata": {},
     "output_type": "execute_result"
    },
    {
     "data": {
      "image/png": "[encoded data removed]",
      "text/plain": [
       "<Figure size 432x288 with 1 Axes>"
      ]
     },
     "metadata": {
      "needs_background": "light"
     },
     "output_type": "display_data"
    }
   ],
   "source": [
    "#total number of trips\n",
    "trips = station_use.groupby('year').sum()\n",
    "plt.plot(trips.index, trips.counts)"
   ]
  },
  {
   "cell_type": "code",
   "execution_count": 118,
   "metadata": {},
   "outputs": [
    {
     "data": {
      "text/plain": [
       "[<matplotlib.lines.Line2D at 0x250d96ef048>]"
      ]
     },
     "execution_count": 118,
     "metadata": {},
     "output_type": "execute_result"
    },
    {
     "data": {
      "image/png": "[encoded data removed]",
      "text/plain": [
       "<Figure size 432x288 with 1 Axes>"
      ]
     },
     "metadata": {
      "needs_background": "light"
     },
     "output_type": "display_data"
    }
   ],
   "source": [
    "#use by month (averaged over the years)\n",
    "monthly = data.groupby(['month','year']).size().reset_index(name='trips_per_month')\n",
    "monthly = monthly[['month','trips_per_month']].groupby('month').mean()\n",
    "plt.plot(monthly.index, monthly.trips_per_month)"
   ]
  },
  {
   "cell_type": "code",
   "execution_count": null,
   "metadata": {},
   "outputs": [],
   "source": [
    "#ride duration\n"
   ]
  }
 ],
 "metadata": {
  "kernelspec": {
   "display_name": "Python 3",
   "language": "python",
   "name": "python3"
  },
  "language_info": {
   "codemirror_mode": {
    "name": "ipython",
    "version": 3
   },
   "file_extension": ".py",
   "mimetype": "text/x-python",
   "name": "python",
   "nbconvert_exporter": "python",
   "pygments_lexer": "ipython3",
   "version": "3.7.4"
  }
 },
 "nbformat": 4,
 "nbformat_minor": 2
}
