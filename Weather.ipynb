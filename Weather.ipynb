{
 "cells": [
  {
   "cell_type": "markdown",
   "metadata": {},
   "source": [
    "# Influence of Weather on the bixi system\n",
    "\n",
    "The purpose of this notebook is to make correlation and draw conclusion between weather factors and bike use. We'll try to suppress other factors (such as increasing popularity of bikeshare, increasing number of bike, ...) as much as possible."
   ]
  },
  {
   "cell_type": "markdown",
   "metadata": {},
   "source": [
    "# Increasing popularity of the bixi system\n",
    "\n",
    "Let's visualise the evolution of the utilisation of the bike. In the following cells, we import the data and create a useful dataset for the analysis."
   ]
  },
  {
   "cell_type": "code",
   "execution_count": 1,
   "metadata": {},
   "outputs": [],
   "source": [
    "%matplotlib inline\n",
    "import re\n",
    "import datetime\n",
    "import pandas as pd\n",
    "import numpy as np\n",
    "import matplotlib.pyplot as plt\n",
    "import matplotlib.dates as mdates\n",
    "from requests import get\n",
    "from bs4 import BeautifulSoup\n",
    "from matplotlib.ticker import MaxNLocator"
   ]
  },
  {
   "cell_type": "code",
   "execution_count": 2,
   "metadata": {},
   "outputs": [
    {
     "data": {
      "text/html": [
       "<div>\n",
       "<style scoped>\n",
       "    .dataframe tbody tr th:only-of-type {\n",
       "        vertical-align: middle;\n",
       "    }\n",
       "\n",
       "    .dataframe tbody tr th {\n",
       "        vertical-align: top;\n",
       "    }\n",
       "\n",
       "    .dataframe thead th {\n",
       "        text-align: right;\n",
       "    }\n",
       "</style>\n",
       "<table border=\"1\" class=\"dataframe\">\n",
       "  <thead>\n",
       "    <tr style=\"text-align: right;\">\n",
       "      <th></th>\n",
       "      <th>start_date</th>\n",
       "      <th>start_station_code</th>\n",
       "      <th>end_date</th>\n",
       "      <th>end_station_code</th>\n",
       "      <th>duration_sec</th>\n",
       "      <th>is_member</th>\n",
       "      <th>latitude_start</th>\n",
       "      <th>longitude_start</th>\n",
       "      <th>latitude_end</th>\n",
       "      <th>longitude_end</th>\n",
       "      <th>year</th>\n",
       "      <th>month</th>\n",
       "      <th>start_day</th>\n",
       "      <th>start_hour</th>\n",
       "      <th>end_day</th>\n",
       "      <th>end_hour</th>\n",
       "      <th>distance</th>\n",
       "    </tr>\n",
       "  </thead>\n",
       "  <tbody>\n",
       "    <tr>\n",
       "      <td>0</td>\n",
       "      <td>2014-04-15 00:01:00</td>\n",
       "      <td>6209</td>\n",
       "      <td>2014-04-15 00:18:00</td>\n",
       "      <td>6436</td>\n",
       "      <td>1061</td>\n",
       "      <td>1</td>\n",
       "      <td>45.512520</td>\n",
       "      <td>-73.570620</td>\n",
       "      <td>45.486452</td>\n",
       "      <td>-73.595234</td>\n",
       "      <td>2014</td>\n",
       "      <td>4</td>\n",
       "      <td>15</td>\n",
       "      <td>0</td>\n",
       "      <td>15</td>\n",
       "      <td>0</td>\n",
       "      <td>3.475949</td>\n",
       "    </tr>\n",
       "    <tr>\n",
       "      <td>1</td>\n",
       "      <td>2014-04-15 00:01:00</td>\n",
       "      <td>6214</td>\n",
       "      <td>2014-04-15 00:11:00</td>\n",
       "      <td>6248</td>\n",
       "      <td>615</td>\n",
       "      <td>1</td>\n",
       "      <td>45.517350</td>\n",
       "      <td>-73.569060</td>\n",
       "      <td>45.518593</td>\n",
       "      <td>-73.581566</td>\n",
       "      <td>2014</td>\n",
       "      <td>4</td>\n",
       "      <td>15</td>\n",
       "      <td>0</td>\n",
       "      <td>15</td>\n",
       "      <td>0</td>\n",
       "      <td>0.984131</td>\n",
       "    </tr>\n",
       "    <tr>\n",
       "      <td>2</td>\n",
       "      <td>2014-04-15 00:01:00</td>\n",
       "      <td>6164</td>\n",
       "      <td>2014-04-15 00:18:00</td>\n",
       "      <td>6216</td>\n",
       "      <td>1031</td>\n",
       "      <td>1</td>\n",
       "      <td>45.532955</td>\n",
       "      <td>-73.584194</td>\n",
       "      <td>45.514960</td>\n",
       "      <td>-73.585030</td>\n",
       "      <td>2014</td>\n",
       "      <td>4</td>\n",
       "      <td>15</td>\n",
       "      <td>0</td>\n",
       "      <td>15</td>\n",
       "      <td>0</td>\n",
       "      <td>2.002019</td>\n",
       "    </tr>\n",
       "    <tr>\n",
       "      <td>3</td>\n",
       "      <td>2014-04-15 00:01:00</td>\n",
       "      <td>6214</td>\n",
       "      <td>2014-04-15 00:24:00</td>\n",
       "      <td>6082</td>\n",
       "      <td>1382</td>\n",
       "      <td>1</td>\n",
       "      <td>45.517350</td>\n",
       "      <td>-73.569060</td>\n",
       "      <td>45.550613</td>\n",
       "      <td>-73.582883</td>\n",
       "      <td>2014</td>\n",
       "      <td>4</td>\n",
       "      <td>15</td>\n",
       "      <td>0</td>\n",
       "      <td>15</td>\n",
       "      <td>0</td>\n",
       "      <td>3.852206</td>\n",
       "    </tr>\n",
       "    <tr>\n",
       "      <td>4</td>\n",
       "      <td>2014-04-15 00:02:00</td>\n",
       "      <td>6149</td>\n",
       "      <td>2014-04-15 00:08:00</td>\n",
       "      <td>6265</td>\n",
       "      <td>347</td>\n",
       "      <td>1</td>\n",
       "      <td>45.538670</td>\n",
       "      <td>-73.569360</td>\n",
       "      <td>45.539259</td>\n",
       "      <td>-73.577338</td>\n",
       "      <td>2014</td>\n",
       "      <td>4</td>\n",
       "      <td>15</td>\n",
       "      <td>0</td>\n",
       "      <td>15</td>\n",
       "      <td>0</td>\n",
       "      <td>0.624798</td>\n",
       "    </tr>\n",
       "  </tbody>\n",
       "</table>\n",
       "</div>"
      ],
      "text/plain": [
       "           start_date start_station_code            end_date end_station_code  \\\n",
       "0 2014-04-15 00:01:00               6209 2014-04-15 00:18:00             6436   \n",
       "1 2014-04-15 00:01:00               6214 2014-04-15 00:11:00             6248   \n",
       "2 2014-04-15 00:01:00               6164 2014-04-15 00:18:00             6216   \n",
       "3 2014-04-15 00:01:00               6214 2014-04-15 00:24:00             6082   \n",
       "4 2014-04-15 00:02:00               6149 2014-04-15 00:08:00             6265   \n",
       "\n",
       "   duration_sec  is_member  latitude_start  longitude_start  latitude_end  \\\n",
       "0          1061          1       45.512520       -73.570620     45.486452   \n",
       "1           615          1       45.517350       -73.569060     45.518593   \n",
       "2          1031          1       45.532955       -73.584194     45.514960   \n",
       "3          1382          1       45.517350       -73.569060     45.550613   \n",
       "4           347          1       45.538670       -73.569360     45.539259   \n",
       "\n",
       "   longitude_end  year  month  start_day  start_hour  end_day  end_hour  \\\n",
       "0     -73.595234  2014      4         15           0       15         0   \n",
       "1     -73.581566  2014      4         15           0       15         0   \n",
       "2     -73.585030  2014      4         15           0       15         0   \n",
       "3     -73.582883  2014      4         15           0       15         0   \n",
       "4     -73.577338  2014      4         15           0       15         0   \n",
       "\n",
       "   distance  \n",
       "0  3.475949  \n",
       "1  0.984131  \n",
       "2  2.002019  \n",
       "3  3.852206  \n",
       "4  0.624798  "
      ]
     },
     "execution_count": 2,
     "metadata": {},
     "output_type": "execute_result"
    }
   ],
   "source": [
    "# Do not run this cell\n",
    "\n",
    "# loads the combined dataset\n",
    "data = pd.read_pickle(\"../combined_data\")\n",
    "data.head()"
   ]
  },
  {
   "cell_type": "markdown",
   "metadata": {},
   "source": [
    "### Creation of a daily dataframe"
   ]
  },
  {
   "cell_type": "code",
   "execution_count": 3,
   "metadata": {},
   "outputs": [
    {
     "name": "stderr",
     "output_type": "stream",
     "text": [
      "C:\\Users\\Ariane Acer\\Anaconda3\\lib\\site-packages\\pandas\\core\\generic.py:5208: SettingWithCopyWarning: \n",
      "A value is trying to be set on a copy of a slice from a DataFrame.\n",
      "Try using .loc[row_indexer,col_indexer] = value instead\n",
      "\n",
      "See the caveats in the documentation: http://pandas.pydata.org/pandas-docs/stable/user_guide/indexing.html#returning-a-view-versus-a-copy\n",
      "  self[name] = value\n"
     ]
    },
    {
     "data": {
      "text/html": [
       "<div>\n",
       "<style scoped>\n",
       "    .dataframe tbody tr th:only-of-type {\n",
       "        vertical-align: middle;\n",
       "    }\n",
       "\n",
       "    .dataframe tbody tr th {\n",
       "        vertical-align: top;\n",
       "    }\n",
       "\n",
       "    .dataframe thead th {\n",
       "        text-align: right;\n",
       "    }\n",
       "</style>\n",
       "<table border=\"1\" class=\"dataframe\">\n",
       "  <thead>\n",
       "    <tr style=\"text-align: right;\">\n",
       "      <th></th>\n",
       "      <th>date</th>\n",
       "    </tr>\n",
       "  </thead>\n",
       "  <tbody>\n",
       "    <tr>\n",
       "      <td>0</td>\n",
       "      <td>2014-04-15</td>\n",
       "    </tr>\n",
       "    <tr>\n",
       "      <td>1</td>\n",
       "      <td>2014-04-15</td>\n",
       "    </tr>\n",
       "    <tr>\n",
       "      <td>2</td>\n",
       "      <td>2014-04-15</td>\n",
       "    </tr>\n",
       "    <tr>\n",
       "      <td>3</td>\n",
       "      <td>2014-04-15</td>\n",
       "    </tr>\n",
       "    <tr>\n",
       "      <td>4</td>\n",
       "      <td>2014-04-15</td>\n",
       "    </tr>\n",
       "  </tbody>\n",
       "</table>\n",
       "</div>"
      ],
      "text/plain": [
       "        date\n",
       "0 2014-04-15\n",
       "1 2014-04-15\n",
       "2 2014-04-15\n",
       "3 2014-04-15\n",
       "4 2014-04-15"
      ]
     },
     "execution_count": 3,
     "metadata": {},
     "output_type": "execute_result"
    }
   ],
   "source": [
    "# Do not run this cell\n",
    "\n",
    "# We keep only date, using the start date as the reference date.\n",
    "df = data[['year','month','start_day']]\n",
    "df.year = df.year.map(str) + '-' + df.month.map(str) + '-' + df.start_day.map(str)\n",
    "df = df[['year']]\n",
    "\n",
    "# Conversion of date to datetime\n",
    "df['datetime'] = df.apply(lambda row: datetime.datetime.strptime(row['year'], '%Y-%m-%d'), axis=1)\n",
    "\n",
    "df = df[['datetime']]\n",
    "df = df.rename(columns={'datetime': 'date'})\n",
    "\n",
    "#Number of biketravel per day\n",
    "Daily_BikeCount = df.groupby(['date']).size().reset_index(name='count')"
   ]
  },
  {
   "cell_type": "markdown",
   "metadata": {},
   "source": [
    "Some dates are missing, as bike service is closed from the 1rst of October to the 15th of April.\n",
    "We fill the hole with 0 by creating another dataset named calendar."
   ]
  },
  {
   "cell_type": "code",
   "execution_count": 2,
   "metadata": {},
   "outputs": [],
   "source": [
    "# create an array of 1995 dates starting at '2014-04-15', one per day\n",
    "rng = pd.date_range('2014-04-15', periods=1995, freq='D')\n",
    "calendar = pd.DataFrame({ 'date': rng, 'Count' : 0 }) "
   ]
  },
  {
   "cell_type": "code",
   "execution_count": 6,
   "metadata": {},
   "outputs": [],
   "source": [
    "# Do not run this cell\n",
    "\n",
    "# We merge the two dataframe in order to include missing date\n",
    "Daily_BikeTravel = pd.merge(Daily_BikeCount, calendar, how='outer', on=None, left_on='date', right_on='date',\n",
    "         left_index=False, right_index=False, sort=True,\n",
    "         suffixes=('_x', '_y'), copy=True, indicator=False,\n",
    "         validate=None)\n",
    "\n",
    "Daily_BikeTravel.drop(['Count'],axis='columns', inplace=True)\n",
    "\n",
    "# We fill the missing values\n",
    "Daily_BikeTravel = Daily_BikeTravel.fillna(0)\n",
    "\n",
    "# save the file to pickle because it takes too much time\n",
    "Daily_BikeTravel.to_pickle(\"../DailyBikeTravel\") "
   ]
  },
  {
   "cell_type": "code",
   "execution_count": 3,
   "metadata": {},
   "outputs": [
    {
     "data": {
      "text/html": [
       "<div>\n",
       "<style scoped>\n",
       "    .dataframe tbody tr th:only-of-type {\n",
       "        vertical-align: middle;\n",
       "    }\n",
       "\n",
       "    .dataframe tbody tr th {\n",
       "        vertical-align: top;\n",
       "    }\n",
       "\n",
       "    .dataframe thead th {\n",
       "        text-align: right;\n",
       "    }\n",
       "</style>\n",
       "<table border=\"1\" class=\"dataframe\">\n",
       "  <thead>\n",
       "    <tr style=\"text-align: right;\">\n",
       "      <th></th>\n",
       "      <th>date</th>\n",
       "      <th>count</th>\n",
       "    </tr>\n",
       "  </thead>\n",
       "  <tbody>\n",
       "    <tr>\n",
       "      <td>0</td>\n",
       "      <td>2014-04-15</td>\n",
       "      <td>1577.0</td>\n",
       "    </tr>\n",
       "    <tr>\n",
       "      <td>1</td>\n",
       "      <td>2014-04-16</td>\n",
       "      <td>3180.0</td>\n",
       "    </tr>\n",
       "    <tr>\n",
       "      <td>2</td>\n",
       "      <td>2014-04-17</td>\n",
       "      <td>5852.0</td>\n",
       "    </tr>\n",
       "    <tr>\n",
       "      <td>3</td>\n",
       "      <td>2014-04-18</td>\n",
       "      <td>5325.0</td>\n",
       "    </tr>\n",
       "    <tr>\n",
       "      <td>4</td>\n",
       "      <td>2014-04-19</td>\n",
       "      <td>6031.0</td>\n",
       "    </tr>\n",
       "  </tbody>\n",
       "</table>\n",
       "</div>"
      ],
      "text/plain": [
       "        date   count\n",
       "0 2014-04-15  1577.0\n",
       "1 2014-04-16  3180.0\n",
       "2 2014-04-17  5852.0\n",
       "3 2014-04-18  5325.0\n",
       "4 2014-04-19  6031.0"
      ]
     },
     "execution_count": 3,
     "metadata": {},
     "output_type": "execute_result"
    }
   ],
   "source": [
    "Daily_BikeTravel = pd.read_pickle(\"../DailyBikeTravel\")\n",
    "Daily_BikeTravel.head()"
   ]
  },
  {
   "cell_type": "markdown",
   "metadata": {},
   "source": [
    "We plot the evolution of bike use over time."
   ]
  },
  {
   "cell_type": "code",
   "execution_count": 4,
   "metadata": {},
   "outputs": [
    {
     "name": "stderr",
     "output_type": "stream",
     "text": [
      "C:\\Users\\Ariane Acer\\Anaconda3\\lib\\site-packages\\pandas\\plotting\\_matplotlib\\converter.py:103: FutureWarning: Using an implicitly registered datetime converter for a matplotlib plotting method. The converter was registered by pandas on import. Future versions of pandas will require you to explicitly register matplotlib converters.\n",
      "\n",
      "To register the converters:\n",
      "\t>>> from pandas.plotting import register_matplotlib_converters\n",
      "\t>>> register_matplotlib_converters()\n",
      "  warnings.warn(msg, FutureWarning)\n"
     ]
    },
    {
     "data": {
      "text/plain": [
       "Text(0, 0.5, 'number of 10^4 bike travel of the day ')"
      ]
     },
     "execution_count": 4,
     "metadata": {},
     "output_type": "execute_result"
    },
    {
     "data": {
      "image/png": "[encoded data removed]",
      "text/plain": [
       "<Figure size 432x288 with 1 Axes>"
      ]
     },
     "metadata": {
      "needs_background": "light"
     },
     "output_type": "display_data"
    }
   ],
   "source": [
    "plt.plot(Daily_BikeTravel['date'],Daily_BikeTravel['count']/10000)\n",
    "plt.xticks(rotation = 45);\n",
    "\n",
    "axes = plt.gca()\n",
    "axes.set_xlabel('date')\n",
    "axes.set_ylabel('number of 10^4 bike travel of the day ')"
   ]
  },
  {
   "cell_type": "markdown",
   "metadata": {},
   "source": [
    "### Creation of a monthly dataset\n",
    "\n",
    "The same plot can be done considering only month."
   ]
  },
  {
   "cell_type": "code",
   "execution_count": 7,
   "metadata": {},
   "outputs": [
    {
     "name": "stderr",
     "output_type": "stream",
     "text": [
      "C:\\Users\\Ariane Acer\\Anaconda3\\lib\\site-packages\\pandas\\core\\generic.py:5208: SettingWithCopyWarning: \n",
      "A value is trying to be set on a copy of a slice from a DataFrame.\n",
      "Try using .loc[row_indexer,col_indexer] = value instead\n",
      "\n",
      "See the caveats in the documentation: http://pandas.pydata.org/pandas-docs/stable/user_guide/indexing.html#returning-a-view-versus-a-copy\n",
      "  self[name] = value\n"
     ]
    }
   ],
   "source": [
    "# Do not run this cell\n",
    "\n",
    "# Number of biketravel per month\n",
    "df = data[['year','month','start_day']]\n",
    "df.year = df.year.map(str) + '-' + df.month.map(str)\n",
    "df = df[['year']]\n",
    "\n",
    "# Conversion to datetime\n",
    "df['datetime'] = df.apply(lambda row: datetime.datetime.strptime(row['year'], '%Y-%m'), axis=1)\n",
    "\n",
    "df = df[['datetime']]\n",
    "df = df.rename(columns={'datetime': 'date'})\n",
    "\n",
    "# Number of bike per month\n",
    "Monthly_BikeCount = df.groupby(['date']).size().reset_index(name='count')"
   ]
  },
  {
   "cell_type": "code",
   "execution_count": 5,
   "metadata": {},
   "outputs": [],
   "source": [
    "# create an array of 66 dates starting at '2014-04', one per month\n",
    "month_rng = pd.date_range('2014-04', periods=66, freq='MS')\n",
    "month_calendar = pd.DataFrame({ 'date': month_rng, 'Count' : 0 }) "
   ]
  },
  {
   "cell_type": "code",
   "execution_count": 10,
   "metadata": {},
   "outputs": [],
   "source": [
    "# Do not run this cell\n",
    "\n",
    "# We merge the two dataframe in order to include missing date\n",
    "Monthly_BikeTravel = pd.merge(Monthly_BikeCount, month_calendar, how='outer', on=None, left_on='date', \n",
    "                              right_on='date', left_index=False, right_index=False, sort=True, \n",
    "                              suffixes=('_x', '_y'), copy=True, indicator=False, validate=None)\n",
    "\n",
    "Monthly_BikeTravel.drop(['Count'],axis='columns', inplace=True)\n",
    "\n",
    "# We fill the missing values\n",
    "Monthly_BikeTravel = Monthly_BikeTravel.fillna(0)\n",
    "\n",
    "# save the file to pickle because it takes too much time\n",
    "Monthly_BikeTravel.to_pickle(\"../MonthlyBikeTravel\")"
   ]
  },
  {
   "cell_type": "code",
   "execution_count": 6,
   "metadata": {},
   "outputs": [
    {
     "data": {
      "text/html": [
       "<div>\n",
       "<style scoped>\n",
       "    .dataframe tbody tr th:only-of-type {\n",
       "        vertical-align: middle;\n",
       "    }\n",
       "\n",
       "    .dataframe tbody tr th {\n",
       "        vertical-align: top;\n",
       "    }\n",
       "\n",
       "    .dataframe thead th {\n",
       "        text-align: right;\n",
       "    }\n",
       "</style>\n",
       "<table border=\"1\" class=\"dataframe\">\n",
       "  <thead>\n",
       "    <tr style=\"text-align: right;\">\n",
       "      <th></th>\n",
       "      <th>date</th>\n",
       "      <th>count</th>\n",
       "    </tr>\n",
       "  </thead>\n",
       "  <tbody>\n",
       "    <tr>\n",
       "      <td>0</td>\n",
       "      <td>2014-04-01</td>\n",
       "      <td>108264.0</td>\n",
       "    </tr>\n",
       "    <tr>\n",
       "      <td>1</td>\n",
       "      <td>2014-05-01</td>\n",
       "      <td>455261.0</td>\n",
       "    </tr>\n",
       "    <tr>\n",
       "      <td>2</td>\n",
       "      <td>2014-06-01</td>\n",
       "      <td>525863.0</td>\n",
       "    </tr>\n",
       "    <tr>\n",
       "      <td>3</td>\n",
       "      <td>2014-07-01</td>\n",
       "      <td>569352.0</td>\n",
       "    </tr>\n",
       "    <tr>\n",
       "      <td>4</td>\n",
       "      <td>2014-08-01</td>\n",
       "      <td>556780.0</td>\n",
       "    </tr>\n",
       "  </tbody>\n",
       "</table>\n",
       "</div>"
      ],
      "text/plain": [
       "        date     count\n",
       "0 2014-04-01  108264.0\n",
       "1 2014-05-01  455261.0\n",
       "2 2014-06-01  525863.0\n",
       "3 2014-07-01  569352.0\n",
       "4 2014-08-01  556780.0"
      ]
     },
     "execution_count": 6,
     "metadata": {},
     "output_type": "execute_result"
    }
   ],
   "source": [
    "Monthly_BikeTravel = pd.read_pickle(\"../MonthlyBikeTravel\")\n",
    "Monthly_BikeTravel.head()"
   ]
  },
  {
   "cell_type": "code",
   "execution_count": 7,
   "metadata": {},
   "outputs": [
    {
     "data": {
      "text/plain": [
       "Text(0, 0.5, 'number of 10^4 bike travel of the month ')"
      ]
     },
     "execution_count": 7,
     "metadata": {},
     "output_type": "execute_result"
    },
    {
     "data": {
      "image/png": "[encoded data removed]",
      "text/plain": [
       "<Figure size 432x288 with 1 Axes>"
      ]
     },
     "metadata": {
      "needs_background": "light"
     },
     "output_type": "display_data"
    }
   ],
   "source": [
    "Monthly_graph = plt.plot(Monthly_BikeTravel['date'],Monthly_BikeTravel['count']/10000)\n",
    "plt.xticks(rotation = 45);\n",
    "\n",
    "axes = plt.gca()\n",
    "axes.set_xlabel('date')\n",
    "axes.set_ylabel('number of 10^4 bike travel of the month ')"
   ]
  },
  {
   "cell_type": "markdown",
   "metadata": {},
   "source": [
    "We clearly see the effect of the cycle of season.\n",
    "Bikes are not used between november and april.\n",
    "Also as expected, bikes are more and more used."
   ]
  },
  {
   "cell_type": "markdown",
   "metadata": {},
   "source": [
    "## Normalization of the data"
   ]
  },
  {
   "cell_type": "markdown",
   "metadata": {},
   "source": [
    "To try to suppress this tendency, we normalize the number of bike travel by the number of bike travel per year."
   ]
  },
  {
   "cell_type": "code",
   "execution_count": 13,
   "metadata": {},
   "outputs": [],
   "source": [
    "# Do not run this cell\n",
    "\n",
    "# Number of biketravel per year\n",
    "df = data[['year','month','start_day']]\n",
    "df.year = df.year.map(str)\n",
    "df = df[['year']]\n",
    "\n",
    "# Conversion to datetime\n",
    "df['datetime'] = df.apply(lambda row: datetime.datetime.strptime(row['year'], '%Y'), axis=1)\n",
    "\n",
    "df = df[['datetime']]\n",
    "df = df.rename(columns={'datetime': 'date'})\n",
    "\n",
    "# Number of bike per year\n",
    "Annual_BikeTravel = df.groupby(['date']).size().reset_index(name='count')\n",
    "\n",
    "# save the file to pickle because it takes too much time\n",
    "Annual_BikeTravel.to_pickle(\"../Annual_BikeTravel\") # where to save it usually as a .plk"
   ]
  },
  {
   "cell_type": "code",
   "execution_count": 8,
   "metadata": {},
   "outputs": [
    {
     "data": {
      "text/html": [
       "<div>\n",
       "<style scoped>\n",
       "    .dataframe tbody tr th:only-of-type {\n",
       "        vertical-align: middle;\n",
       "    }\n",
       "\n",
       "    .dataframe tbody tr th {\n",
       "        vertical-align: top;\n",
       "    }\n",
       "\n",
       "    .dataframe thead th {\n",
       "        text-align: right;\n",
       "    }\n",
       "</style>\n",
       "<table border=\"1\" class=\"dataframe\">\n",
       "  <thead>\n",
       "    <tr style=\"text-align: right;\">\n",
       "      <th></th>\n",
       "      <th>date</th>\n",
       "      <th>count</th>\n",
       "    </tr>\n",
       "  </thead>\n",
       "  <tbody>\n",
       "    <tr>\n",
       "      <td>0</td>\n",
       "      <td>2014-01-01</td>\n",
       "      <td>3136276</td>\n",
       "    </tr>\n",
       "    <tr>\n",
       "      <td>1</td>\n",
       "      <td>2015-01-01</td>\n",
       "      <td>3443883</td>\n",
       "    </tr>\n",
       "    <tr>\n",
       "      <td>2</td>\n",
       "      <td>2016-01-01</td>\n",
       "      <td>4000080</td>\n",
       "    </tr>\n",
       "    <tr>\n",
       "      <td>3</td>\n",
       "      <td>2017-01-01</td>\n",
       "      <td>4740357</td>\n",
       "    </tr>\n",
       "    <tr>\n",
       "      <td>4</td>\n",
       "      <td>2018-01-01</td>\n",
       "      <td>5277541</td>\n",
       "    </tr>\n",
       "    <tr>\n",
       "      <td>5</td>\n",
       "      <td>2019-01-01</td>\n",
       "      <td>4980650</td>\n",
       "    </tr>\n",
       "  </tbody>\n",
       "</table>\n",
       "</div>"
      ],
      "text/plain": [
       "        date    count\n",
       "0 2014-01-01  3136276\n",
       "1 2015-01-01  3443883\n",
       "2 2016-01-01  4000080\n",
       "3 2017-01-01  4740357\n",
       "4 2018-01-01  5277541\n",
       "5 2019-01-01  4980650"
      ]
     },
     "execution_count": 8,
     "metadata": {},
     "output_type": "execute_result"
    }
   ],
   "source": [
    "Annual_BikeTravel = pd.read_pickle(\"../Annual_BikeTravel\")\n",
    "Annual_BikeTravel"
   ]
  },
  {
   "cell_type": "code",
   "execution_count": 9,
   "metadata": {},
   "outputs": [
    {
     "name": "stderr",
     "output_type": "stream",
     "text": [
      "C:\\Users\\Ariane Acer\\Anaconda3\\lib\\site-packages\\ipykernel_launcher.py:3: SettingWithCopyWarning: \n",
      "A value is trying to be set on a copy of a slice from a DataFrame.\n",
      "Try using .loc[row_indexer,col_indexer] = value instead\n",
      "\n",
      "See the caveats in the documentation: http://pandas.pydata.org/pandas-docs/stable/user_guide/indexing.html#returning-a-view-versus-a-copy\n",
      "  This is separate from the ipykernel package so we can avoid doing imports until\n",
      "C:\\Users\\Ariane Acer\\Anaconda3\\lib\\site-packages\\ipykernel_launcher.py:8: SettingWithCopyWarning: \n",
      "A value is trying to be set on a copy of a slice from a DataFrame.\n",
      "Try using .loc[row_indexer,col_indexer] = value instead\n",
      "\n",
      "See the caveats in the documentation: http://pandas.pydata.org/pandas-docs/stable/user_guide/indexing.html#returning-a-view-versus-a-copy\n",
      "  \n",
      "C:\\Users\\Ariane Acer\\Anaconda3\\lib\\site-packages\\ipykernel_launcher.py:13: SettingWithCopyWarning: \n",
      "A value is trying to be set on a copy of a slice from a DataFrame.\n",
      "Try using .loc[row_indexer,col_indexer] = value instead\n",
      "\n",
      "See the caveats in the documentation: http://pandas.pydata.org/pandas-docs/stable/user_guide/indexing.html#returning-a-view-versus-a-copy\n",
      "  del sys.path[0]\n",
      "C:\\Users\\Ariane Acer\\Anaconda3\\lib\\site-packages\\ipykernel_launcher.py:18: SettingWithCopyWarning: \n",
      "A value is trying to be set on a copy of a slice from a DataFrame.\n",
      "Try using .loc[row_indexer,col_indexer] = value instead\n",
      "\n",
      "See the caveats in the documentation: http://pandas.pydata.org/pandas-docs/stable/user_guide/indexing.html#returning-a-view-versus-a-copy\n",
      "C:\\Users\\Ariane Acer\\Anaconda3\\lib\\site-packages\\ipykernel_launcher.py:23: SettingWithCopyWarning: \n",
      "A value is trying to be set on a copy of a slice from a DataFrame.\n",
      "Try using .loc[row_indexer,col_indexer] = value instead\n",
      "\n",
      "See the caveats in the documentation: http://pandas.pydata.org/pandas-docs/stable/user_guide/indexing.html#returning-a-view-versus-a-copy\n",
      "C:\\Users\\Ariane Acer\\Anaconda3\\lib\\site-packages\\ipykernel_launcher.py:28: SettingWithCopyWarning: \n",
      "A value is trying to be set on a copy of a slice from a DataFrame.\n",
      "Try using .loc[row_indexer,col_indexer] = value instead\n",
      "\n",
      "See the caveats in the documentation: http://pandas.pydata.org/pandas-docs/stable/user_guide/indexing.html#returning-a-view-versus-a-copy\n"
     ]
    }
   ],
   "source": [
    "year_2014 = Monthly_BikeTravel['date'].dt.year == 2014\n",
    "data_2014 = Monthly_BikeTravel[year_2014]\n",
    "data_2014['count'] = data_2014['count'].apply(lambda x: x/3136276)\n",
    "data_2014 = data_2014.rename(columns={'count': 'normalized_count'})\n",
    "\n",
    "year_2015 = Monthly_BikeTravel['date'].dt.year == 2015\n",
    "data_2015 = Monthly_BikeTravel[year_2015]\n",
    "data_2015['count'] = data_2015['count'].apply(lambda x: x/3443883)\n",
    "data_2015 = data_2015.rename(columns={'count': 'normalized_count'})\n",
    "\n",
    "year_2016 = Monthly_BikeTravel['date'].dt.year == 2016\n",
    "data_2016 = Monthly_BikeTravel[year_2016]\n",
    "data_2016['count'] = data_2016['count'].apply(lambda x: x/4000080)\n",
    "data_2016 = data_2016.rename(columns={'count': 'normalized_count'})\n",
    "\n",
    "year_2017 = Monthly_BikeTravel['date'].dt.year == 2017\n",
    "data_2017 = Monthly_BikeTravel[year_2017]\n",
    "data_2017['count'] = data_2017['count'].apply(lambda x: x/4740357)\n",
    "data_2017 = data_2017.rename(columns={'count': 'normalized_count'})\n",
    "\n",
    "year_2018 = Monthly_BikeTravel['date'].dt.year == 2018\n",
    "data_2018 = Monthly_BikeTravel[year_2018]\n",
    "data_2018['count'] = data_2018['count'].apply(lambda x: x/5277541)\n",
    "data_2018 = data_2018.rename(columns={'count': 'normalized_count'})\n",
    "\n",
    "year_2019 = Monthly_BikeTravel['date'].dt.year == 2019\n",
    "data_2019 = Monthly_BikeTravel[year_2019]\n",
    "data_2019['count'] = data_2019['count'].apply(lambda x: x/4980650)\n",
    "data_2019 = data_2019.rename(columns={'count': 'normalized_count'})"
   ]
  },
  {
   "cell_type": "code",
   "execution_count": 10,
   "metadata": {},
   "outputs": [
    {
     "data": {
      "text/html": [
       "<div>\n",
       "<style scoped>\n",
       "    .dataframe tbody tr th:only-of-type {\n",
       "        vertical-align: middle;\n",
       "    }\n",
       "\n",
       "    .dataframe tbody tr th {\n",
       "        vertical-align: top;\n",
       "    }\n",
       "\n",
       "    .dataframe thead th {\n",
       "        text-align: right;\n",
       "    }\n",
       "</style>\n",
       "<table border=\"1\" class=\"dataframe\">\n",
       "  <thead>\n",
       "    <tr style=\"text-align: right;\">\n",
       "      <th></th>\n",
       "      <th>date</th>\n",
       "      <th>normalized_count</th>\n",
       "    </tr>\n",
       "  </thead>\n",
       "  <tbody>\n",
       "    <tr>\n",
       "      <td>0</td>\n",
       "      <td>2014-04-01</td>\n",
       "      <td>0.034520</td>\n",
       "    </tr>\n",
       "    <tr>\n",
       "      <td>1</td>\n",
       "      <td>2014-05-01</td>\n",
       "      <td>0.145160</td>\n",
       "    </tr>\n",
       "    <tr>\n",
       "      <td>2</td>\n",
       "      <td>2014-06-01</td>\n",
       "      <td>0.167671</td>\n",
       "    </tr>\n",
       "    <tr>\n",
       "      <td>3</td>\n",
       "      <td>2014-07-01</td>\n",
       "      <td>0.181538</td>\n",
       "    </tr>\n",
       "    <tr>\n",
       "      <td>4</td>\n",
       "      <td>2014-08-01</td>\n",
       "      <td>0.177529</td>\n",
       "    </tr>\n",
       "  </tbody>\n",
       "</table>\n",
       "</div>"
      ],
      "text/plain": [
       "        date  normalized_count\n",
       "0 2014-04-01          0.034520\n",
       "1 2014-05-01          0.145160\n",
       "2 2014-06-01          0.167671\n",
       "3 2014-07-01          0.181538\n",
       "4 2014-08-01          0.177529"
      ]
     },
     "execution_count": 10,
     "metadata": {},
     "output_type": "execute_result"
    }
   ],
   "source": [
    "Normalized_MonthlyBike = pd.concat([data_2014,data_2015,data_2016,data_2017,data_2018,data_2019])\n",
    "\n",
    "Normalized_MonthlyBike.head()"
   ]
  },
  {
   "cell_type": "code",
   "execution_count": 11,
   "metadata": {},
   "outputs": [
    {
     "data": {
      "text/plain": [
       "Text(0, 0.5, 'bike travel normalized by year')"
      ]
     },
     "execution_count": 11,
     "metadata": {},
     "output_type": "execute_result"
    },
    {
     "data": {
      "image/png": "[encoded data removed]",
      "text/plain": [
       "<Figure size 432x288 with 1 Axes>"
      ]
     },
     "metadata": {
      "needs_background": "light"
     },
     "output_type": "display_data"
    }
   ],
   "source": [
    "plt.plot(Normalized_MonthlyBike['date'],Normalized_MonthlyBike['normalized_count'])\n",
    "plt.xticks(rotation = 45);\n",
    "\n",
    "axes = plt.gca()\n",
    "axes.set_xlabel('date')\n",
    "axes.set_ylabel('bike travel normalized by year')"
   ]
  },
  {
   "cell_type": "markdown",
   "metadata": {},
   "source": [
    "Except 2019, we see that the amplitude is approximately the same for each year. \n",
    "\n",
    "We use the same trick to have daily data that could be used for daily analysis."
   ]
  },
  {
   "cell_type": "code",
   "execution_count": 12,
   "metadata": {},
   "outputs": [
    {
     "name": "stderr",
     "output_type": "stream",
     "text": [
      "C:\\Users\\Ariane Acer\\Anaconda3\\lib\\site-packages\\ipykernel_launcher.py:3: SettingWithCopyWarning: \n",
      "A value is trying to be set on a copy of a slice from a DataFrame.\n",
      "Try using .loc[row_indexer,col_indexer] = value instead\n",
      "\n",
      "See the caveats in the documentation: http://pandas.pydata.org/pandas-docs/stable/user_guide/indexing.html#returning-a-view-versus-a-copy\n",
      "  This is separate from the ipykernel package so we can avoid doing imports until\n",
      "C:\\Users\\Ariane Acer\\Anaconda3\\lib\\site-packages\\ipykernel_launcher.py:8: SettingWithCopyWarning: \n",
      "A value is trying to be set on a copy of a slice from a DataFrame.\n",
      "Try using .loc[row_indexer,col_indexer] = value instead\n",
      "\n",
      "See the caveats in the documentation: http://pandas.pydata.org/pandas-docs/stable/user_guide/indexing.html#returning-a-view-versus-a-copy\n",
      "  \n",
      "C:\\Users\\Ariane Acer\\Anaconda3\\lib\\site-packages\\ipykernel_launcher.py:13: SettingWithCopyWarning: \n",
      "A value is trying to be set on a copy of a slice from a DataFrame.\n",
      "Try using .loc[row_indexer,col_indexer] = value instead\n",
      "\n",
      "See the caveats in the documentation: http://pandas.pydata.org/pandas-docs/stable/user_guide/indexing.html#returning-a-view-versus-a-copy\n",
      "  del sys.path[0]\n",
      "C:\\Users\\Ariane Acer\\Anaconda3\\lib\\site-packages\\ipykernel_launcher.py:18: SettingWithCopyWarning: \n",
      "A value is trying to be set on a copy of a slice from a DataFrame.\n",
      "Try using .loc[row_indexer,col_indexer] = value instead\n",
      "\n",
      "See the caveats in the documentation: http://pandas.pydata.org/pandas-docs/stable/user_guide/indexing.html#returning-a-view-versus-a-copy\n",
      "C:\\Users\\Ariane Acer\\Anaconda3\\lib\\site-packages\\ipykernel_launcher.py:23: SettingWithCopyWarning: \n",
      "A value is trying to be set on a copy of a slice from a DataFrame.\n",
      "Try using .loc[row_indexer,col_indexer] = value instead\n",
      "\n",
      "See the caveats in the documentation: http://pandas.pydata.org/pandas-docs/stable/user_guide/indexing.html#returning-a-view-versus-a-copy\n",
      "C:\\Users\\Ariane Acer\\Anaconda3\\lib\\site-packages\\ipykernel_launcher.py:28: SettingWithCopyWarning: \n",
      "A value is trying to be set on a copy of a slice from a DataFrame.\n",
      "Try using .loc[row_indexer,col_indexer] = value instead\n",
      "\n",
      "See the caveats in the documentation: http://pandas.pydata.org/pandas-docs/stable/user_guide/indexing.html#returning-a-view-versus-a-copy\n"
     ]
    }
   ],
   "source": [
    "year_2014 = Daily_BikeTravel['date'].dt.year == 2014\n",
    "data_2014 = Daily_BikeTravel[year_2014]\n",
    "data_2014['count'] = data_2014['count'].apply(lambda x: x/3136276)\n",
    "data_2014 = data_2014.rename(columns={'count': 'normalized_count'})\n",
    "\n",
    "year_2015 = Daily_BikeTravel['date'].dt.year == 2015\n",
    "data_2015 = Daily_BikeTravel[year_2015]\n",
    "data_2015['count'] = data_2015['count'].apply(lambda x: x/3443883)\n",
    "data_2015 = data_2015.rename(columns={'count': 'normalized_count'})\n",
    "\n",
    "year_2016 = Daily_BikeTravel['date'].dt.year == 2016\n",
    "data_2016 = Daily_BikeTravel[year_2016]\n",
    "data_2016['count'] = data_2016['count'].apply(lambda x: x/4000080)\n",
    "data_2016 = data_2016.rename(columns={'count': 'normalized_count'})\n",
    "\n",
    "year_2017 = Daily_BikeTravel['date'].dt.year == 2017\n",
    "data_2017 = Daily_BikeTravel[year_2017]\n",
    "data_2017['count'] = data_2017['count'].apply(lambda x: x/4740357)\n",
    "data_2017 = data_2017.rename(columns={'count': 'normalized_count'})\n",
    "\n",
    "year_2018 = Daily_BikeTravel['date'].dt.year == 2018\n",
    "data_2018 = Daily_BikeTravel[year_2018]\n",
    "data_2018['count'] = data_2018['count'].apply(lambda x: x/5277541)\n",
    "data_2018 = data_2018.rename(columns={'count': 'normalized_count'})\n",
    "\n",
    "year_2019 = Daily_BikeTravel['date'].dt.year == 2019\n",
    "data_2019 = Daily_BikeTravel[year_2019]\n",
    "data_2019['count'] = data_2019['count'].apply(lambda x: x/4980650)\n",
    "data_2019 = data_2019.rename(columns={'count': 'normalized_count'})"
   ]
  },
  {
   "cell_type": "code",
   "execution_count": 13,
   "metadata": {},
   "outputs": [
    {
     "data": {
      "text/html": [
       "<div>\n",
       "<style scoped>\n",
       "    .dataframe tbody tr th:only-of-type {\n",
       "        vertical-align: middle;\n",
       "    }\n",
       "\n",
       "    .dataframe tbody tr th {\n",
       "        vertical-align: top;\n",
       "    }\n",
       "\n",
       "    .dataframe thead th {\n",
       "        text-align: right;\n",
       "    }\n",
       "</style>\n",
       "<table border=\"1\" class=\"dataframe\">\n",
       "  <thead>\n",
       "    <tr style=\"text-align: right;\">\n",
       "      <th></th>\n",
       "      <th>date</th>\n",
       "      <th>normalized_count</th>\n",
       "    </tr>\n",
       "  </thead>\n",
       "  <tbody>\n",
       "    <tr>\n",
       "      <td>0</td>\n",
       "      <td>2014-04-15</td>\n",
       "      <td>0.000503</td>\n",
       "    </tr>\n",
       "    <tr>\n",
       "      <td>1</td>\n",
       "      <td>2014-04-16</td>\n",
       "      <td>0.001014</td>\n",
       "    </tr>\n",
       "    <tr>\n",
       "      <td>2</td>\n",
       "      <td>2014-04-17</td>\n",
       "      <td>0.001866</td>\n",
       "    </tr>\n",
       "    <tr>\n",
       "      <td>3</td>\n",
       "      <td>2014-04-18</td>\n",
       "      <td>0.001698</td>\n",
       "    </tr>\n",
       "    <tr>\n",
       "      <td>4</td>\n",
       "      <td>2014-04-19</td>\n",
       "      <td>0.001923</td>\n",
       "    </tr>\n",
       "  </tbody>\n",
       "</table>\n",
       "</div>"
      ],
      "text/plain": [
       "        date  normalized_count\n",
       "0 2014-04-15          0.000503\n",
       "1 2014-04-16          0.001014\n",
       "2 2014-04-17          0.001866\n",
       "3 2014-04-18          0.001698\n",
       "4 2014-04-19          0.001923"
      ]
     },
     "execution_count": 13,
     "metadata": {},
     "output_type": "execute_result"
    }
   ],
   "source": [
    "Normalized_DailyBike = pd.concat([data_2014,data_2015,data_2016,data_2017,data_2018,data_2019])\n",
    "\n",
    "Normalized_DailyBike.head()"
   ]
  },
  {
   "cell_type": "code",
   "execution_count": 14,
   "metadata": {},
   "outputs": [
    {
     "data": {
      "text/plain": [
       "Text(0, 0.5, 'bike travel normalized by year')"
      ]
     },
     "execution_count": 14,
     "metadata": {},
     "output_type": "execute_result"
    },
    {
     "data": {
      "image/png": "[encoded data removed]",
      "text/plain": [
       "<Figure size 432x288 with 1 Axes>"
      ]
     },
     "metadata": {
      "needs_background": "light"
     },
     "output_type": "display_data"
    }
   ],
   "source": [
    "plt.plot(Normalized_DailyBike['date'],Normalized_DailyBike['normalized_count'])\n",
    "plt.xticks(rotation = 45);\n",
    "\n",
    "axes = plt.gca()\n",
    "axes.set_xlabel('date')\n",
    "axes.set_ylabel('bike travel normalized by year')"
   ]
  },
  {
   "cell_type": "markdown",
   "metadata": {},
   "source": [
    "This dataframe will be used to make daily analysis. Also, we won't use 2019 analysis as some unclear factor make the pike higher (maybe it's because the year is not over, as the bike use distribution is very dependant of the time of the year)."
   ]
  },
  {
   "cell_type": "markdown",
   "metadata": {},
   "source": [
    "# The weather dataset\n",
    "\n",
    "We want to analyze the influence of weather on the use of the bikeshare system.\n",
    "\n",
    "## Cleaning of the dataset"
   ]
  },
  {
   "cell_type": "code",
   "execution_count": 15,
   "metadata": {},
   "outputs": [
    {
     "data": {
      "text/html": [
       "<div>\n",
       "<style scoped>\n",
       "    .dataframe tbody tr th:only-of-type {\n",
       "        vertical-align: middle;\n",
       "    }\n",
       "\n",
       "    .dataframe tbody tr th {\n",
       "        vertical-align: top;\n",
       "    }\n",
       "\n",
       "    .dataframe thead th {\n",
       "        text-align: right;\n",
       "    }\n",
       "</style>\n",
       "<table border=\"1\" class=\"dataframe\">\n",
       "  <thead>\n",
       "    <tr style=\"text-align: right;\">\n",
       "      <th></th>\n",
       "      <th>Longitude (x)</th>\n",
       "      <th>Latitude (y)</th>\n",
       "      <th>Nom de la Station</th>\n",
       "      <th>ID climatologique</th>\n",
       "      <th>Date/Heure</th>\n",
       "      <th>Année</th>\n",
       "      <th>Mois</th>\n",
       "      <th>Jour</th>\n",
       "      <th>Qualité des Données</th>\n",
       "      <th>Temp max.(°C)</th>\n",
       "      <th>...</th>\n",
       "      <th>Neige tot. (cm)</th>\n",
       "      <th>Neige tot. Indicateur</th>\n",
       "      <th>Précip. tot. (mm)</th>\n",
       "      <th>Précip. tot. Indicateur</th>\n",
       "      <th>Neige au sol (cm)</th>\n",
       "      <th>Neige au sol Indicateur</th>\n",
       "      <th>Dir. raf. max. (10s deg)</th>\n",
       "      <th>Dir. raf. max. Indicateur</th>\n",
       "      <th>Vit. raf. max. (km/h)</th>\n",
       "      <th>Vit. raf. max. Indicateur</th>\n",
       "    </tr>\n",
       "  </thead>\n",
       "  <tbody>\n",
       "    <tr>\n",
       "      <td>0</td>\n",
       "      <td>-73,58</td>\n",
       "      <td>45,50</td>\n",
       "      <td>MCTAVISH</td>\n",
       "      <td>7024745</td>\n",
       "      <td>2014-01-01</td>\n",
       "      <td>2014</td>\n",
       "      <td>1</td>\n",
       "      <td>1</td>\n",
       "      <td>NaN</td>\n",
       "      <td>-15,2</td>\n",
       "      <td>...</td>\n",
       "      <td>NaN</td>\n",
       "      <td>M</td>\n",
       "      <td>0,0</td>\n",
       "      <td>NaN</td>\n",
       "      <td>NaN</td>\n",
       "      <td>NaN</td>\n",
       "      <td>NaN</td>\n",
       "      <td>NaN</td>\n",
       "      <td>&lt;31</td>\n",
       "      <td>NaN</td>\n",
       "    </tr>\n",
       "    <tr>\n",
       "      <td>1</td>\n",
       "      <td>-73,58</td>\n",
       "      <td>45,50</td>\n",
       "      <td>MCTAVISH</td>\n",
       "      <td>7024745</td>\n",
       "      <td>2014-01-02</td>\n",
       "      <td>2014</td>\n",
       "      <td>1</td>\n",
       "      <td>2</td>\n",
       "      <td>NaN</td>\n",
       "      <td>-22,3</td>\n",
       "      <td>...</td>\n",
       "      <td>NaN</td>\n",
       "      <td>M</td>\n",
       "      <td>0,0</td>\n",
       "      <td>NaN</td>\n",
       "      <td>NaN</td>\n",
       "      <td>NaN</td>\n",
       "      <td>3.0</td>\n",
       "      <td>NaN</td>\n",
       "      <td>37</td>\n",
       "      <td>NaN</td>\n",
       "    </tr>\n",
       "    <tr>\n",
       "      <td>2</td>\n",
       "      <td>-73,58</td>\n",
       "      <td>45,50</td>\n",
       "      <td>MCTAVISH</td>\n",
       "      <td>7024745</td>\n",
       "      <td>2014-01-03</td>\n",
       "      <td>2014</td>\n",
       "      <td>1</td>\n",
       "      <td>3</td>\n",
       "      <td>NaN</td>\n",
       "      <td>-19,0</td>\n",
       "      <td>...</td>\n",
       "      <td>NaN</td>\n",
       "      <td>M</td>\n",
       "      <td>1,0</td>\n",
       "      <td>NaN</td>\n",
       "      <td>NaN</td>\n",
       "      <td>NaN</td>\n",
       "      <td>NaN</td>\n",
       "      <td>NaN</td>\n",
       "      <td>&lt;31</td>\n",
       "      <td>NaN</td>\n",
       "    </tr>\n",
       "    <tr>\n",
       "      <td>3</td>\n",
       "      <td>-73,58</td>\n",
       "      <td>45,50</td>\n",
       "      <td>MCTAVISH</td>\n",
       "      <td>7024745</td>\n",
       "      <td>2014-01-04</td>\n",
       "      <td>2014</td>\n",
       "      <td>1</td>\n",
       "      <td>4</td>\n",
       "      <td>NaN</td>\n",
       "      <td>-6,6</td>\n",
       "      <td>...</td>\n",
       "      <td>NaN</td>\n",
       "      <td>M</td>\n",
       "      <td>0,0</td>\n",
       "      <td>NaN</td>\n",
       "      <td>NaN</td>\n",
       "      <td>NaN</td>\n",
       "      <td>NaN</td>\n",
       "      <td>NaN</td>\n",
       "      <td>&lt;31</td>\n",
       "      <td>NaN</td>\n",
       "    </tr>\n",
       "    <tr>\n",
       "      <td>4</td>\n",
       "      <td>-73,58</td>\n",
       "      <td>45,50</td>\n",
       "      <td>MCTAVISH</td>\n",
       "      <td>7024745</td>\n",
       "      <td>2014-01-05</td>\n",
       "      <td>2014</td>\n",
       "      <td>1</td>\n",
       "      <td>5</td>\n",
       "      <td>NaN</td>\n",
       "      <td>0,2</td>\n",
       "      <td>...</td>\n",
       "      <td>NaN</td>\n",
       "      <td>M</td>\n",
       "      <td>8,0</td>\n",
       "      <td>NaN</td>\n",
       "      <td>NaN</td>\n",
       "      <td>NaN</td>\n",
       "      <td>NaN</td>\n",
       "      <td>NaN</td>\n",
       "      <td>&lt;31</td>\n",
       "      <td>NaN</td>\n",
       "    </tr>\n",
       "  </tbody>\n",
       "</table>\n",
       "<p>5 rows × 31 columns</p>\n",
       "</div>"
      ],
      "text/plain": [
       "  Longitude (x) Latitude (y) Nom de la Station  ID climatologique  Date/Heure  \\\n",
       "0        -73,58        45,50          MCTAVISH            7024745  2014-01-01   \n",
       "1        -73,58        45,50          MCTAVISH            7024745  2014-01-02   \n",
       "2        -73,58        45,50          MCTAVISH            7024745  2014-01-03   \n",
       "3        -73,58        45,50          MCTAVISH            7024745  2014-01-04   \n",
       "4        -73,58        45,50          MCTAVISH            7024745  2014-01-05   \n",
       "\n",
       "   Année  Mois  Jour  Qualité des Données Temp max.(°C)  ... Neige tot. (cm)  \\\n",
       "0   2014     1     1                  NaN         -15,2  ...             NaN   \n",
       "1   2014     1     2                  NaN         -22,3  ...             NaN   \n",
       "2   2014     1     3                  NaN         -19,0  ...             NaN   \n",
       "3   2014     1     4                  NaN          -6,6  ...             NaN   \n",
       "4   2014     1     5                  NaN           0,2  ...             NaN   \n",
       "\n",
       "  Neige tot. Indicateur Précip. tot. (mm) Précip. tot. Indicateur  \\\n",
       "0                     M               0,0                     NaN   \n",
       "1                     M               0,0                     NaN   \n",
       "2                     M               1,0                     NaN   \n",
       "3                     M               0,0                     NaN   \n",
       "4                     M               8,0                     NaN   \n",
       "\n",
       "  Neige au sol (cm) Neige au sol Indicateur Dir. raf. max. (10s deg)  \\\n",
       "0               NaN                     NaN                      NaN   \n",
       "1               NaN                     NaN                      3.0   \n",
       "2               NaN                     NaN                      NaN   \n",
       "3               NaN                     NaN                      NaN   \n",
       "4               NaN                     NaN                      NaN   \n",
       "\n",
       "  Dir. raf. max. Indicateur Vit. raf. max. (km/h)  Vit. raf. max. Indicateur  \n",
       "0                       NaN                   <31                        NaN  \n",
       "1                       NaN                    37                        NaN  \n",
       "2                       NaN                   <31                        NaN  \n",
       "3                       NaN                   <31                        NaN  \n",
       "4                       NaN                   <31                        NaN  \n",
       "\n",
       "[5 rows x 31 columns]"
      ]
     },
     "execution_count": 15,
     "metadata": {},
     "output_type": "execute_result"
    }
   ],
   "source": [
    "weather_2014 = pd.read_csv(r\"WeatherData\\2014.csv\",sep = ',')\n",
    "weather_2015 = pd.read_csv(r\"WeatherData\\2015.csv\",sep = ',')\n",
    "weather_2016 = pd.read_csv(r\"WeatherData\\2016.csv\",sep = ',')\n",
    "weather_2017 = pd.read_csv(r\"WeatherData\\2017.csv\",sep = ',')\n",
    "weather_2018 = pd.read_csv(r\"WeatherData\\2018.csv\",sep = ',')\n",
    "weather_2019 = pd.read_csv(r\"WeatherData\\2019.csv\",sep = ',')\n",
    "\n",
    "data = pd.concat([weather_2014,weather_2015,weather_2016,weather_2017,weather_2018,weather_2019])\n",
    "\n",
    "data.head()"
   ]
  },
  {
   "cell_type": "code",
   "execution_count": 16,
   "metadata": {},
   "outputs": [
    {
     "name": "stderr",
     "output_type": "stream",
     "text": [
      "C:\\Users\\Ariane Acer\\Anaconda3\\lib\\site-packages\\ipykernel_launcher.py:6: SettingWithCopyWarning: \n",
      "A value is trying to be set on a copy of a slice from a DataFrame.\n",
      "Try using .loc[row_indexer,col_indexer] = value instead\n",
      "\n",
      "See the caveats in the documentation: http://pandas.pydata.org/pandas-docs/stable/user_guide/indexing.html#returning-a-view-versus-a-copy\n",
      "  \n"
     ]
    },
    {
     "data": {
      "text/html": [
       "<div>\n",
       "<style scoped>\n",
       "    .dataframe tbody tr th:only-of-type {\n",
       "        vertical-align: middle;\n",
       "    }\n",
       "\n",
       "    .dataframe tbody tr th {\n",
       "        vertical-align: top;\n",
       "    }\n",
       "\n",
       "    .dataframe thead th {\n",
       "        text-align: right;\n",
       "    }\n",
       "</style>\n",
       "<table border=\"1\" class=\"dataframe\">\n",
       "  <thead>\n",
       "    <tr style=\"text-align: right;\">\n",
       "      <th></th>\n",
       "      <th>Temp moy.(°C)</th>\n",
       "      <th>Précip. tot. (mm)</th>\n",
       "      <th>Neige au sol (cm)</th>\n",
       "      <th>Vit. raf. max. (km/h)</th>\n",
       "      <th>Date</th>\n",
       "    </tr>\n",
       "  </thead>\n",
       "  <tbody>\n",
       "    <tr>\n",
       "      <td>0</td>\n",
       "      <td>-19,6</td>\n",
       "      <td>0,0</td>\n",
       "      <td>NaN</td>\n",
       "      <td>&lt;31</td>\n",
       "      <td>2014-01-01</td>\n",
       "    </tr>\n",
       "    <tr>\n",
       "      <td>1</td>\n",
       "      <td>-24,9</td>\n",
       "      <td>0,0</td>\n",
       "      <td>NaN</td>\n",
       "      <td>37</td>\n",
       "      <td>2014-01-02</td>\n",
       "    </tr>\n",
       "    <tr>\n",
       "      <td>2</td>\n",
       "      <td>-21,3</td>\n",
       "      <td>1,0</td>\n",
       "      <td>NaN</td>\n",
       "      <td>&lt;31</td>\n",
       "      <td>2014-01-03</td>\n",
       "    </tr>\n",
       "    <tr>\n",
       "      <td>3</td>\n",
       "      <td>-14,0</td>\n",
       "      <td>0,0</td>\n",
       "      <td>NaN</td>\n",
       "      <td>&lt;31</td>\n",
       "      <td>2014-01-04</td>\n",
       "    </tr>\n",
       "    <tr>\n",
       "      <td>4</td>\n",
       "      <td>-5,2</td>\n",
       "      <td>8,0</td>\n",
       "      <td>NaN</td>\n",
       "      <td>&lt;31</td>\n",
       "      <td>2014-01-05</td>\n",
       "    </tr>\n",
       "  </tbody>\n",
       "</table>\n",
       "</div>"
      ],
      "text/plain": [
       "  Temp moy.(°C) Précip. tot. (mm)  Neige au sol (cm) Vit. raf. max. (km/h)  \\\n",
       "0         -19,6               0,0                NaN                   <31   \n",
       "1         -24,9               0,0                NaN                    37   \n",
       "2         -21,3               1,0                NaN                   <31   \n",
       "3         -14,0               0,0                NaN                   <31   \n",
       "4          -5,2               8,0                NaN                   <31   \n",
       "\n",
       "        Date  \n",
       "0 2014-01-01  \n",
       "1 2014-01-02  \n",
       "2 2014-01-03  \n",
       "3 2014-01-04  \n",
       "4 2014-01-05  "
      ]
     },
     "execution_count": 16,
     "metadata": {},
     "output_type": "execute_result"
    }
   ],
   "source": [
    "# Selection of useful data\n",
    "df_weather = data[['Date/Heure','Temp moy.(°C)','Précip. tot. (mm)', 'Neige au sol (cm)', 'Vit. raf. max. (km/h)']]\n",
    "\n",
    "# Conversion to datetime\n",
    "df_weather['datetime'] = df_weather.apply(lambda row: datetime.datetime.strptime(row['Date/Heure'], '%Y-%m-%d'), \n",
    "                        axis=1)\n",
    "df_weather = df_weather.rename(columns={'datetime': 'Date'})\n",
    "df_weather.drop(['Date/Heure'],axis='columns', inplace=True)\n",
    "\n",
    "df_weather.head()"
   ]
  },
  {
   "cell_type": "code",
   "execution_count": 17,
   "metadata": {},
   "outputs": [
    {
     "data": {
      "text/plain": [
       "Temp moy.(°C)                    object\n",
       "Précip. tot. (mm)                object\n",
       "Neige au sol (cm)               float64\n",
       "Vit. raf. max. (km/h)            object\n",
       "Date                     datetime64[ns]\n",
       "dtype: object"
      ]
     },
     "execution_count": 17,
     "metadata": {},
     "output_type": "execute_result"
    }
   ],
   "source": [
    "df_weather.dtypes"
   ]
  },
  {
   "cell_type": "markdown",
   "metadata": {},
   "source": [
    "Each column will be handle individually to get rid off values we can't use or convert strings into float."
   ]
  },
  {
   "cell_type": "code",
   "execution_count": 18,
   "metadata": {},
   "outputs": [
    {
     "data": {
      "text/html": [
       "<div>\n",
       "<style scoped>\n",
       "    .dataframe tbody tr th:only-of-type {\n",
       "        vertical-align: middle;\n",
       "    }\n",
       "\n",
       "    .dataframe tbody tr th {\n",
       "        vertical-align: top;\n",
       "    }\n",
       "\n",
       "    .dataframe thead th {\n",
       "        text-align: right;\n",
       "    }\n",
       "</style>\n",
       "<table border=\"1\" class=\"dataframe\">\n",
       "  <thead>\n",
       "    <tr style=\"text-align: right;\">\n",
       "      <th></th>\n",
       "      <th>Date</th>\n",
       "      <th>Mean temp (°C)</th>\n",
       "    </tr>\n",
       "  </thead>\n",
       "  <tbody>\n",
       "    <tr>\n",
       "      <td>0</td>\n",
       "      <td>2014-01-01</td>\n",
       "      <td>-19.6</td>\n",
       "    </tr>\n",
       "    <tr>\n",
       "      <td>1</td>\n",
       "      <td>2014-01-02</td>\n",
       "      <td>-24.9</td>\n",
       "    </tr>\n",
       "    <tr>\n",
       "      <td>2</td>\n",
       "      <td>2014-01-03</td>\n",
       "      <td>-21.3</td>\n",
       "    </tr>\n",
       "    <tr>\n",
       "      <td>3</td>\n",
       "      <td>2014-01-04</td>\n",
       "      <td>-14.0</td>\n",
       "    </tr>\n",
       "    <tr>\n",
       "      <td>4</td>\n",
       "      <td>2014-01-05</td>\n",
       "      <td>-5.2</td>\n",
       "    </tr>\n",
       "  </tbody>\n",
       "</table>\n",
       "</div>"
      ],
      "text/plain": [
       "        Date  Mean temp (°C)\n",
       "0 2014-01-01           -19.6\n",
       "1 2014-01-02           -24.9\n",
       "2 2014-01-03           -21.3\n",
       "3 2014-01-04           -14.0\n",
       "4 2014-01-05            -5.2"
      ]
     },
     "execution_count": 18,
     "metadata": {},
     "output_type": "execute_result"
    }
   ],
   "source": [
    "# Temperature care \n",
    "\n",
    "# Conversion of string into float\n",
    "df_temp = df_weather [['Date','Temp moy.(°C)']]\n",
    "df_temp = df_temp.dropna()\n",
    "\n",
    "# This conversion function need all NaN to be suppressed\n",
    "df_temp['Mean temp (°C)'] = df_temp.apply(lambda row: float(row['Temp moy.(°C)'].replace(',','.')), axis=1)\n",
    "df_temp.drop(['Temp moy.(°C)'],axis='columns', inplace=True)\n",
    "\n",
    "\n",
    "# Put again the missing date\n",
    "df_temp = pd.merge(df_temp, calendar, how='outer', on=None, left_on='Date', right_on='date',\n",
    "         left_index=False, right_index=False, sort=True,\n",
    "         suffixes=('_x', '_y'), copy=True, indicator=False,\n",
    "         validate=None)\n",
    "\n",
    "df_temp.drop(['Count'],axis='columns', inplace=True)\n",
    "df_temp.drop(['date'],axis='columns', inplace=True)\n",
    "\n",
    "# Fill the missing value with value of the day before\n",
    "#df_temp.fillna(method='pad')\n",
    "\n",
    "df_temp.head()"
   ]
  },
  {
   "cell_type": "code",
   "execution_count": 19,
   "metadata": {},
   "outputs": [
    {
     "data": {
      "image/png": "[encoded data removed]",
      "text/plain": [
       "<Figure size 432x288 with 1 Axes>"
      ]
     },
     "metadata": {
      "needs_background": "light"
     },
     "output_type": "display_data"
    }
   ],
   "source": [
    "# Visualisation of data\n",
    "\n",
    "plt.plot(df_temp['Date'],df_temp['Mean temp (°C)'])\n",
    "plt.xticks(rotation = 45);"
   ]
  },
  {
   "cell_type": "code",
   "execution_count": 20,
   "metadata": {},
   "outputs": [
    {
     "data": {
      "text/html": [
       "<div>\n",
       "<style scoped>\n",
       "    .dataframe tbody tr th:only-of-type {\n",
       "        vertical-align: middle;\n",
       "    }\n",
       "\n",
       "    .dataframe tbody tr th {\n",
       "        vertical-align: top;\n",
       "    }\n",
       "\n",
       "    .dataframe thead th {\n",
       "        text-align: right;\n",
       "    }\n",
       "</style>\n",
       "<table border=\"1\" class=\"dataframe\">\n",
       "  <thead>\n",
       "    <tr style=\"text-align: right;\">\n",
       "      <th></th>\n",
       "      <th>Date</th>\n",
       "      <th>Tot precip (mm)</th>\n",
       "    </tr>\n",
       "  </thead>\n",
       "  <tbody>\n",
       "    <tr>\n",
       "      <td>0</td>\n",
       "      <td>2014-01-01</td>\n",
       "      <td>0.0</td>\n",
       "    </tr>\n",
       "    <tr>\n",
       "      <td>1</td>\n",
       "      <td>2014-01-02</td>\n",
       "      <td>0.0</td>\n",
       "    </tr>\n",
       "    <tr>\n",
       "      <td>2</td>\n",
       "      <td>2014-01-03</td>\n",
       "      <td>1.0</td>\n",
       "    </tr>\n",
       "    <tr>\n",
       "      <td>3</td>\n",
       "      <td>2014-01-04</td>\n",
       "      <td>0.0</td>\n",
       "    </tr>\n",
       "    <tr>\n",
       "      <td>4</td>\n",
       "      <td>2014-01-05</td>\n",
       "      <td>8.0</td>\n",
       "    </tr>\n",
       "  </tbody>\n",
       "</table>\n",
       "</div>"
      ],
      "text/plain": [
       "        Date  Tot precip (mm)\n",
       "0 2014-01-01              0.0\n",
       "1 2014-01-02              0.0\n",
       "2 2014-01-03              1.0\n",
       "3 2014-01-04              0.0\n",
       "4 2014-01-05              8.0"
      ]
     },
     "execution_count": 20,
     "metadata": {},
     "output_type": "execute_result"
    }
   ],
   "source": [
    "# same for precipitation\n",
    "\n",
    "# Conversion of string into float\n",
    "df_rain = df_weather [['Date','Précip. tot. (mm)']]\n",
    "df_rain = df_rain.dropna()\n",
    "\n",
    "# This conversion function need all NaN to be suppressed\n",
    "df_rain['Tot precip (mm)'] = df_rain.apply(lambda row: float(row['Précip. tot. (mm)'].replace(',','.')), axis=1)\n",
    "df_rain.drop(['Précip. tot. (mm)'],axis='columns', inplace=True)\n",
    "\n",
    "# Put again the missing date\n",
    "df_rain = pd.merge(df_rain, calendar, how='outer', on=None, left_on='Date', right_on='date',\n",
    "         left_index=False, right_index=False, sort=True,\n",
    "         suffixes=('_x', '_y'), copy=True, indicator=False,\n",
    "         validate=None)\n",
    "\n",
    "df_rain.drop(['Count'],axis='columns', inplace=True)\n",
    "df_rain.drop(['date'],axis='columns', inplace=True)\n",
    "\n",
    "# Fill the missing value with value of the day before\n",
    "#df_rain.fillna(method='pad')\n",
    "\n",
    "df_rain.head()"
   ]
  },
  {
   "cell_type": "code",
   "execution_count": 21,
   "metadata": {},
   "outputs": [
    {
     "data": {
      "image/png": "[encoded data removed]",
      "text/plain": [
       "<Figure size 432x288 with 1 Axes>"
      ]
     },
     "metadata": {
      "needs_background": "light"
     },
     "output_type": "display_data"
    }
   ],
   "source": [
    "# Visualisation of data\n",
    "\n",
    "plt.plot(df_rain['Date'],df_rain['Tot precip (mm)'])\n",
    "plt.xticks(rotation = 45);"
   ]
  },
  {
   "cell_type": "code",
   "execution_count": 22,
   "metadata": {},
   "outputs": [
    {
     "data": {
      "text/html": [
       "<div>\n",
       "<style scoped>\n",
       "    .dataframe tbody tr th:only-of-type {\n",
       "        vertical-align: middle;\n",
       "    }\n",
       "\n",
       "    .dataframe tbody tr th {\n",
       "        vertical-align: top;\n",
       "    }\n",
       "\n",
       "    .dataframe thead th {\n",
       "        text-align: right;\n",
       "    }\n",
       "</style>\n",
       "<table border=\"1\" class=\"dataframe\">\n",
       "  <thead>\n",
       "    <tr style=\"text-align: right;\">\n",
       "      <th></th>\n",
       "      <th>Date</th>\n",
       "      <th>Snow on ground (cm)</th>\n",
       "    </tr>\n",
       "  </thead>\n",
       "  <tbody>\n",
       "    <tr>\n",
       "      <td>0</td>\n",
       "      <td>2014-01-01</td>\n",
       "      <td>0.0</td>\n",
       "    </tr>\n",
       "    <tr>\n",
       "      <td>1</td>\n",
       "      <td>2014-01-02</td>\n",
       "      <td>0.0</td>\n",
       "    </tr>\n",
       "    <tr>\n",
       "      <td>2</td>\n",
       "      <td>2014-01-03</td>\n",
       "      <td>0.0</td>\n",
       "    </tr>\n",
       "    <tr>\n",
       "      <td>3</td>\n",
       "      <td>2014-01-04</td>\n",
       "      <td>0.0</td>\n",
       "    </tr>\n",
       "    <tr>\n",
       "      <td>4</td>\n",
       "      <td>2014-01-05</td>\n",
       "      <td>0.0</td>\n",
       "    </tr>\n",
       "    <tr>\n",
       "      <td>...</td>\n",
       "      <td>...</td>\n",
       "      <td>...</td>\n",
       "    </tr>\n",
       "    <tr>\n",
       "      <td>360</td>\n",
       "      <td>2019-12-27</td>\n",
       "      <td>0.0</td>\n",
       "    </tr>\n",
       "    <tr>\n",
       "      <td>361</td>\n",
       "      <td>2019-12-28</td>\n",
       "      <td>0.0</td>\n",
       "    </tr>\n",
       "    <tr>\n",
       "      <td>362</td>\n",
       "      <td>2019-12-29</td>\n",
       "      <td>0.0</td>\n",
       "    </tr>\n",
       "    <tr>\n",
       "      <td>363</td>\n",
       "      <td>2019-12-30</td>\n",
       "      <td>0.0</td>\n",
       "    </tr>\n",
       "    <tr>\n",
       "      <td>364</td>\n",
       "      <td>2019-12-31</td>\n",
       "      <td>0.0</td>\n",
       "    </tr>\n",
       "  </tbody>\n",
       "</table>\n",
       "<p>2191 rows × 2 columns</p>\n",
       "</div>"
      ],
      "text/plain": [
       "          Date  Snow on ground (cm)\n",
       "0   2014-01-01                  0.0\n",
       "1   2014-01-02                  0.0\n",
       "2   2014-01-03                  0.0\n",
       "3   2014-01-04                  0.0\n",
       "4   2014-01-05                  0.0\n",
       "..         ...                  ...\n",
       "360 2019-12-27                  0.0\n",
       "361 2019-12-28                  0.0\n",
       "362 2019-12-29                  0.0\n",
       "363 2019-12-30                  0.0\n",
       "364 2019-12-31                  0.0\n",
       "\n",
       "[2191 rows x 2 columns]"
      ]
     },
     "execution_count": 22,
     "metadata": {},
     "output_type": "execute_result"
    }
   ],
   "source": [
    "# snow type is already float\n",
    "df_snow = df_weather [['Date','Neige au sol (cm)']]\n",
    "\n",
    "# change le nom\n",
    "df_snow = df_snow.rename(columns={'Neige au sol (cm)': 'Snow on ground (cm)'})\n",
    "\n",
    "# Fill the missing value with 0\n",
    "df_snow = df_snow.fillna(0)\n",
    "\n",
    "df_snow"
   ]
  },
  {
   "cell_type": "code",
   "execution_count": null,
   "metadata": {},
   "outputs": [],
   "source": [
    "# PTET je peux check quelles valeurs manquent, pour voir si c'est nécessaire de les remplir avec des 0."
   ]
  },
  {
   "cell_type": "code",
   "execution_count": 23,
   "metadata": {},
   "outputs": [
    {
     "data": {
      "image/png": "[encoded data removed]",
      "text/plain": [
       "<Figure size 432x288 with 1 Axes>"
      ]
     },
     "metadata": {
      "needs_background": "light"
     },
     "output_type": "display_data"
    }
   ],
   "source": [
    "# Visualisation of data\n",
    "\n",
    "plt.plot(df_snow['Date'],df_snow['Snow on ground (cm)'])\n",
    "plt.xticks(rotation = 45);"
   ]
  },
  {
   "cell_type": "markdown",
   "metadata": {},
   "source": [
    "It seems that the dataset do not contain snow data before 2016. We'll have to keep it in mind and to not uses these data before 2016."
   ]
  },
  {
   "cell_type": "code",
   "execution_count": 24,
   "metadata": {},
   "outputs": [
    {
     "data": {
      "text/html": [
       "<div>\n",
       "<style scoped>\n",
       "    .dataframe tbody tr th:only-of-type {\n",
       "        vertical-align: middle;\n",
       "    }\n",
       "\n",
       "    .dataframe tbody tr th {\n",
       "        vertical-align: top;\n",
       "    }\n",
       "\n",
       "    .dataframe thead th {\n",
       "        text-align: right;\n",
       "    }\n",
       "</style>\n",
       "<table border=\"1\" class=\"dataframe\">\n",
       "  <thead>\n",
       "    <tr style=\"text-align: right;\">\n",
       "      <th></th>\n",
       "      <th>Date</th>\n",
       "      <th>Vit. raf. max. (km/h)</th>\n",
       "    </tr>\n",
       "  </thead>\n",
       "  <tbody>\n",
       "    <tr>\n",
       "      <td>0</td>\n",
       "      <td>2014-01-01</td>\n",
       "      <td>&lt;31</td>\n",
       "    </tr>\n",
       "    <tr>\n",
       "      <td>1</td>\n",
       "      <td>2014-01-02</td>\n",
       "      <td>37</td>\n",
       "    </tr>\n",
       "    <tr>\n",
       "      <td>2</td>\n",
       "      <td>2014-01-03</td>\n",
       "      <td>&lt;31</td>\n",
       "    </tr>\n",
       "    <tr>\n",
       "      <td>3</td>\n",
       "      <td>2014-01-04</td>\n",
       "      <td>&lt;31</td>\n",
       "    </tr>\n",
       "    <tr>\n",
       "      <td>4</td>\n",
       "      <td>2014-01-05</td>\n",
       "      <td>&lt;31</td>\n",
       "    </tr>\n",
       "  </tbody>\n",
       "</table>\n",
       "</div>"
      ],
      "text/plain": [
       "        Date Vit. raf. max. (km/h)\n",
       "0 2014-01-01                   <31\n",
       "1 2014-01-02                    37\n",
       "2 2014-01-03                   <31\n",
       "3 2014-01-04                   <31\n",
       "4 2014-01-05                   <31"
      ]
     },
     "execution_count": 24,
     "metadata": {},
     "output_type": "execute_result"
    }
   ],
   "source": [
    "# fix the wind max speed\n",
    "df_wind = df_weather [['Date','Vit. raf. max. (km/h)']]\n",
    "df_wind.head()"
   ]
  },
  {
   "cell_type": "code",
   "execution_count": 25,
   "metadata": {},
   "outputs": [
    {
     "data": {
      "text/html": [
       "<div>\n",
       "<style scoped>\n",
       "    .dataframe tbody tr th:only-of-type {\n",
       "        vertical-align: middle;\n",
       "    }\n",
       "\n",
       "    .dataframe tbody tr th {\n",
       "        vertical-align: top;\n",
       "    }\n",
       "\n",
       "    .dataframe thead th {\n",
       "        text-align: right;\n",
       "    }\n",
       "</style>\n",
       "<table border=\"1\" class=\"dataframe\">\n",
       "  <thead>\n",
       "    <tr style=\"text-align: right;\">\n",
       "      <th></th>\n",
       "      <th>Vit. raf. max. (km/h)</th>\n",
       "      <th>count</th>\n",
       "    </tr>\n",
       "  </thead>\n",
       "  <tbody>\n",
       "    <tr>\n",
       "      <td>0</td>\n",
       "      <td>31</td>\n",
       "      <td>15</td>\n",
       "    </tr>\n",
       "    <tr>\n",
       "      <td>1</td>\n",
       "      <td>32</td>\n",
       "      <td>7</td>\n",
       "    </tr>\n",
       "    <tr>\n",
       "      <td>2</td>\n",
       "      <td>33</td>\n",
       "      <td>8</td>\n",
       "    </tr>\n",
       "    <tr>\n",
       "      <td>3</td>\n",
       "      <td>34</td>\n",
       "      <td>15</td>\n",
       "    </tr>\n",
       "    <tr>\n",
       "      <td>4</td>\n",
       "      <td>35</td>\n",
       "      <td>3</td>\n",
       "    </tr>\n",
       "  </tbody>\n",
       "</table>\n",
       "</div>"
      ],
      "text/plain": [
       "  Vit. raf. max. (km/h)  count\n",
       "0                    31     15\n",
       "1                    32      7\n",
       "2                    33      8\n",
       "3                    34     15\n",
       "4                    35      3"
      ]
     },
     "execution_count": 25,
     "metadata": {},
     "output_type": "execute_result"
    }
   ],
   "source": [
    "Wind_Type = df_wind.groupby(['Vit. raf. max. (km/h)']).size().reset_index(name='count')\n",
    "Wind_Type.head()"
   ]
  },
  {
   "cell_type": "markdown",
   "metadata": {},
   "source": [
    "We do not dispose of wind data below 31 km/h.\n",
    "We'll drop rows containing this value to keep only quantitative data."
   ]
  },
  {
   "cell_type": "code",
   "execution_count": 26,
   "metadata": {},
   "outputs": [
    {
     "data": {
      "text/html": [
       "<div>\n",
       "<style scoped>\n",
       "    .dataframe tbody tr th:only-of-type {\n",
       "        vertical-align: middle;\n",
       "    }\n",
       "\n",
       "    .dataframe tbody tr th {\n",
       "        vertical-align: top;\n",
       "    }\n",
       "\n",
       "    .dataframe thead th {\n",
       "        text-align: right;\n",
       "    }\n",
       "</style>\n",
       "<table border=\"1\" class=\"dataframe\">\n",
       "  <thead>\n",
       "    <tr style=\"text-align: right;\">\n",
       "      <th></th>\n",
       "      <th>Date</th>\n",
       "      <th>Wind max speed (km/h)</th>\n",
       "    </tr>\n",
       "  </thead>\n",
       "  <tbody>\n",
       "    <tr>\n",
       "      <td>1</td>\n",
       "      <td>2014-01-02</td>\n",
       "      <td>37.0</td>\n",
       "    </tr>\n",
       "    <tr>\n",
       "      <td>5</td>\n",
       "      <td>2014-01-06</td>\n",
       "      <td>44.0</td>\n",
       "    </tr>\n",
       "    <tr>\n",
       "      <td>6</td>\n",
       "      <td>2014-01-07</td>\n",
       "      <td>43.0</td>\n",
       "    </tr>\n",
       "    <tr>\n",
       "      <td>7</td>\n",
       "      <td>2014-01-08</td>\n",
       "      <td>32.0</td>\n",
       "    </tr>\n",
       "    <tr>\n",
       "      <td>10</td>\n",
       "      <td>2014-01-11</td>\n",
       "      <td>32.0</td>\n",
       "    </tr>\n",
       "    <tr>\n",
       "      <td>...</td>\n",
       "      <td>...</td>\n",
       "      <td>...</td>\n",
       "    </tr>\n",
       "    <tr>\n",
       "      <td>303</td>\n",
       "      <td>2019-10-31</td>\n",
       "      <td>34.0</td>\n",
       "    </tr>\n",
       "    <tr>\n",
       "      <td>304</td>\n",
       "      <td>2019-11-01</td>\n",
       "      <td>58.0</td>\n",
       "    </tr>\n",
       "    <tr>\n",
       "      <td>309</td>\n",
       "      <td>2019-11-06</td>\n",
       "      <td>31.0</td>\n",
       "    </tr>\n",
       "    <tr>\n",
       "      <td>314</td>\n",
       "      <td>2019-11-11</td>\n",
       "      <td>32.0</td>\n",
       "    </tr>\n",
       "    <tr>\n",
       "      <td>315</td>\n",
       "      <td>2019-11-12</td>\n",
       "      <td>33.0</td>\n",
       "    </tr>\n",
       "  </tbody>\n",
       "</table>\n",
       "<p>616 rows × 2 columns</p>\n",
       "</div>"
      ],
      "text/plain": [
       "          Date  Wind max speed (km/h)\n",
       "1   2014-01-02                   37.0\n",
       "5   2014-01-06                   44.0\n",
       "6   2014-01-07                   43.0\n",
       "7   2014-01-08                   32.0\n",
       "10  2014-01-11                   32.0\n",
       "..         ...                    ...\n",
       "303 2019-10-31                   34.0\n",
       "304 2019-11-01                   58.0\n",
       "309 2019-11-06                   31.0\n",
       "314 2019-11-11                   32.0\n",
       "315 2019-11-12                   33.0\n",
       "\n",
       "[616 rows x 2 columns]"
      ]
     },
     "execution_count": 26,
     "metadata": {},
     "output_type": "execute_result"
    }
   ],
   "source": [
    "# We drop rows with '<31'\n",
    "df_wind = df_wind[df_wind['Vit. raf. max. (km/h)'] != '<31']\n",
    "df_wind = df_wind.dropna()\n",
    "\n",
    "# This conversion function need all NaN to be suppressed\n",
    "df_wind['Wind max speed (km/h)'] = df_wind.apply(lambda row: float(row['Vit. raf. max. (km/h)']), axis=1)\n",
    "df_wind.drop(['Vit. raf. max. (km/h)'],axis='columns', inplace = True)\n",
    "\n",
    "df_wind"
   ]
  },
  {
   "cell_type": "code",
   "execution_count": 27,
   "metadata": {},
   "outputs": [
    {
     "data": {
      "text/html": [
       "<div>\n",
       "<style scoped>\n",
       "    .dataframe tbody tr th:only-of-type {\n",
       "        vertical-align: middle;\n",
       "    }\n",
       "\n",
       "    .dataframe tbody tr th {\n",
       "        vertical-align: top;\n",
       "    }\n",
       "\n",
       "    .dataframe thead th {\n",
       "        text-align: right;\n",
       "    }\n",
       "</style>\n",
       "<table border=\"1\" class=\"dataframe\">\n",
       "  <thead>\n",
       "    <tr style=\"text-align: right;\">\n",
       "      <th></th>\n",
       "      <th>Date</th>\n",
       "      <th>Wind max speed (km/h)</th>\n",
       "    </tr>\n",
       "  </thead>\n",
       "  <tbody>\n",
       "    <tr>\n",
       "      <td>0</td>\n",
       "      <td>2014-01-02</td>\n",
       "      <td>37.0</td>\n",
       "    </tr>\n",
       "    <tr>\n",
       "      <td>1</td>\n",
       "      <td>2014-01-06</td>\n",
       "      <td>44.0</td>\n",
       "    </tr>\n",
       "    <tr>\n",
       "      <td>2</td>\n",
       "      <td>2014-01-07</td>\n",
       "      <td>43.0</td>\n",
       "    </tr>\n",
       "    <tr>\n",
       "      <td>3</td>\n",
       "      <td>2014-01-08</td>\n",
       "      <td>32.0</td>\n",
       "    </tr>\n",
       "    <tr>\n",
       "      <td>4</td>\n",
       "      <td>2014-01-11</td>\n",
       "      <td>32.0</td>\n",
       "    </tr>\n",
       "    <tr>\n",
       "      <td>...</td>\n",
       "      <td>...</td>\n",
       "      <td>...</td>\n",
       "    </tr>\n",
       "    <tr>\n",
       "      <td>2038</td>\n",
       "      <td>2019-10-31</td>\n",
       "      <td>34.0</td>\n",
       "    </tr>\n",
       "    <tr>\n",
       "      <td>2039</td>\n",
       "      <td>2019-11-01</td>\n",
       "      <td>58.0</td>\n",
       "    </tr>\n",
       "    <tr>\n",
       "      <td>2040</td>\n",
       "      <td>2019-11-06</td>\n",
       "      <td>31.0</td>\n",
       "    </tr>\n",
       "    <tr>\n",
       "      <td>2041</td>\n",
       "      <td>2019-11-11</td>\n",
       "      <td>32.0</td>\n",
       "    </tr>\n",
       "    <tr>\n",
       "      <td>2042</td>\n",
       "      <td>2019-11-12</td>\n",
       "      <td>33.0</td>\n",
       "    </tr>\n",
       "  </tbody>\n",
       "</table>\n",
       "<p>2043 rows × 2 columns</p>\n",
       "</div>"
      ],
      "text/plain": [
       "           Date  Wind max speed (km/h)\n",
       "0    2014-01-02                   37.0\n",
       "1    2014-01-06                   44.0\n",
       "2    2014-01-07                   43.0\n",
       "3    2014-01-08                   32.0\n",
       "4    2014-01-11                   32.0\n",
       "...         ...                    ...\n",
       "2038 2019-10-31                   34.0\n",
       "2039 2019-11-01                   58.0\n",
       "2040 2019-11-06                   31.0\n",
       "2041 2019-11-11                   32.0\n",
       "2042 2019-11-12                   33.0\n",
       "\n",
       "[2043 rows x 2 columns]"
      ]
     },
     "execution_count": 27,
     "metadata": {},
     "output_type": "execute_result"
    }
   ],
   "source": [
    "# Put again the missing date\n",
    "df_wind = pd.merge(df_wind, calendar, how='outer', on=None, left_on='Date', right_on='date',\n",
    "         left_index=False, right_index=False, sort=True,\n",
    "         suffixes=('_x', '_y'), copy=True, indicator=False,\n",
    "         validate=None)\n",
    "\n",
    "df_wind.drop(['Count'],axis='columns', inplace = True)\n",
    "df_wind.drop(['date'],axis='columns', inplace = True)\n",
    "\n",
    "df_wind"
   ]
  },
  {
   "cell_type": "code",
   "execution_count": 28,
   "metadata": {},
   "outputs": [
    {
     "data": {
      "image/png": "[encoded data removed]",
      "text/plain": [
       "<Figure size 432x288 with 1 Axes>"
      ]
     },
     "metadata": {
      "needs_background": "light"
     },
     "output_type": "display_data"
    }
   ],
   "source": [
    "# Visualisation of data\n",
    "\n",
    "plt.plot(df_wind['Date'],df_wind['Wind max speed (km/h)'])\n",
    "plt.xticks(rotation = 45);"
   ]
  },
  {
   "cell_type": "code",
   "execution_count": 29,
   "metadata": {},
   "outputs": [
    {
     "data": {
      "text/html": [
       "<div>\n",
       "<style scoped>\n",
       "    .dataframe tbody tr th:only-of-type {\n",
       "        vertical-align: middle;\n",
       "    }\n",
       "\n",
       "    .dataframe tbody tr th {\n",
       "        vertical-align: top;\n",
       "    }\n",
       "\n",
       "    .dataframe thead th {\n",
       "        text-align: right;\n",
       "    }\n",
       "</style>\n",
       "<table border=\"1\" class=\"dataframe\">\n",
       "  <thead>\n",
       "    <tr style=\"text-align: right;\">\n",
       "      <th></th>\n",
       "      <th>Date</th>\n",
       "      <th>Mean temp (°C)</th>\n",
       "      <th>Tot precip (mm)</th>\n",
       "      <th>Snow on ground (cm)</th>\n",
       "      <th>Wind max speed (km/h)</th>\n",
       "    </tr>\n",
       "  </thead>\n",
       "  <tbody>\n",
       "    <tr>\n",
       "      <td>1427</td>\n",
       "      <td>2014-01-01</td>\n",
       "      <td>-19.6</td>\n",
       "      <td>0.0</td>\n",
       "      <td>0.0</td>\n",
       "      <td>NaN</td>\n",
       "    </tr>\n",
       "    <tr>\n",
       "      <td>1428</td>\n",
       "      <td>2014-01-02</td>\n",
       "      <td>-24.9</td>\n",
       "      <td>0.0</td>\n",
       "      <td>0.0</td>\n",
       "      <td>37.0</td>\n",
       "    </tr>\n",
       "    <tr>\n",
       "      <td>1429</td>\n",
       "      <td>2014-01-03</td>\n",
       "      <td>-21.3</td>\n",
       "      <td>1.0</td>\n",
       "      <td>0.0</td>\n",
       "      <td>NaN</td>\n",
       "    </tr>\n",
       "    <tr>\n",
       "      <td>1430</td>\n",
       "      <td>2014-01-04</td>\n",
       "      <td>-14.0</td>\n",
       "      <td>0.0</td>\n",
       "      <td>0.0</td>\n",
       "      <td>NaN</td>\n",
       "    </tr>\n",
       "    <tr>\n",
       "      <td>1431</td>\n",
       "      <td>2014-01-05</td>\n",
       "      <td>-5.2</td>\n",
       "      <td>8.0</td>\n",
       "      <td>0.0</td>\n",
       "      <td>NaN</td>\n",
       "    </tr>\n",
       "  </tbody>\n",
       "</table>\n",
       "</div>"
      ],
      "text/plain": [
       "           Date  Mean temp (°C)  Tot precip (mm)  Snow on ground (cm)  \\\n",
       "1427 2014-01-01           -19.6              0.0                  0.0   \n",
       "1428 2014-01-02           -24.9              0.0                  0.0   \n",
       "1429 2014-01-03           -21.3              1.0                  0.0   \n",
       "1430 2014-01-04           -14.0              0.0                  0.0   \n",
       "1431 2014-01-05            -5.2              8.0                  0.0   \n",
       "\n",
       "      Wind max speed (km/h)  \n",
       "1427                    NaN  \n",
       "1428                   37.0  \n",
       "1429                    NaN  \n",
       "1430                    NaN  \n",
       "1431                    NaN  "
      ]
     },
     "execution_count": 29,
     "metadata": {},
     "output_type": "execute_result"
    }
   ],
   "source": [
    "# Creation of the cleaned weather dataframe\n",
    "\n",
    "weather_TempRain = pd.merge(df_temp, df_rain, how='inner', on=None, left_on='Date', right_on='Date',\n",
    "         left_index=False, right_index=False, sort=True,\n",
    "         suffixes=('_x', '_y'), copy=True, indicator=False,\n",
    "         validate=None)\n",
    "\n",
    "weather_TempRain = weather_TempRain.dropna()\n",
    "\n",
    "weather_withoutWind = pd.merge(weather_TempRain, df_snow, how='outer', on=None, left_on='Date', right_on='Date',\n",
    "         left_index=False, right_index=False, sort=True,\n",
    "         suffixes=('_x', '_y'), copy=True, indicator=False,\n",
    "         validate=None)\n",
    "\n",
    "weather_withoutWind = weather_withoutWind.dropna()\n",
    "\n",
    "cleaned_weather = pd.merge(weather_withoutWind, df_wind, how='outer', on=None, left_on='Date', right_on='Date',\n",
    "         left_index=False, right_index=False, sort=True,\n",
    "         suffixes=('_x', '_y'), copy=True, indicator=False,\n",
    "         validate=None)\n",
    "\n",
    "cleaned_weather = cleaned_weather.dropna(subset=['Date'])\n",
    "\n",
    "cleaned_weather.head()"
   ]
  },
  {
   "cell_type": "markdown",
   "metadata": {},
   "source": [
    "Now we should merge this last dataframe with the bike use data."
   ]
  },
  {
   "cell_type": "code",
   "execution_count": 30,
   "metadata": {},
   "outputs": [
    {
     "data": {
      "text/html": [
       "<div>\n",
       "<style scoped>\n",
       "    .dataframe tbody tr th:only-of-type {\n",
       "        vertical-align: middle;\n",
       "    }\n",
       "\n",
       "    .dataframe tbody tr th {\n",
       "        vertical-align: top;\n",
       "    }\n",
       "\n",
       "    .dataframe thead th {\n",
       "        text-align: right;\n",
       "    }\n",
       "</style>\n",
       "<table border=\"1\" class=\"dataframe\">\n",
       "  <thead>\n",
       "    <tr style=\"text-align: right;\">\n",
       "      <th></th>\n",
       "      <th>Date</th>\n",
       "      <th>Mean temp (°C)</th>\n",
       "      <th>Tot precip (mm)</th>\n",
       "      <th>Snow on ground (cm)</th>\n",
       "      <th>Wind max speed (km/h)</th>\n",
       "      <th>normalized_count</th>\n",
       "    </tr>\n",
       "  </thead>\n",
       "  <tbody>\n",
       "    <tr>\n",
       "      <td>94</td>\n",
       "      <td>2014-04-15</td>\n",
       "      <td>5.7</td>\n",
       "      <td>13.6</td>\n",
       "      <td>0.0</td>\n",
       "      <td>33.0</td>\n",
       "      <td>0.000503</td>\n",
       "    </tr>\n",
       "    <tr>\n",
       "      <td>95</td>\n",
       "      <td>2014-04-16</td>\n",
       "      <td>-3.5</td>\n",
       "      <td>0.0</td>\n",
       "      <td>0.0</td>\n",
       "      <td>33.0</td>\n",
       "      <td>0.001014</td>\n",
       "    </tr>\n",
       "    <tr>\n",
       "      <td>96</td>\n",
       "      <td>2014-04-17</td>\n",
       "      <td>2.6</td>\n",
       "      <td>0.0</td>\n",
       "      <td>0.0</td>\n",
       "      <td>NaN</td>\n",
       "      <td>0.001866</td>\n",
       "    </tr>\n",
       "    <tr>\n",
       "      <td>97</td>\n",
       "      <td>2014-04-18</td>\n",
       "      <td>6.3</td>\n",
       "      <td>0.0</td>\n",
       "      <td>0.0</td>\n",
       "      <td>NaN</td>\n",
       "      <td>0.001698</td>\n",
       "    </tr>\n",
       "    <tr>\n",
       "      <td>98</td>\n",
       "      <td>2014-04-19</td>\n",
       "      <td>7.2</td>\n",
       "      <td>1.0</td>\n",
       "      <td>0.0</td>\n",
       "      <td>35.0</td>\n",
       "      <td>0.001923</td>\n",
       "    </tr>\n",
       "  </tbody>\n",
       "</table>\n",
       "</div>"
      ],
      "text/plain": [
       "         Date  Mean temp (°C)  Tot precip (mm)  Snow on ground (cm)  \\\n",
       "94 2014-04-15             5.7             13.6                  0.0   \n",
       "95 2014-04-16            -3.5              0.0                  0.0   \n",
       "96 2014-04-17             2.6              0.0                  0.0   \n",
       "97 2014-04-18             6.3              0.0                  0.0   \n",
       "98 2014-04-19             7.2              1.0                  0.0   \n",
       "\n",
       "    Wind max speed (km/h)  normalized_count  \n",
       "94                   33.0          0.000503  \n",
       "95                   33.0          0.001014  \n",
       "96                    NaN          0.001866  \n",
       "97                    NaN          0.001698  \n",
       "98                   35.0          0.001923  "
      ]
     },
     "execution_count": 30,
     "metadata": {},
     "output_type": "execute_result"
    }
   ],
   "source": [
    "total_dataset = pd.merge(cleaned_weather, Normalized_DailyBike, how='outer', on=None, left_on='Date', \n",
    "                         right_on='date', left_index=False, right_index=False, sort=True, suffixes=('_x', '_y'), \n",
    "                         copy=True, indicator=False, validate=None)\n",
    "\n",
    "total_dataset = total_dataset.dropna(subset=['normalized_count'])\n",
    "\n",
    "total_dataset.drop(['date'],axis='columns', inplace = True)\n",
    "\n",
    "total_dataset.head()"
   ]
  },
  {
   "cell_type": "markdown",
   "metadata": {},
   "source": [
    "For the next of the code, we don't want to take into account month where the bixi system is closed. So we drop the month where it is the case. Also we do want a dataset with date beyond 2016 in order to have relevent snow values. Also we don't use 2019 values."
   ]
  },
  {
   "cell_type": "code",
   "execution_count": 31,
   "metadata": {},
   "outputs": [],
   "source": [
    "total_dataset = total_dataset[total_dataset['normalized_count'] != 0]"
   ]
  },
  {
   "cell_type": "code",
   "execution_count": 32,
   "metadata": {},
   "outputs": [
    {
     "data": {
      "text/html": [
       "<div>\n",
       "<style scoped>\n",
       "    .dataframe tbody tr th:only-of-type {\n",
       "        vertical-align: middle;\n",
       "    }\n",
       "\n",
       "    .dataframe tbody tr th {\n",
       "        vertical-align: top;\n",
       "    }\n",
       "\n",
       "    .dataframe thead th {\n",
       "        text-align: right;\n",
       "    }\n",
       "</style>\n",
       "<table border=\"1\" class=\"dataframe\">\n",
       "  <thead>\n",
       "    <tr style=\"text-align: right;\">\n",
       "      <th></th>\n",
       "      <th>Date</th>\n",
       "      <th>Mean temp (°C)</th>\n",
       "      <th>Tot precip (mm)</th>\n",
       "      <th>Snow on ground (cm)</th>\n",
       "      <th>Wind max speed (km/h)</th>\n",
       "      <th>normalized_count</th>\n",
       "    </tr>\n",
       "  </thead>\n",
       "  <tbody>\n",
       "    <tr>\n",
       "      <td>825</td>\n",
       "      <td>2016-04-15</td>\n",
       "      <td>7.0</td>\n",
       "      <td>0.0</td>\n",
       "      <td>0.0</td>\n",
       "      <td>NaN</td>\n",
       "      <td>0.002372</td>\n",
       "    </tr>\n",
       "    <tr>\n",
       "      <td>826</td>\n",
       "      <td>2016-04-16</td>\n",
       "      <td>8.3</td>\n",
       "      <td>0.0</td>\n",
       "      <td>0.0</td>\n",
       "      <td>NaN</td>\n",
       "      <td>0.002751</td>\n",
       "    </tr>\n",
       "    <tr>\n",
       "      <td>827</td>\n",
       "      <td>2016-04-17</td>\n",
       "      <td>13.8</td>\n",
       "      <td>0.0</td>\n",
       "      <td>0.0</td>\n",
       "      <td>NaN</td>\n",
       "      <td>0.003406</td>\n",
       "    </tr>\n",
       "    <tr>\n",
       "      <td>828</td>\n",
       "      <td>2016-04-18</td>\n",
       "      <td>9.2</td>\n",
       "      <td>10.9</td>\n",
       "      <td>0.0</td>\n",
       "      <td>32.0</td>\n",
       "      <td>0.001469</td>\n",
       "    </tr>\n",
       "    <tr>\n",
       "      <td>829</td>\n",
       "      <td>2016-04-19</td>\n",
       "      <td>9.0</td>\n",
       "      <td>0.0</td>\n",
       "      <td>0.0</td>\n",
       "      <td>37.0</td>\n",
       "      <td>0.003128</td>\n",
       "    </tr>\n",
       "    <tr>\n",
       "      <td>...</td>\n",
       "      <td>...</td>\n",
       "      <td>...</td>\n",
       "      <td>...</td>\n",
       "      <td>...</td>\n",
       "      <td>...</td>\n",
       "      <td>...</td>\n",
       "    </tr>\n",
       "    <tr>\n",
       "      <td>1765</td>\n",
       "      <td>2018-11-11</td>\n",
       "      <td>-1.8</td>\n",
       "      <td>0.0</td>\n",
       "      <td>0.0</td>\n",
       "      <td>32.0</td>\n",
       "      <td>0.001137</td>\n",
       "    </tr>\n",
       "    <tr>\n",
       "      <td>1766</td>\n",
       "      <td>2018-11-12</td>\n",
       "      <td>0.6</td>\n",
       "      <td>0.0</td>\n",
       "      <td>0.0</td>\n",
       "      <td>NaN</td>\n",
       "      <td>0.002045</td>\n",
       "    </tr>\n",
       "    <tr>\n",
       "      <td>1767</td>\n",
       "      <td>2018-11-13</td>\n",
       "      <td>-2.8</td>\n",
       "      <td>7.8</td>\n",
       "      <td>0.0</td>\n",
       "      <td>36.0</td>\n",
       "      <td>0.001382</td>\n",
       "    </tr>\n",
       "    <tr>\n",
       "      <td>1768</td>\n",
       "      <td>2018-11-14</td>\n",
       "      <td>-8.8</td>\n",
       "      <td>0.0</td>\n",
       "      <td>0.0</td>\n",
       "      <td>35.0</td>\n",
       "      <td>0.001361</td>\n",
       "    </tr>\n",
       "    <tr>\n",
       "      <td>1769</td>\n",
       "      <td>2018-11-15</td>\n",
       "      <td>-7.0</td>\n",
       "      <td>0.0</td>\n",
       "      <td>0.0</td>\n",
       "      <td>NaN</td>\n",
       "      <td>0.001440</td>\n",
       "    </tr>\n",
       "  </tbody>\n",
       "</table>\n",
       "<p>633 rows × 6 columns</p>\n",
       "</div>"
      ],
      "text/plain": [
       "           Date  Mean temp (°C)  Tot precip (mm)  Snow on ground (cm)  \\\n",
       "825  2016-04-15             7.0              0.0                  0.0   \n",
       "826  2016-04-16             8.3              0.0                  0.0   \n",
       "827  2016-04-17            13.8              0.0                  0.0   \n",
       "828  2016-04-18             9.2             10.9                  0.0   \n",
       "829  2016-04-19             9.0              0.0                  0.0   \n",
       "...         ...             ...              ...                  ...   \n",
       "1765 2018-11-11            -1.8              0.0                  0.0   \n",
       "1766 2018-11-12             0.6              0.0                  0.0   \n",
       "1767 2018-11-13            -2.8              7.8                  0.0   \n",
       "1768 2018-11-14            -8.8              0.0                  0.0   \n",
       "1769 2018-11-15            -7.0              0.0                  0.0   \n",
       "\n",
       "      Wind max speed (km/h)  normalized_count  \n",
       "825                     NaN          0.002372  \n",
       "826                     NaN          0.002751  \n",
       "827                     NaN          0.003406  \n",
       "828                    32.0          0.001469  \n",
       "829                    37.0          0.003128  \n",
       "...                     ...               ...  \n",
       "1765                   32.0          0.001137  \n",
       "1766                    NaN          0.002045  \n",
       "1767                   36.0          0.001382  \n",
       "1768                   35.0          0.001361  \n",
       "1769                    NaN          0.001440  \n",
       "\n",
       "[633 rows x 6 columns]"
      ]
     },
     "execution_count": 32,
     "metadata": {},
     "output_type": "execute_result"
    }
   ],
   "source": [
    "year_2016 = total_dataset['Date'].dt.year == 2016\n",
    "data_2016 = total_dataset[year_2016]\n",
    "\n",
    "year_2017 = total_dataset['Date'].dt.year == 2017\n",
    "data_2017 = total_dataset[year_2017]\n",
    "\n",
    "year_2018 = total_dataset['Date'].dt.year == 2018\n",
    "data_2018 = total_dataset[year_2018]\n",
    "\n",
    "total_dataset_beyond2016 = pd.concat([data_2016,data_2017,data_2018])\n",
    "total_dataset_beyond2016"
   ]
  },
  {
   "cell_type": "code",
   "execution_count": 68,
   "metadata": {},
   "outputs": [
    {
     "name": "stdout",
     "output_type": "stream",
     "text": [
      "<class 'pandas.core.frame.DataFrame'>\n"
     ]
    }
   ],
   "source": [
    "# Correlation with temperature\n",
    "temp_plot = total_dataset_beyond2016[[\"Mean temp (°C)\", \"normalized_count\"]]\n",
    "temp_plot = temp_plot.dropna()\n",
    "temp_plot[\"Mean temp (°C)\"] = temp_plot[\"Mean temp (°C)\"].apply(lambda x: int(np.round(x-0.5)))\n",
    "temp_plot = temp_plot.groupby(\"Mean temp (°C)\")[\"normalized_count\"].apply(np.mean)"
   ]
  },
  {
   "cell_type": "code",
   "execution_count": 67,
   "metadata": {},
   "outputs": [
    {
     "data": {
      "text/plain": [
       "<matplotlib.axes._subplots.AxesSubplot at 0x2a9430086a0>"
      ]
     },
     "execution_count": 67,
     "metadata": {},
     "output_type": "execute_result"
    },
    {
     "data": {
      "image/png": "[encoded data removed]",
      "text/plain": [
       "<Figure size 432x288 with 1 Axes>"
      ]
     },
     "metadata": {
      "needs_background": "light"
     },
     "output_type": "display_data"
    }
   ],
   "source": [
    "temp_plot.plot.bar(x=\"Mean temp (°C)\", y=\"normalized_count\", title = 'Normalized bike use by temperature')"
   ]
  },
  {
   "cell_type": "markdown",
   "metadata": {},
   "source": [
    "## Ridge regression"
   ]
  },
  {
   "cell_type": "code",
   "execution_count": 33,
   "metadata": {},
   "outputs": [],
   "source": [
    "from sklearn.model_selection import train_test_split \n",
    "from sklearn.linear_model import Ridge \n",
    "from sklearn.model_selection import cross_val_predict \n",
    "from sklearn.metrics import mean_squared_error \n",
    "from sklearn.preprocessing import scale "
   ]
  },
  {
   "cell_type": "markdown",
   "metadata": {},
   "source": [
    "Must have no missing value to do the following analysis, so we have to take a choice.\n",
    "If we use the wind, we will consider only days with Wind max > 31 km/h."
   ]
  },
  {
   "cell_type": "code",
   "execution_count": 34,
   "metadata": {},
   "outputs": [
    {
     "data": {
      "text/html": [
       "<div>\n",
       "<style scoped>\n",
       "    .dataframe tbody tr th:only-of-type {\n",
       "        vertical-align: middle;\n",
       "    }\n",
       "\n",
       "    .dataframe tbody tr th {\n",
       "        vertical-align: top;\n",
       "    }\n",
       "\n",
       "    .dataframe thead th {\n",
       "        text-align: right;\n",
       "    }\n",
       "</style>\n",
       "<table border=\"1\" class=\"dataframe\">\n",
       "  <thead>\n",
       "    <tr style=\"text-align: right;\">\n",
       "      <th></th>\n",
       "      <th>Date</th>\n",
       "      <th>Mean temp (°C)</th>\n",
       "      <th>Tot precip (mm)</th>\n",
       "      <th>Snow on ground (cm)</th>\n",
       "      <th>Wind max speed (km/h)</th>\n",
       "      <th>normalized_count</th>\n",
       "    </tr>\n",
       "  </thead>\n",
       "  <tbody>\n",
       "    <tr>\n",
       "      <td>828</td>\n",
       "      <td>2016-04-18</td>\n",
       "      <td>9.2</td>\n",
       "      <td>10.9</td>\n",
       "      <td>0.0</td>\n",
       "      <td>32.0</td>\n",
       "      <td>0.001469</td>\n",
       "    </tr>\n",
       "    <tr>\n",
       "      <td>829</td>\n",
       "      <td>2016-04-19</td>\n",
       "      <td>9.0</td>\n",
       "      <td>0.0</td>\n",
       "      <td>0.0</td>\n",
       "      <td>37.0</td>\n",
       "      <td>0.003128</td>\n",
       "    </tr>\n",
       "    <tr>\n",
       "      <td>832</td>\n",
       "      <td>2016-04-22</td>\n",
       "      <td>11.2</td>\n",
       "      <td>9.1</td>\n",
       "      <td>0.0</td>\n",
       "      <td>32.0</td>\n",
       "      <td>0.002386</td>\n",
       "    </tr>\n",
       "    <tr>\n",
       "      <td>833</td>\n",
       "      <td>2016-04-23</td>\n",
       "      <td>7.1</td>\n",
       "      <td>0.0</td>\n",
       "      <td>0.0</td>\n",
       "      <td>32.0</td>\n",
       "      <td>0.003312</td>\n",
       "    </tr>\n",
       "    <tr>\n",
       "      <td>834</td>\n",
       "      <td>2016-04-24</td>\n",
       "      <td>5.4</td>\n",
       "      <td>0.0</td>\n",
       "      <td>0.0</td>\n",
       "      <td>33.0</td>\n",
       "      <td>0.002631</td>\n",
       "    </tr>\n",
       "  </tbody>\n",
       "</table>\n",
       "</div>"
      ],
      "text/plain": [
       "          Date  Mean temp (°C)  Tot precip (mm)  Snow on ground (cm)  \\\n",
       "828 2016-04-18             9.2             10.9                  0.0   \n",
       "829 2016-04-19             9.0              0.0                  0.0   \n",
       "832 2016-04-22            11.2              9.1                  0.0   \n",
       "833 2016-04-23             7.1              0.0                  0.0   \n",
       "834 2016-04-24             5.4              0.0                  0.0   \n",
       "\n",
       "     Wind max speed (km/h)  normalized_count  \n",
       "828                   32.0          0.001469  \n",
       "829                   37.0          0.003128  \n",
       "832                   32.0          0.002386  \n",
       "833                   32.0          0.003312  \n",
       "834                   33.0          0.002631  "
      ]
     },
     "execution_count": 34,
     "metadata": {},
     "output_type": "execute_result"
    }
   ],
   "source": [
    "First_regression = total_dataset_beyond2016.dropna()\n",
    "\n",
    "First_regression.head()"
   ]
  },
  {
   "cell_type": "code",
   "execution_count": 35,
   "metadata": {},
   "outputs": [],
   "source": [
    "parameters = ['normalized_count', 'Mean temp (°C)','Tot precip (mm)', 'Snow on ground (cm)', \n",
    "              'Wind max speed (km/h)']\n",
    "y = First_regression[parameters[0]]\n",
    "X = First_regression[parameters[1:]]\n",
    "\n",
    "X_train, X_test, y_train, y_test = train_test_split(X, y, test_size=0.30, random_state=1)\n",
    "\n",
    "# Normalisation\n",
    "\n",
    "X = scale(X, axis = 0)"
   ]
  },
  {
   "cell_type": "code",
   "execution_count": 36,
   "metadata": {},
   "outputs": [],
   "source": [
    "# find the alpha for which mse (mean square error) is minimal\n",
    "\n",
    "train_mse = [] # will contain mse value for each alpha in (0:2000)\n",
    "\n",
    "# alpha = 0\n",
    "\n",
    "ridge = Ridge(alpha=0)  #creation of the model\n",
    "predicted_r = cross_val_predict(ridge, X_train, y_train, cv=5)\n",
    "alpha_min = 0  #initialize alpha_min\n",
    "min_mse = mean_squared_error(y_train, predicted_r)  #initialize min_mse\n",
    "train_mse.append(min_mse)\n",
    "\n",
    "# alpha in (1:2000)\n",
    "\n",
    "for alpha_i in np.arange(0.1, 200, 0.1):\n",
    "    ridge = Ridge(alpha=alpha_i)\n",
    "    predicted_r = cross_val_predict(ridge, X_train, y_train, cv=5)\n",
    "    mse_i = mean_squared_error(y_train, predicted_r)\n",
    "    train_mse.append(mse_i)    \n",
    "    if mse_i < min_mse:\n",
    "        alpha_min = alpha_i\n",
    "        min_mse = mse_i"
   ]
  },
  {
   "cell_type": "code",
   "execution_count": 37,
   "metadata": {},
   "outputs": [
    {
     "data": {
      "image/png": "[encoded data removed]",
      "text/plain": [
       "<Figure size 864x576 with 1 Axes>"
      ]
     },
     "metadata": {
      "needs_background": "light"
     },
     "output_type": "display_data"
    }
   ],
   "source": [
    "ridge = Ridge(alpha=alpha_min)\n",
    "predicted_r = cross_val_predict(ridge, X_train, y_train, cv=5)\n",
    "fig, ax = plt.subplots(figsize=(12, 8))\n",
    "ax.scatter(y_train, predicted_r, edgecolors=(0, 0, 0))\n",
    "ax.plot([min(y_train), max(y_train)], [min(y_train), max(y_train)], 'r--', lw=4)\n",
    "ax.set_xlabel('Original')\n",
    "ax.set_ylabel('Predicted')\n",
    "plt.show()"
   ]
  },
  {
   "cell_type": "code",
   "execution_count": 38,
   "metadata": {},
   "outputs": [
    {
     "data": {
      "image/png": "[encoded data removed]",
      "text/plain": [
       "<Figure size 720x360 with 1 Axes>"
      ]
     },
     "metadata": {
      "needs_background": "light"
     },
     "output_type": "display_data"
    },
    {
     "name": "stdout",
     "output_type": "stream",
     "text": [
      "Optimized alpha :  0.30000000000000004\n",
      "Minimal mean square error : 6.732100212813676e-07\n"
     ]
    }
   ],
   "source": [
    "# Which alpha is optimal ?\n",
    "\n",
    "fig, ax = plt.subplots(figsize=(10, 5))\n",
    "ax.plot(np.arange(0, 200, 0.1),train_mse)\n",
    "ax.scatter([alpha_min], [min_mse], edgecolors=(0, 0, 0), color = 'r')\n",
    "ax.set_xlabel('alpha')\n",
    "ax.set_ylabel('Mean Square Error')\n",
    "plt.show()\n",
    "print(\"Optimized alpha : \", alpha_min)\n",
    "print(\"Minimal mean square error :\", mean_squared_error(y_train, predicted_r))"
   ]
  },
  {
   "cell_type": "code",
   "execution_count": 39,
   "metadata": {},
   "outputs": [
    {
     "data": {
      "text/plain": [
       "array([ 1.83934319e-04, -7.22697522e-05, -1.48001051e-04, -1.89050845e-05])"
      ]
     },
     "execution_count": 39,
     "metadata": {},
     "output_type": "execute_result"
    }
   ],
   "source": [
    "# finally we do the regression with the chosen alpha and take a look at the coefficient\n",
    "        \n",
    "ridge = Ridge(alpha=alpha_min)\n",
    "predicted_r = cross_val_predict(ridge, X_train, y_train, cv=5)\n",
    "\n",
    "ridge.fit(X_train, y_train)\n",
    "\n",
    "ridge.coef_"
   ]
  },
  {
   "cell_type": "markdown",
   "metadata": {},
   "source": [
    "If we recapitulate, temperature has a positive influence, and rain, snow, and wind a negative one, as expected.\n",
    "The major influence is given by snow, as it is the max absolute value among the coefficient.\n",
    "However we must keep in mind that this is only valid by day of high wind (> 31 km/h)\n",
    "\n",
    "We'll do further analysis, considering only the first three columns from years 2016, because the snow column doesn't seem to be valid before this."
   ]
  },
  {
   "cell_type": "code",
   "execution_count": 40,
   "metadata": {},
   "outputs": [
    {
     "data": {
      "text/html": [
       "<div>\n",
       "<style scoped>\n",
       "    .dataframe tbody tr th:only-of-type {\n",
       "        vertical-align: middle;\n",
       "    }\n",
       "\n",
       "    .dataframe tbody tr th {\n",
       "        vertical-align: top;\n",
       "    }\n",
       "\n",
       "    .dataframe thead th {\n",
       "        text-align: right;\n",
       "    }\n",
       "</style>\n",
       "<table border=\"1\" class=\"dataframe\">\n",
       "  <thead>\n",
       "    <tr style=\"text-align: right;\">\n",
       "      <th></th>\n",
       "      <th>Date</th>\n",
       "      <th>Mean temp (°C)</th>\n",
       "      <th>Tot precip (mm)</th>\n",
       "      <th>Snow on ground (cm)</th>\n",
       "      <th>normalized_count</th>\n",
       "    </tr>\n",
       "  </thead>\n",
       "  <tbody>\n",
       "    <tr>\n",
       "      <td>825</td>\n",
       "      <td>2016-04-15</td>\n",
       "      <td>7.0</td>\n",
       "      <td>0.0</td>\n",
       "      <td>0.0</td>\n",
       "      <td>0.002372</td>\n",
       "    </tr>\n",
       "    <tr>\n",
       "      <td>826</td>\n",
       "      <td>2016-04-16</td>\n",
       "      <td>8.3</td>\n",
       "      <td>0.0</td>\n",
       "      <td>0.0</td>\n",
       "      <td>0.002751</td>\n",
       "    </tr>\n",
       "    <tr>\n",
       "      <td>827</td>\n",
       "      <td>2016-04-17</td>\n",
       "      <td>13.8</td>\n",
       "      <td>0.0</td>\n",
       "      <td>0.0</td>\n",
       "      <td>0.003406</td>\n",
       "    </tr>\n",
       "    <tr>\n",
       "      <td>828</td>\n",
       "      <td>2016-04-18</td>\n",
       "      <td>9.2</td>\n",
       "      <td>10.9</td>\n",
       "      <td>0.0</td>\n",
       "      <td>0.001469</td>\n",
       "    </tr>\n",
       "    <tr>\n",
       "      <td>829</td>\n",
       "      <td>2016-04-19</td>\n",
       "      <td>9.0</td>\n",
       "      <td>0.0</td>\n",
       "      <td>0.0</td>\n",
       "      <td>0.003128</td>\n",
       "    </tr>\n",
       "  </tbody>\n",
       "</table>\n",
       "</div>"
      ],
      "text/plain": [
       "          Date  Mean temp (°C)  Tot precip (mm)  Snow on ground (cm)  \\\n",
       "825 2016-04-15             7.0              0.0                  0.0   \n",
       "826 2016-04-16             8.3              0.0                  0.0   \n",
       "827 2016-04-17            13.8              0.0                  0.0   \n",
       "828 2016-04-18             9.2             10.9                  0.0   \n",
       "829 2016-04-19             9.0              0.0                  0.0   \n",
       "\n",
       "     normalized_count  \n",
       "825          0.002372  \n",
       "826          0.002751  \n",
       "827          0.003406  \n",
       "828          0.001469  \n",
       "829          0.003128  "
      ]
     },
     "execution_count": 40,
     "metadata": {},
     "output_type": "execute_result"
    }
   ],
   "source": [
    "Second_regression = total_dataset_beyond2016[['Date','Mean temp (°C)','Tot precip (mm)','Snow on ground (cm)',\n",
    "                                   'normalized_count']]\n",
    "\n",
    "Second_regression = Second_regression.dropna()\n",
    "Second_regression.head()"
   ]
  },
  {
   "cell_type": "code",
   "execution_count": 41,
   "metadata": {},
   "outputs": [],
   "source": [
    "parameters = ['normalized_count', 'Mean temp (°C)','Tot precip (mm)', 'Snow on ground (cm)']\n",
    "y = Second_regression[parameters[0]]\n",
    "X = Second_regression[parameters[1:]]\n",
    "\n",
    "X_train, X_test, y_train, y_test = train_test_split(X, y, test_size=0.30, random_state=1)\n",
    "\n",
    "# Normalisation\n",
    "\n",
    "X = scale(X, axis = 0)"
   ]
  },
  {
   "cell_type": "code",
   "execution_count": 42,
   "metadata": {},
   "outputs": [],
   "source": [
    "# find the alpha for which mse (mean square error) is minimal\n",
    "\n",
    "train_mse = [] # will contain mse value for each alpha in (0:2000)\n",
    "\n",
    "# alpha = 0\n",
    "\n",
    "ridge = Ridge(alpha=0)  #creation of the model\n",
    "predicted_r = cross_val_predict(ridge, X_train, y_train, cv=5)\n",
    "alpha_min = 0  #initialize alpha_min\n",
    "min_mse = mean_squared_error(y_train, predicted_r)  #initialize min_mse\n",
    "train_mse.append(min_mse)\n",
    "\n",
    "# alpha in (1:2000)\n",
    "\n",
    "for alpha_i in range(1, 2000):\n",
    "    ridge = Ridge(alpha=alpha_i)\n",
    "    predicted_r = cross_val_predict(ridge, X_train, y_train, cv=5)\n",
    "    mse_i = mean_squared_error(y_train, predicted_r)\n",
    "    train_mse.append(mse_i)    \n",
    "    if mse_i < min_mse:\n",
    "        alpha_min = alpha_i\n",
    "        min_mse = mse_i"
   ]
  },
  {
   "cell_type": "code",
   "execution_count": 43,
   "metadata": {},
   "outputs": [
    {
     "data": {
      "image/png": "[encoded data removed]",
      "text/plain": [
       "<Figure size 720x360 with 1 Axes>"
      ]
     },
     "metadata": {
      "needs_background": "light"
     },
     "output_type": "display_data"
    },
    {
     "name": "stdout",
     "output_type": "stream",
     "text": [
      "Optimized alpha :  87\n",
      "Minimal mean square error : 8.114884720660402e-07\n"
     ]
    }
   ],
   "source": [
    "# Which alpha is optimal ?\n",
    "\n",
    "fig, ax = plt.subplots(figsize=(10, 5))\n",
    "ax.plot(train_mse)\n",
    "ax.scatter([alpha_min], [min_mse], edgecolors=(0, 0, 0), color = 'r')\n",
    "ax.set_xlabel('alpha')\n",
    "ax.set_ylabel('Mean Square Error')\n",
    "plt.show()\n",
    "print(\"Optimized alpha : \", alpha_min)\n",
    "print(\"Minimal mean square error :\", mean_squared_error(y_train, predicted_r))"
   ]
  },
  {
   "cell_type": "code",
   "execution_count": 44,
   "metadata": {},
   "outputs": [
    {
     "data": {
      "text/plain": [
       "array([ 1.72323698e-04, -7.82654802e-05, -5.90781277e-05])"
      ]
     },
     "execution_count": 44,
     "metadata": {},
     "output_type": "execute_result"
    }
   ],
   "source": [
    "# finally we do the regression with the chosen alpha and take a look at the coefficient\n",
    "        \n",
    "ridge = Ridge(alpha=alpha_min)\n",
    "predicted_r = cross_val_predict(ridge, X_train, y_train, cv=5)\n",
    "\n",
    "ridge.fit(X_train, y_train)\n",
    "\n",
    "ridge.coef_"
   ]
  },
  {
   "cell_type": "markdown",
   "metadata": {},
   "source": [
    "Once again, temperature is a positiv factor and rain and snow are negative ones.\n",
    "This time temperature is the principal factor in Montreal that will make you decide whether or not you will use the public bike."
   ]
  },
  {
   "cell_type": "markdown",
   "metadata": {},
   "source": [
    "There is no need cutting further this dataset to do a Ridge regression.\n",
    "We will do individual analysis of each parameters."
   ]
  },
  {
   "cell_type": "markdown",
   "metadata": {},
   "source": [
    "# Prediction\n",
    "\n",
    "Now that we have such a model, we could try to predict what would be the bike use during winter if the bikeshare system was not closed, to see whether or not the closing month choice is appropriate."
   ]
  },
  {
   "cell_type": "code",
   "execution_count": 45,
   "metadata": {},
   "outputs": [],
   "source": [
    "year_2016 = cleaned_weather['Date'].dt.year == 2016\n",
    "data_2016 = cleaned_weather[year_2016]\n",
    "\n",
    "year_2017 = cleaned_weather['Date'].dt.year == 2017\n",
    "data_2017 = cleaned_weather[year_2017]\n",
    "\n",
    "year_2018 = cleaned_weather['Date'].dt.year == 2018\n",
    "data_2018 = cleaned_weather[year_2018]\n",
    "\n",
    "cleaned_weather_of_interest = pd.concat([data_2016, data_2017, data_2018])"
   ]
  },
  {
   "cell_type": "code",
   "execution_count": 46,
   "metadata": {},
   "outputs": [],
   "source": [
    "rng = pd.date_range('2016-10-16', periods=181, freq='D')\n",
    "calendar_winter_2016 = pd.DataFrame({ 'date': rng}) \n",
    "\n",
    "rng = pd.date_range('2017-10-16', periods=181, freq='D')\n",
    "calendar_winter_2017 = pd.DataFrame({ 'date': rng}) \n",
    "\n",
    "rng = pd.date_range('2018-10-16', periods=181, freq='D')\n",
    "calendar_winter_2018 = pd.DataFrame({ 'date': rng}) \n",
    "\n",
    "winter = pd.concat([calendar_winter_2016, calendar_winter_2017, calendar_winter_2018])"
   ]
  },
  {
   "cell_type": "code",
   "execution_count": 47,
   "metadata": {},
   "outputs": [],
   "source": [
    "cleaned_weather_of_interest['new'] = range(1073)\n",
    "\n",
    "parameters = ['Mean temp (°C)','Tot precip (mm)','Snow on ground (cm)']\n",
    "\n",
    "X = cleaned_weather_of_interest[parameters]\n",
    "\n",
    "# Normalisation\n",
    "\n",
    "X = scale(X, axis = 0)\n",
    "\n",
    "X = pd.DataFrame(X, columns = ['normalized_temperature', 'normalized_precipitation', 'normalized_snow on ground'])\n",
    "\n",
    "X['new'] = range(1073)\n",
    "\n",
    "normalized_weather_of_interest = pd.merge(cleaned_weather_of_interest, X, how='inner', on=None, left_on='new', \n",
    "                                          right_on='new', left_index=False, right_index=False, sort=True, \n",
    "                                          suffixes=('_x', '_y'), copy=True, indicator=False, validate=None)\n",
    "\n",
    "normalized_weather_of_interest = normalized_weather_of_interest[['Date','normalized_temperature',\n",
    "                                                                 'normalized_precipitation', \n",
    "                                                                 'normalized_snow on ground']]\n",
    "\n",
    "winter_weather = pd.merge(normalized_weather_of_interest, winter, how='inner', on=None, left_on='Date', \n",
    "                          right_on='date', left_index=False, right_index=False, sort=True, suffixes=('_x', '_y'), \n",
    "                          copy=True, indicator=False, validate=None)\n",
    "\n",
    "winter_weather.drop(['date'],axis='columns', inplace = True)\n",
    "\n",
    "winter_weather['predicted_count'] = 1.72323698e-04 * winter_weather['normalized_temperature'] -7.82654802e-05 * winter_weather['normalized_precipitation']-5.90781277e-05 * winter_weather['normalized_snow on ground']\n",
    "\n",
    "winter_prediction = winter_weather[['Date','predicted_count']]"
   ]
  },
  {
   "cell_type": "code",
   "execution_count": 165,
   "metadata": {},
   "outputs": [
    {
     "data": {
      "image/png": "[encoded data removed]",
      "text/plain": [
       "<Figure size 432x288 with 1 Axes>"
      ]
     },
     "metadata": {
      "needs_background": "light"
     },
     "output_type": "display_data"
    }
   ],
   "source": [
    "plt.plot(winter_prediction['Date'],winter_prediction['predicted_count'])\n",
    "plt.xticks(rotation = 45);\n",
    "\n",
    "# now that we have this maybe we can...\n",
    "# plot aaaaaaaall the data ?"
   ]
  },
  {
   "cell_type": "code",
   "execution_count": 56,
   "metadata": {},
   "outputs": [
    {
     "data": {
      "image/png": "[encoded data removed]",
      "text/plain": [
       "<Figure size 432x288 with 1 Axes>"
      ]
     },
     "metadata": {
      "needs_background": "light"
     },
     "output_type": "display_data"
    }
   ],
   "source": [
    "completed_dataset = pd.merge(total_dataset_beyond2016, winter_prediction, how='outer', on=None, left_on='Date', \n",
    "                          right_on='Date', left_index=False, right_index=False, sort=True, suffixes=('_x', '_y'), \n",
    "                          copy=True, indicator=False, validate=None)\n",
    "\n",
    "completed_dataset = completed_dataset[['Date','normalized_count','predicted_count']]\n",
    "completed_dataset = completed_dataset.fillna(0)\n",
    "completed_dataset['normalized_count'] = completed_dataset['normalized_count'] + completed_dataset['predicted_count']\n",
    "completed_dataset.drop(['predicted_count'],axis='columns', inplace = True)\n",
    "\n",
    "plt.plot(completed_dataset['Date'],completed_dataset['normalized_count'])\n",
    "plt.xticks(rotation = 45);\n"
   ]
  },
  {
   "cell_type": "code",
   "execution_count": 48,
   "metadata": {},
   "outputs": [
    {
     "data": {
      "text/html": [
       "<div>\n",
       "<style scoped>\n",
       "    .dataframe tbody tr th:only-of-type {\n",
       "        vertical-align: middle;\n",
       "    }\n",
       "\n",
       "    .dataframe tbody tr th {\n",
       "        vertical-align: top;\n",
       "    }\n",
       "\n",
       "    .dataframe thead th {\n",
       "        text-align: right;\n",
       "    }\n",
       "</style>\n",
       "<table border=\"1\" class=\"dataframe\">\n",
       "  <thead>\n",
       "    <tr style=\"text-align: right;\">\n",
       "      <th></th>\n",
       "      <th>Date</th>\n",
       "      <th>predicted_count</th>\n",
       "    </tr>\n",
       "  </thead>\n",
       "  <tbody>\n",
       "    <tr>\n",
       "      <td>0</td>\n",
       "      <td>2016-10-16</td>\n",
       "      <td>0.000027</td>\n",
       "    </tr>\n",
       "    <tr>\n",
       "      <td>1</td>\n",
       "      <td>2016-10-18</td>\n",
       "      <td>0.000154</td>\n",
       "    </tr>\n",
       "    <tr>\n",
       "      <td>2</td>\n",
       "      <td>2016-10-19</td>\n",
       "      <td>0.000153</td>\n",
       "    </tr>\n",
       "    <tr>\n",
       "      <td>3</td>\n",
       "      <td>2016-10-20</td>\n",
       "      <td>-0.000176</td>\n",
       "    </tr>\n",
       "    <tr>\n",
       "      <td>4</td>\n",
       "      <td>2016-10-21</td>\n",
       "      <td>-0.000372</td>\n",
       "    </tr>\n",
       "    <tr>\n",
       "      <td>...</td>\n",
       "      <td>...</td>\n",
       "      <td>...</td>\n",
       "    </tr>\n",
       "    <tr>\n",
       "      <td>427</td>\n",
       "      <td>2018-12-27</td>\n",
       "      <td>-0.000222</td>\n",
       "    </tr>\n",
       "    <tr>\n",
       "      <td>428</td>\n",
       "      <td>2018-12-28</td>\n",
       "      <td>-0.000309</td>\n",
       "    </tr>\n",
       "    <tr>\n",
       "      <td>429</td>\n",
       "      <td>2018-12-29</td>\n",
       "      <td>-0.000100</td>\n",
       "    </tr>\n",
       "    <tr>\n",
       "      <td>430</td>\n",
       "      <td>2018-12-30</td>\n",
       "      <td>-0.000192</td>\n",
       "    </tr>\n",
       "    <tr>\n",
       "      <td>431</td>\n",
       "      <td>2018-12-31</td>\n",
       "      <td>-0.000140</td>\n",
       "    </tr>\n",
       "  </tbody>\n",
       "</table>\n",
       "<p>432 rows × 2 columns</p>\n",
       "</div>"
      ],
      "text/plain": [
       "          Date  predicted_count\n",
       "0   2016-10-16         0.000027\n",
       "1   2016-10-18         0.000154\n",
       "2   2016-10-19         0.000153\n",
       "3   2016-10-20        -0.000176\n",
       "4   2016-10-21        -0.000372\n",
       "..         ...              ...\n",
       "427 2018-12-27        -0.000222\n",
       "428 2018-12-28        -0.000309\n",
       "429 2018-12-29        -0.000100\n",
       "430 2018-12-30        -0.000192\n",
       "431 2018-12-31        -0.000140\n",
       "\n",
       "[432 rows x 2 columns]"
      ]
     },
     "execution_count": 48,
     "metadata": {},
     "output_type": "execute_result"
    }
   ],
   "source": [
    "winter_prediction"
   ]
  },
  {
   "cell_type": "code",
   "execution_count": 168,
   "metadata": {},
   "outputs": [
    {
     "data": {
      "text/html": [
       "<div>\n",
       "<style scoped>\n",
       "    .dataframe tbody tr th:only-of-type {\n",
       "        vertical-align: middle;\n",
       "    }\n",
       "\n",
       "    .dataframe tbody tr th {\n",
       "        vertical-align: top;\n",
       "    }\n",
       "\n",
       "    .dataframe thead th {\n",
       "        text-align: right;\n",
       "    }\n",
       "</style>\n",
       "<table border=\"1\" class=\"dataframe\">\n",
       "  <thead>\n",
       "    <tr style=\"text-align: right;\">\n",
       "      <th></th>\n",
       "      <th>Date</th>\n",
       "      <th>Mean temp (°C)</th>\n",
       "      <th>Tot precip (mm)</th>\n",
       "      <th>Snow on ground (cm)</th>\n",
       "      <th>Wind max speed (km/h)</th>\n",
       "      <th>normalized_count</th>\n",
       "    </tr>\n",
       "  </thead>\n",
       "  <tbody>\n",
       "    <tr>\n",
       "      <td>825</td>\n",
       "      <td>2016-04-15</td>\n",
       "      <td>7.0</td>\n",
       "      <td>0.0</td>\n",
       "      <td>0.0</td>\n",
       "      <td>NaN</td>\n",
       "      <td>0.002372</td>\n",
       "    </tr>\n",
       "    <tr>\n",
       "      <td>826</td>\n",
       "      <td>2016-04-16</td>\n",
       "      <td>8.3</td>\n",
       "      <td>0.0</td>\n",
       "      <td>0.0</td>\n",
       "      <td>NaN</td>\n",
       "      <td>0.002751</td>\n",
       "    </tr>\n",
       "    <tr>\n",
       "      <td>827</td>\n",
       "      <td>2016-04-17</td>\n",
       "      <td>13.8</td>\n",
       "      <td>0.0</td>\n",
       "      <td>0.0</td>\n",
       "      <td>NaN</td>\n",
       "      <td>0.003406</td>\n",
       "    </tr>\n",
       "    <tr>\n",
       "      <td>828</td>\n",
       "      <td>2016-04-18</td>\n",
       "      <td>9.2</td>\n",
       "      <td>10.9</td>\n",
       "      <td>0.0</td>\n",
       "      <td>32.0</td>\n",
       "      <td>0.001469</td>\n",
       "    </tr>\n",
       "    <tr>\n",
       "      <td>829</td>\n",
       "      <td>2016-04-19</td>\n",
       "      <td>9.0</td>\n",
       "      <td>0.0</td>\n",
       "      <td>0.0</td>\n",
       "      <td>37.0</td>\n",
       "      <td>0.003128</td>\n",
       "    </tr>\n",
       "    <tr>\n",
       "      <td>...</td>\n",
       "      <td>...</td>\n",
       "      <td>...</td>\n",
       "      <td>...</td>\n",
       "      <td>...</td>\n",
       "      <td>...</td>\n",
       "      <td>...</td>\n",
       "    </tr>\n",
       "    <tr>\n",
       "      <td>1765</td>\n",
       "      <td>2018-11-11</td>\n",
       "      <td>-1.8</td>\n",
       "      <td>0.0</td>\n",
       "      <td>0.0</td>\n",
       "      <td>32.0</td>\n",
       "      <td>0.001137</td>\n",
       "    </tr>\n",
       "    <tr>\n",
       "      <td>1766</td>\n",
       "      <td>2018-11-12</td>\n",
       "      <td>0.6</td>\n",
       "      <td>0.0</td>\n",
       "      <td>0.0</td>\n",
       "      <td>NaN</td>\n",
       "      <td>0.002045</td>\n",
       "    </tr>\n",
       "    <tr>\n",
       "      <td>1767</td>\n",
       "      <td>2018-11-13</td>\n",
       "      <td>-2.8</td>\n",
       "      <td>7.8</td>\n",
       "      <td>0.0</td>\n",
       "      <td>36.0</td>\n",
       "      <td>0.001382</td>\n",
       "    </tr>\n",
       "    <tr>\n",
       "      <td>1768</td>\n",
       "      <td>2018-11-14</td>\n",
       "      <td>-8.8</td>\n",
       "      <td>0.0</td>\n",
       "      <td>0.0</td>\n",
       "      <td>35.0</td>\n",
       "      <td>0.001361</td>\n",
       "    </tr>\n",
       "    <tr>\n",
       "      <td>1769</td>\n",
       "      <td>2018-11-15</td>\n",
       "      <td>-7.0</td>\n",
       "      <td>0.0</td>\n",
       "      <td>0.0</td>\n",
       "      <td>NaN</td>\n",
       "      <td>0.001440</td>\n",
       "    </tr>\n",
       "  </tbody>\n",
       "</table>\n",
       "<p>633 rows × 6 columns</p>\n",
       "</div>"
      ],
      "text/plain": [
       "           Date  Mean temp (°C)  Tot precip (mm)  Snow on ground (cm)  \\\n",
       "825  2016-04-15             7.0              0.0                  0.0   \n",
       "826  2016-04-16             8.3              0.0                  0.0   \n",
       "827  2016-04-17            13.8              0.0                  0.0   \n",
       "828  2016-04-18             9.2             10.9                  0.0   \n",
       "829  2016-04-19             9.0              0.0                  0.0   \n",
       "...         ...             ...              ...                  ...   \n",
       "1765 2018-11-11            -1.8              0.0                  0.0   \n",
       "1766 2018-11-12             0.6              0.0                  0.0   \n",
       "1767 2018-11-13            -2.8              7.8                  0.0   \n",
       "1768 2018-11-14            -8.8              0.0                  0.0   \n",
       "1769 2018-11-15            -7.0              0.0                  0.0   \n",
       "\n",
       "      Wind max speed (km/h)  normalized_count  \n",
       "825                     NaN          0.002372  \n",
       "826                     NaN          0.002751  \n",
       "827                     NaN          0.003406  \n",
       "828                    32.0          0.001469  \n",
       "829                    37.0          0.003128  \n",
       "...                     ...               ...  \n",
       "1765                   32.0          0.001137  \n",
       "1766                    NaN          0.002045  \n",
       "1767                   36.0          0.001382  \n",
       "1768                   35.0          0.001361  \n",
       "1769                    NaN          0.001440  \n",
       "\n",
       "[633 rows x 6 columns]"
      ]
     },
     "execution_count": 168,
     "metadata": {},
     "output_type": "execute_result"
    }
   ],
   "source": [
    "total_dataset_beyond2016"
   ]
  },
  {
   "cell_type": "code",
   "execution_count": 170,
   "metadata": {
    "collapsed": true,
    "jupyter": {
     "outputs_hidden": true
    }
   },
   "outputs": [
    {
     "ename": "KeyError",
     "evalue": "\"['Wind max speed (km/h)'] not found in axis\"",
     "output_type": "error",
     "traceback": [
      "\u001b[1;31m---------------------------------------------------------------------------\u001b[0m",
      "\u001b[1;31mKeyError\u001b[0m                                  Traceback (most recent call last)",
      "\u001b[1;32m<ipython-input-170-edb3b88f567c>\u001b[0m in \u001b[0;36m<module>\u001b[1;34m\u001b[0m\n\u001b[1;32m----> 1\u001b[1;33m \u001b[0mtotal_dataset_beyond2016\u001b[0m\u001b[1;33m.\u001b[0m\u001b[0mdrop\u001b[0m\u001b[1;33m(\u001b[0m\u001b[1;33m[\u001b[0m\u001b[1;34m'Wind max speed (km/h)'\u001b[0m\u001b[1;33m]\u001b[0m\u001b[1;33m,\u001b[0m\u001b[0maxis\u001b[0m\u001b[1;33m=\u001b[0m\u001b[1;34m'columns'\u001b[0m\u001b[1;33m,\u001b[0m \u001b[0minplace\u001b[0m \u001b[1;33m=\u001b[0m \u001b[1;32mTrue\u001b[0m\u001b[1;33m)\u001b[0m\u001b[1;33m\u001b[0m\u001b[1;33m\u001b[0m\u001b[0m\n\u001b[0m\u001b[0;32m      2\u001b[0m \u001b[0mtotal_dataset_beyond2016\u001b[0m\u001b[1;33m\u001b[0m\u001b[1;33m\u001b[0m\u001b[0m\n",
      "\u001b[1;32m~\\Anaconda3\\lib\\site-packages\\pandas\\core\\frame.py\u001b[0m in \u001b[0;36mdrop\u001b[1;34m(self, labels, axis, index, columns, level, inplace, errors)\u001b[0m\n\u001b[0;32m   4100\u001b[0m             \u001b[0mlevel\u001b[0m\u001b[1;33m=\u001b[0m\u001b[0mlevel\u001b[0m\u001b[1;33m,\u001b[0m\u001b[1;33m\u001b[0m\u001b[1;33m\u001b[0m\u001b[0m\n\u001b[0;32m   4101\u001b[0m             \u001b[0minplace\u001b[0m\u001b[1;33m=\u001b[0m\u001b[0minplace\u001b[0m\u001b[1;33m,\u001b[0m\u001b[1;33m\u001b[0m\u001b[1;33m\u001b[0m\u001b[0m\n\u001b[1;32m-> 4102\u001b[1;33m             \u001b[0merrors\u001b[0m\u001b[1;33m=\u001b[0m\u001b[0merrors\u001b[0m\u001b[1;33m,\u001b[0m\u001b[1;33m\u001b[0m\u001b[1;33m\u001b[0m\u001b[0m\n\u001b[0m\u001b[0;32m   4103\u001b[0m         )\n\u001b[0;32m   4104\u001b[0m \u001b[1;33m\u001b[0m\u001b[0m\n",
      "\u001b[1;32m~\\Anaconda3\\lib\\site-packages\\pandas\\core\\generic.py\u001b[0m in \u001b[0;36mdrop\u001b[1;34m(self, labels, axis, index, columns, level, inplace, errors)\u001b[0m\n\u001b[0;32m   3912\u001b[0m         \u001b[1;32mfor\u001b[0m \u001b[0maxis\u001b[0m\u001b[1;33m,\u001b[0m \u001b[0mlabels\u001b[0m \u001b[1;32min\u001b[0m \u001b[0maxes\u001b[0m\u001b[1;33m.\u001b[0m\u001b[0mitems\u001b[0m\u001b[1;33m(\u001b[0m\u001b[1;33m)\u001b[0m\u001b[1;33m:\u001b[0m\u001b[1;33m\u001b[0m\u001b[1;33m\u001b[0m\u001b[0m\n\u001b[0;32m   3913\u001b[0m             \u001b[1;32mif\u001b[0m \u001b[0mlabels\u001b[0m \u001b[1;32mis\u001b[0m \u001b[1;32mnot\u001b[0m \u001b[1;32mNone\u001b[0m\u001b[1;33m:\u001b[0m\u001b[1;33m\u001b[0m\u001b[1;33m\u001b[0m\u001b[0m\n\u001b[1;32m-> 3914\u001b[1;33m                 \u001b[0mobj\u001b[0m \u001b[1;33m=\u001b[0m \u001b[0mobj\u001b[0m\u001b[1;33m.\u001b[0m\u001b[0m_drop_axis\u001b[0m\u001b[1;33m(\u001b[0m\u001b[0mlabels\u001b[0m\u001b[1;33m,\u001b[0m \u001b[0maxis\u001b[0m\u001b[1;33m,\u001b[0m \u001b[0mlevel\u001b[0m\u001b[1;33m=\u001b[0m\u001b[0mlevel\u001b[0m\u001b[1;33m,\u001b[0m \u001b[0merrors\u001b[0m\u001b[1;33m=\u001b[0m\u001b[0merrors\u001b[0m\u001b[1;33m)\u001b[0m\u001b[1;33m\u001b[0m\u001b[1;33m\u001b[0m\u001b[0m\n\u001b[0m\u001b[0;32m   3915\u001b[0m \u001b[1;33m\u001b[0m\u001b[0m\n\u001b[0;32m   3916\u001b[0m         \u001b[1;32mif\u001b[0m \u001b[0minplace\u001b[0m\u001b[1;33m:\u001b[0m\u001b[1;33m\u001b[0m\u001b[1;33m\u001b[0m\u001b[0m\n",
      "\u001b[1;32m~\\Anaconda3\\lib\\site-packages\\pandas\\core\\generic.py\u001b[0m in \u001b[0;36m_drop_axis\u001b[1;34m(self, labels, axis, level, errors)\u001b[0m\n\u001b[0;32m   3944\u001b[0m                 \u001b[0mnew_axis\u001b[0m \u001b[1;33m=\u001b[0m \u001b[0maxis\u001b[0m\u001b[1;33m.\u001b[0m\u001b[0mdrop\u001b[0m\u001b[1;33m(\u001b[0m\u001b[0mlabels\u001b[0m\u001b[1;33m,\u001b[0m \u001b[0mlevel\u001b[0m\u001b[1;33m=\u001b[0m\u001b[0mlevel\u001b[0m\u001b[1;33m,\u001b[0m \u001b[0merrors\u001b[0m\u001b[1;33m=\u001b[0m\u001b[0merrors\u001b[0m\u001b[1;33m)\u001b[0m\u001b[1;33m\u001b[0m\u001b[1;33m\u001b[0m\u001b[0m\n\u001b[0;32m   3945\u001b[0m             \u001b[1;32melse\u001b[0m\u001b[1;33m:\u001b[0m\u001b[1;33m\u001b[0m\u001b[1;33m\u001b[0m\u001b[0m\n\u001b[1;32m-> 3946\u001b[1;33m                 \u001b[0mnew_axis\u001b[0m \u001b[1;33m=\u001b[0m \u001b[0maxis\u001b[0m\u001b[1;33m.\u001b[0m\u001b[0mdrop\u001b[0m\u001b[1;33m(\u001b[0m\u001b[0mlabels\u001b[0m\u001b[1;33m,\u001b[0m \u001b[0merrors\u001b[0m\u001b[1;33m=\u001b[0m\u001b[0merrors\u001b[0m\u001b[1;33m)\u001b[0m\u001b[1;33m\u001b[0m\u001b[1;33m\u001b[0m\u001b[0m\n\u001b[0m\u001b[0;32m   3947\u001b[0m             \u001b[0mresult\u001b[0m \u001b[1;33m=\u001b[0m \u001b[0mself\u001b[0m\u001b[1;33m.\u001b[0m\u001b[0mreindex\u001b[0m\u001b[1;33m(\u001b[0m\u001b[1;33m**\u001b[0m\u001b[1;33m{\u001b[0m\u001b[0maxis_name\u001b[0m\u001b[1;33m:\u001b[0m \u001b[0mnew_axis\u001b[0m\u001b[1;33m}\u001b[0m\u001b[1;33m)\u001b[0m\u001b[1;33m\u001b[0m\u001b[1;33m\u001b[0m\u001b[0m\n\u001b[0;32m   3948\u001b[0m \u001b[1;33m\u001b[0m\u001b[0m\n",
      "\u001b[1;32m~\\Anaconda3\\lib\\site-packages\\pandas\\core\\indexes\\base.py\u001b[0m in \u001b[0;36mdrop\u001b[1;34m(self, labels, errors)\u001b[0m\n\u001b[0;32m   5338\u001b[0m         \u001b[1;32mif\u001b[0m \u001b[0mmask\u001b[0m\u001b[1;33m.\u001b[0m\u001b[0many\u001b[0m\u001b[1;33m(\u001b[0m\u001b[1;33m)\u001b[0m\u001b[1;33m:\u001b[0m\u001b[1;33m\u001b[0m\u001b[1;33m\u001b[0m\u001b[0m\n\u001b[0;32m   5339\u001b[0m             \u001b[1;32mif\u001b[0m \u001b[0merrors\u001b[0m \u001b[1;33m!=\u001b[0m \u001b[1;34m\"ignore\"\u001b[0m\u001b[1;33m:\u001b[0m\u001b[1;33m\u001b[0m\u001b[1;33m\u001b[0m\u001b[0m\n\u001b[1;32m-> 5340\u001b[1;33m                 \u001b[1;32mraise\u001b[0m \u001b[0mKeyError\u001b[0m\u001b[1;33m(\u001b[0m\u001b[1;34m\"{} not found in axis\"\u001b[0m\u001b[1;33m.\u001b[0m\u001b[0mformat\u001b[0m\u001b[1;33m(\u001b[0m\u001b[0mlabels\u001b[0m\u001b[1;33m[\u001b[0m\u001b[0mmask\u001b[0m\u001b[1;33m]\u001b[0m\u001b[1;33m)\u001b[0m\u001b[1;33m)\u001b[0m\u001b[1;33m\u001b[0m\u001b[1;33m\u001b[0m\u001b[0m\n\u001b[0m\u001b[0;32m   5341\u001b[0m             \u001b[0mindexer\u001b[0m \u001b[1;33m=\u001b[0m \u001b[0mindexer\u001b[0m\u001b[1;33m[\u001b[0m\u001b[1;33m~\u001b[0m\u001b[0mmask\u001b[0m\u001b[1;33m]\u001b[0m\u001b[1;33m\u001b[0m\u001b[1;33m\u001b[0m\u001b[0m\n\u001b[0;32m   5342\u001b[0m         \u001b[1;32mreturn\u001b[0m \u001b[0mself\u001b[0m\u001b[1;33m.\u001b[0m\u001b[0mdelete\u001b[0m\u001b[1;33m(\u001b[0m\u001b[0mindexer\u001b[0m\u001b[1;33m)\u001b[0m\u001b[1;33m\u001b[0m\u001b[1;33m\u001b[0m\u001b[0m\n",
      "\u001b[1;31mKeyError\u001b[0m: \"['Wind max speed (km/h)'] not found in axis\""
     ]
    }
   ],
   "source": [
    "total_dataset_beyond2016.drop(['Wind max speed (km/h)'],axis='columns', inplace = True)\n",
    "total_dataset_beyond2016"
   ]
  },
  {
   "cell_type": "code",
   "execution_count": 171,
   "metadata": {},
   "outputs": [
    {
     "data": {
      "text/html": [
       "<div>\n",
       "<style scoped>\n",
       "    .dataframe tbody tr th:only-of-type {\n",
       "        vertical-align: middle;\n",
       "    }\n",
       "\n",
       "    .dataframe tbody tr th {\n",
       "        vertical-align: top;\n",
       "    }\n",
       "\n",
       "    .dataframe thead th {\n",
       "        text-align: right;\n",
       "    }\n",
       "</style>\n",
       "<table border=\"1\" class=\"dataframe\">\n",
       "  <thead>\n",
       "    <tr style=\"text-align: right;\">\n",
       "      <th></th>\n",
       "      <th>Date</th>\n",
       "      <th>Mean temp (°C)</th>\n",
       "      <th>Tot precip (mm)</th>\n",
       "      <th>Snow on ground (cm)</th>\n",
       "      <th>normalized_count</th>\n",
       "    </tr>\n",
       "  </thead>\n",
       "  <tbody>\n",
       "    <tr>\n",
       "      <td>825</td>\n",
       "      <td>2016-04-15</td>\n",
       "      <td>7.0</td>\n",
       "      <td>0.0</td>\n",
       "      <td>0.0</td>\n",
       "      <td>0.002372</td>\n",
       "    </tr>\n",
       "    <tr>\n",
       "      <td>826</td>\n",
       "      <td>2016-04-16</td>\n",
       "      <td>8.3</td>\n",
       "      <td>0.0</td>\n",
       "      <td>0.0</td>\n",
       "      <td>0.002751</td>\n",
       "    </tr>\n",
       "    <tr>\n",
       "      <td>827</td>\n",
       "      <td>2016-04-17</td>\n",
       "      <td>13.8</td>\n",
       "      <td>0.0</td>\n",
       "      <td>0.0</td>\n",
       "      <td>0.003406</td>\n",
       "    </tr>\n",
       "    <tr>\n",
       "      <td>828</td>\n",
       "      <td>2016-04-18</td>\n",
       "      <td>9.2</td>\n",
       "      <td>10.9</td>\n",
       "      <td>0.0</td>\n",
       "      <td>0.001469</td>\n",
       "    </tr>\n",
       "    <tr>\n",
       "      <td>829</td>\n",
       "      <td>2016-04-19</td>\n",
       "      <td>9.0</td>\n",
       "      <td>0.0</td>\n",
       "      <td>0.0</td>\n",
       "      <td>0.003128</td>\n",
       "    </tr>\n",
       "    <tr>\n",
       "      <td>...</td>\n",
       "      <td>...</td>\n",
       "      <td>...</td>\n",
       "      <td>...</td>\n",
       "      <td>...</td>\n",
       "      <td>...</td>\n",
       "    </tr>\n",
       "    <tr>\n",
       "      <td>1765</td>\n",
       "      <td>2018-11-11</td>\n",
       "      <td>-1.8</td>\n",
       "      <td>0.0</td>\n",
       "      <td>0.0</td>\n",
       "      <td>0.001137</td>\n",
       "    </tr>\n",
       "    <tr>\n",
       "      <td>1766</td>\n",
       "      <td>2018-11-12</td>\n",
       "      <td>0.6</td>\n",
       "      <td>0.0</td>\n",
       "      <td>0.0</td>\n",
       "      <td>0.002045</td>\n",
       "    </tr>\n",
       "    <tr>\n",
       "      <td>1767</td>\n",
       "      <td>2018-11-13</td>\n",
       "      <td>-2.8</td>\n",
       "      <td>7.8</td>\n",
       "      <td>0.0</td>\n",
       "      <td>0.001382</td>\n",
       "    </tr>\n",
       "    <tr>\n",
       "      <td>1768</td>\n",
       "      <td>2018-11-14</td>\n",
       "      <td>-8.8</td>\n",
       "      <td>0.0</td>\n",
       "      <td>0.0</td>\n",
       "      <td>0.001361</td>\n",
       "    </tr>\n",
       "    <tr>\n",
       "      <td>1769</td>\n",
       "      <td>2018-11-15</td>\n",
       "      <td>-7.0</td>\n",
       "      <td>0.0</td>\n",
       "      <td>0.0</td>\n",
       "      <td>0.001440</td>\n",
       "    </tr>\n",
       "  </tbody>\n",
       "</table>\n",
       "<p>633 rows × 5 columns</p>\n",
       "</div>"
      ],
      "text/plain": [
       "           Date  Mean temp (°C)  Tot precip (mm)  Snow on ground (cm)  \\\n",
       "825  2016-04-15             7.0              0.0                  0.0   \n",
       "826  2016-04-16             8.3              0.0                  0.0   \n",
       "827  2016-04-17            13.8              0.0                  0.0   \n",
       "828  2016-04-18             9.2             10.9                  0.0   \n",
       "829  2016-04-19             9.0              0.0                  0.0   \n",
       "...         ...             ...              ...                  ...   \n",
       "1765 2018-11-11            -1.8              0.0                  0.0   \n",
       "1766 2018-11-12             0.6              0.0                  0.0   \n",
       "1767 2018-11-13            -2.8              7.8                  0.0   \n",
       "1768 2018-11-14            -8.8              0.0                  0.0   \n",
       "1769 2018-11-15            -7.0              0.0                  0.0   \n",
       "\n",
       "      normalized_count  \n",
       "825           0.002372  \n",
       "826           0.002751  \n",
       "827           0.003406  \n",
       "828           0.001469  \n",
       "829           0.003128  \n",
       "...                ...  \n",
       "1765          0.001137  \n",
       "1766          0.002045  \n",
       "1767          0.001382  \n",
       "1768          0.001361  \n",
       "1769          0.001440  \n",
       "\n",
       "[633 rows x 5 columns]"
      ]
     },
     "execution_count": 171,
     "metadata": {},
     "output_type": "execute_result"
    }
   ],
   "source": [
    "total_dataset_beyond2016"
   ]
  },
  {
   "cell_type": "markdown",
   "metadata": {},
   "source": [
    "# Influence of individuals parameters\n",
    "\n",
    "## Influence of Temperature"
   ]
  },
  {
   "cell_type": "code",
   "execution_count": 65,
   "metadata": {},
   "outputs": [
    {
     "data": {
      "text/html": [
       "<div>\n",
       "<style scoped>\n",
       "    .dataframe tbody tr th:only-of-type {\n",
       "        vertical-align: middle;\n",
       "    }\n",
       "\n",
       "    .dataframe tbody tr th {\n",
       "        vertical-align: top;\n",
       "    }\n",
       "\n",
       "    .dataframe thead th {\n",
       "        text-align: right;\n",
       "    }\n",
       "</style>\n",
       "<table border=\"1\" class=\"dataframe\">\n",
       "  <thead>\n",
       "    <tr style=\"text-align: right;\">\n",
       "      <th></th>\n",
       "      <th>Date</th>\n",
       "      <th>Mean temp (°C)</th>\n",
       "      <th>Tot precip (mm)</th>\n",
       "      <th>Snow on ground (cm)</th>\n",
       "      <th>Wind max speed (km/h)</th>\n",
       "      <th>normalized_count</th>\n",
       "    </tr>\n",
       "  </thead>\n",
       "  <tbody>\n",
       "    <tr>\n",
       "      <td>94</td>\n",
       "      <td>2014-04-15</td>\n",
       "      <td>5.7</td>\n",
       "      <td>13.6</td>\n",
       "      <td>0.0</td>\n",
       "      <td>33.0</td>\n",
       "      <td>0.000503</td>\n",
       "    </tr>\n",
       "    <tr>\n",
       "      <td>95</td>\n",
       "      <td>2014-04-16</td>\n",
       "      <td>-3.5</td>\n",
       "      <td>0.0</td>\n",
       "      <td>0.0</td>\n",
       "      <td>33.0</td>\n",
       "      <td>0.001014</td>\n",
       "    </tr>\n",
       "    <tr>\n",
       "      <td>96</td>\n",
       "      <td>2014-04-17</td>\n",
       "      <td>2.6</td>\n",
       "      <td>0.0</td>\n",
       "      <td>0.0</td>\n",
       "      <td>NaN</td>\n",
       "      <td>0.001866</td>\n",
       "    </tr>\n",
       "    <tr>\n",
       "      <td>97</td>\n",
       "      <td>2014-04-18</td>\n",
       "      <td>6.3</td>\n",
       "      <td>0.0</td>\n",
       "      <td>0.0</td>\n",
       "      <td>NaN</td>\n",
       "      <td>0.001698</td>\n",
       "    </tr>\n",
       "    <tr>\n",
       "      <td>98</td>\n",
       "      <td>2014-04-19</td>\n",
       "      <td>7.2</td>\n",
       "      <td>1.0</td>\n",
       "      <td>0.0</td>\n",
       "      <td>35.0</td>\n",
       "      <td>0.001923</td>\n",
       "    </tr>\n",
       "  </tbody>\n",
       "</table>\n",
       "</div>"
      ],
      "text/plain": [
       "         Date  Mean temp (°C)  Tot precip (mm)  Snow on ground (cm)  \\\n",
       "94 2014-04-15             5.7             13.6                  0.0   \n",
       "95 2014-04-16            -3.5              0.0                  0.0   \n",
       "96 2014-04-17             2.6              0.0                  0.0   \n",
       "97 2014-04-18             6.3              0.0                  0.0   \n",
       "98 2014-04-19             7.2              1.0                  0.0   \n",
       "\n",
       "    Wind max speed (km/h)  normalized_count  \n",
       "94                   33.0          0.000503  \n",
       "95                   33.0          0.001014  \n",
       "96                    NaN          0.001866  \n",
       "97                    NaN          0.001698  \n",
       "98                   35.0          0.001923  "
      ]
     },
     "execution_count": 65,
     "metadata": {},
     "output_type": "execute_result"
    }
   ],
   "source": [
    "total_dataset.head()"
   ]
  },
  {
   "cell_type": "code",
   "execution_count": 66,
   "metadata": {},
   "outputs": [
    {
     "data": {
      "text/html": [
       "<div>\n",
       "<style scoped>\n",
       "    .dataframe tbody tr th:only-of-type {\n",
       "        vertical-align: middle;\n",
       "    }\n",
       "\n",
       "    .dataframe tbody tr th {\n",
       "        vertical-align: top;\n",
       "    }\n",
       "\n",
       "    .dataframe thead th {\n",
       "        text-align: right;\n",
       "    }\n",
       "</style>\n",
       "<table border=\"1\" class=\"dataframe\">\n",
       "  <thead>\n",
       "    <tr style=\"text-align: right;\">\n",
       "      <th></th>\n",
       "      <th>Date</th>\n",
       "      <th>Mean temp (°C)</th>\n",
       "      <th>normalized_count</th>\n",
       "    </tr>\n",
       "  </thead>\n",
       "  <tbody>\n",
       "    <tr>\n",
       "      <td>94</td>\n",
       "      <td>2014-04-15</td>\n",
       "      <td>5.7</td>\n",
       "      <td>0.000503</td>\n",
       "    </tr>\n",
       "    <tr>\n",
       "      <td>95</td>\n",
       "      <td>2014-04-16</td>\n",
       "      <td>-3.5</td>\n",
       "      <td>0.001014</td>\n",
       "    </tr>\n",
       "    <tr>\n",
       "      <td>96</td>\n",
       "      <td>2014-04-17</td>\n",
       "      <td>2.6</td>\n",
       "      <td>0.001866</td>\n",
       "    </tr>\n",
       "    <tr>\n",
       "      <td>97</td>\n",
       "      <td>2014-04-18</td>\n",
       "      <td>6.3</td>\n",
       "      <td>0.001698</td>\n",
       "    </tr>\n",
       "    <tr>\n",
       "      <td>98</td>\n",
       "      <td>2014-04-19</td>\n",
       "      <td>7.2</td>\n",
       "      <td>0.001923</td>\n",
       "    </tr>\n",
       "  </tbody>\n",
       "</table>\n",
       "</div>"
      ],
      "text/plain": [
       "         Date  Mean temp (°C)  normalized_count\n",
       "94 2014-04-15             5.7          0.000503\n",
       "95 2014-04-16            -3.5          0.001014\n",
       "96 2014-04-17             2.6          0.001866\n",
       "97 2014-04-18             6.3          0.001698\n",
       "98 2014-04-19             7.2          0.001923"
      ]
     },
     "execution_count": 66,
     "metadata": {},
     "output_type": "execute_result"
    }
   ],
   "source": [
    "Temp_dataset = total_dataset[['Date','Mean temp (°C)','normalized_count']]\n",
    "\n",
    "# simplest operation found to have only one temperature conrresponding to one number of bike\n",
    "Temp_dataset = Temp_dataset.drop_duplicates(subset = ['Mean temp (°C)'])\n",
    "\n",
    "Temp_dataset.head()"
   ]
  },
  {
   "cell_type": "code",
   "execution_count": 74,
   "metadata": {},
   "outputs": [
    {
     "data": {
      "text/plain": [
       "(0, 0.008)"
      ]
     },
     "execution_count": 74,
     "metadata": {},
     "output_type": "execute_result"
    },
    {
     "data": {
      "image/png": "[encoded data removed]",
      "text/plain": [
       "<Figure size 432x288 with 1 Axes>"
      ]
     },
     "metadata": {
      "needs_background": "light"
     },
     "output_type": "display_data"
    }
   ],
   "source": [
    "plt.scatter(Temp_dataset['Mean temp (°C)'],Temp_dataset['normalized_count'])\n",
    "\n",
    "axes = plt.gca()\n",
    "axes.set_xlabel('Mean Temperature (°C)')\n",
    "axes.set_ylabel('Normalize count of bike use')\n",
    "axes.set_ylim(0, 0.008)\n",
    "\n",
    "# plusieurs pb : points qui se superposent, limite des axes, méthode d'obtention de ces points\n",
    "# on peut voir une tendence...\n",
    "# j'aimerai bien voir sambiak pour qu'il me file un coup de main\n",
    "# J'peux aussi regarder dans le cours pour faire des Parsons correlation ou whatever\n",
    "# et commencer à faire le jekyll\n",
    "# jfinis juste ça, je clean tout et je fais le jekyll"
   ]
  },
  {
   "cell_type": "markdown",
   "metadata": {},
   "source": [
    "A clear influence can be seen."
   ]
  },
  {
   "cell_type": "markdown",
   "metadata": {},
   "source": [
    "## Influence of Rain"
   ]
  },
  {
   "cell_type": "code",
   "execution_count": 75,
   "metadata": {},
   "outputs": [
    {
     "data": {
      "text/html": [
       "<div>\n",
       "<style scoped>\n",
       "    .dataframe tbody tr th:only-of-type {\n",
       "        vertical-align: middle;\n",
       "    }\n",
       "\n",
       "    .dataframe tbody tr th {\n",
       "        vertical-align: top;\n",
       "    }\n",
       "\n",
       "    .dataframe thead th {\n",
       "        text-align: right;\n",
       "    }\n",
       "</style>\n",
       "<table border=\"1\" class=\"dataframe\">\n",
       "  <thead>\n",
       "    <tr style=\"text-align: right;\">\n",
       "      <th></th>\n",
       "      <th>Date</th>\n",
       "      <th>Tot precip (mm)</th>\n",
       "      <th>normalized_count</th>\n",
       "    </tr>\n",
       "  </thead>\n",
       "  <tbody>\n",
       "    <tr>\n",
       "      <td>94</td>\n",
       "      <td>2014-04-15</td>\n",
       "      <td>13.6</td>\n",
       "      <td>0.000503</td>\n",
       "    </tr>\n",
       "    <tr>\n",
       "      <td>95</td>\n",
       "      <td>2014-04-16</td>\n",
       "      <td>0.0</td>\n",
       "      <td>0.001014</td>\n",
       "    </tr>\n",
       "    <tr>\n",
       "      <td>98</td>\n",
       "      <td>2014-04-19</td>\n",
       "      <td>1.0</td>\n",
       "      <td>0.001923</td>\n",
       "    </tr>\n",
       "    <tr>\n",
       "      <td>101</td>\n",
       "      <td>2014-04-22</td>\n",
       "      <td>11.0</td>\n",
       "      <td>0.001508</td>\n",
       "    </tr>\n",
       "    <tr>\n",
       "      <td>106</td>\n",
       "      <td>2014-04-27</td>\n",
       "      <td>1.4</td>\n",
       "      <td>0.001882</td>\n",
       "    </tr>\n",
       "  </tbody>\n",
       "</table>\n",
       "</div>"
      ],
      "text/plain": [
       "          Date  Tot precip (mm)  normalized_count\n",
       "94  2014-04-15             13.6          0.000503\n",
       "95  2014-04-16              0.0          0.001014\n",
       "98  2014-04-19              1.0          0.001923\n",
       "101 2014-04-22             11.0          0.001508\n",
       "106 2014-04-27              1.4          0.001882"
      ]
     },
     "execution_count": 75,
     "metadata": {},
     "output_type": "execute_result"
    }
   ],
   "source": [
    "Rain_dataset = total_dataset[['Date','Tot precip (mm)','normalized_count']]\n",
    "\n",
    "# simplest operation found to have only one temperature conrresponding to one number of bike\n",
    "Rain_dataset = Rain_dataset.drop_duplicates(subset = ['Tot precip (mm)'])\n",
    "\n",
    "Rain_dataset.head()"
   ]
  },
  {
   "cell_type": "code",
   "execution_count": 78,
   "metadata": {},
   "outputs": [
    {
     "data": {
      "text/plain": [
       "(0, 0.008)"
      ]
     },
     "execution_count": 78,
     "metadata": {},
     "output_type": "execute_result"
    },
    {
     "data": {
      "image/png": "[encoded data removed]",
      "text/plain": [
       "<Figure size 432x288 with 1 Axes>"
      ]
     },
     "metadata": {
      "needs_background": "light"
     },
     "output_type": "display_data"
    }
   ],
   "source": [
    "plt.scatter(Rain_dataset['Tot precip (mm)'],Rain_dataset['normalized_count'])\n",
    "\n",
    "axes = plt.gca()\n",
    "axes.set_xlabel('Tot precip (mm)')\n",
    "axes.set_ylabel('Normalize count of bike use')\n",
    "axes.set_ylim(0, 0.008)"
   ]
  },
  {
   "cell_type": "markdown",
   "metadata": {},
   "source": [
    "Hard to draw a conclusion from it as it is."
   ]
  },
  {
   "cell_type": "markdown",
   "metadata": {},
   "source": [
    "## Influence of Snow"
   ]
  },
  {
   "cell_type": "code",
   "execution_count": 87,
   "metadata": {},
   "outputs": [
    {
     "data": {
      "text/html": [
       "<div>\n",
       "<style scoped>\n",
       "    .dataframe tbody tr th:only-of-type {\n",
       "        vertical-align: middle;\n",
       "    }\n",
       "\n",
       "    .dataframe tbody tr th {\n",
       "        vertical-align: top;\n",
       "    }\n",
       "\n",
       "    .dataframe thead th {\n",
       "        text-align: right;\n",
       "    }\n",
       "</style>\n",
       "<table border=\"1\" class=\"dataframe\">\n",
       "  <thead>\n",
       "    <tr style=\"text-align: right;\">\n",
       "      <th></th>\n",
       "      <th>Date</th>\n",
       "      <th>Snow on ground (cm)</th>\n",
       "      <th>normalized_count</th>\n",
       "    </tr>\n",
       "  </thead>\n",
       "  <tbody>\n",
       "    <tr>\n",
       "      <td>825</td>\n",
       "      <td>2016-04-15</td>\n",
       "      <td>0.0</td>\n",
       "      <td>0.002372</td>\n",
       "    </tr>\n",
       "    <tr>\n",
       "      <td>1018</td>\n",
       "      <td>2016-10-25</td>\n",
       "      <td>NaN</td>\n",
       "      <td>0.003105</td>\n",
       "    </tr>\n",
       "    <tr>\n",
       "      <td>1550</td>\n",
       "      <td>2018-04-10</td>\n",
       "      <td>24.0</td>\n",
       "      <td>0.000580</td>\n",
       "    </tr>\n",
       "    <tr>\n",
       "      <td>1551</td>\n",
       "      <td>2018-04-11</td>\n",
       "      <td>20.0</td>\n",
       "      <td>0.001819</td>\n",
       "    </tr>\n",
       "    <tr>\n",
       "      <td>1552</td>\n",
       "      <td>2018-04-12</td>\n",
       "      <td>16.0</td>\n",
       "      <td>0.001821</td>\n",
       "    </tr>\n",
       "  </tbody>\n",
       "</table>\n",
       "</div>"
      ],
      "text/plain": [
       "           Date  Snow on ground (cm)  normalized_count\n",
       "825  2016-04-15                  0.0          0.002372\n",
       "1018 2016-10-25                  NaN          0.003105\n",
       "1550 2018-04-10                 24.0          0.000580\n",
       "1551 2018-04-11                 20.0          0.001819\n",
       "1552 2018-04-12                 16.0          0.001821"
      ]
     },
     "execution_count": 87,
     "metadata": {},
     "output_type": "execute_result"
    }
   ],
   "source": [
    "Snow_dataset = total_dataset_beyond2016[['Date','Snow on ground (cm)','normalized_count']]\n",
    "\n",
    "# simplest operation found to have only one temperature conrresponding to one number of bike\n",
    "Snow_dataset = Snow_dataset.drop_duplicates(subset = ['Snow on ground (cm)'])\n",
    "\n",
    "Snow_dataset.head()"
   ]
  },
  {
   "cell_type": "code",
   "execution_count": 88,
   "metadata": {},
   "outputs": [
    {
     "data": {
      "text/plain": [
       "(0, 0.008)"
      ]
     },
     "execution_count": 88,
     "metadata": {},
     "output_type": "execute_result"
    },
    {
     "data": {
      "image/png": "[encoded data removed]",
      "text/plain": [
       "<Figure size 432x288 with 1 Axes>"
      ]
     },
     "metadata": {
      "needs_background": "light"
     },
     "output_type": "display_data"
    }
   ],
   "source": [
    "plt.scatter(Snow_dataset['Snow on ground (cm)'],Snow_dataset['normalized_count'])\n",
    "\n",
    "axes = plt.gca()\n",
    "axes.set_xlabel('Snow on ground (cm)')\n",
    "axes.set_ylabel('Normalize count of bike use')\n",
    "axes.set_ylim(0, 0.008)"
   ]
  },
  {
   "cell_type": "code",
   "execution_count": null,
   "metadata": {},
   "outputs": [],
   "source": [
    "# j'ai seulement 3 points... y'a aucun intérêt à ce truc\n",
    "# moins y'a de points, plus de moyennes doivent être faites"
   ]
  },
  {
   "cell_type": "markdown",
   "metadata": {},
   "source": [
    "## Influence of Wind"
   ]
  },
  {
   "cell_type": "code",
   "execution_count": 81,
   "metadata": {},
   "outputs": [
    {
     "data": {
      "text/html": [
       "<div>\n",
       "<style scoped>\n",
       "    .dataframe tbody tr th:only-of-type {\n",
       "        vertical-align: middle;\n",
       "    }\n",
       "\n",
       "    .dataframe tbody tr th {\n",
       "        vertical-align: top;\n",
       "    }\n",
       "\n",
       "    .dataframe thead th {\n",
       "        text-align: right;\n",
       "    }\n",
       "</style>\n",
       "<table border=\"1\" class=\"dataframe\">\n",
       "  <thead>\n",
       "    <tr style=\"text-align: right;\">\n",
       "      <th></th>\n",
       "      <th>Date</th>\n",
       "      <th>Wind max speed (km/h)</th>\n",
       "      <th>normalized_count</th>\n",
       "    </tr>\n",
       "  </thead>\n",
       "  <tbody>\n",
       "    <tr>\n",
       "      <td>94</td>\n",
       "      <td>2014-04-15</td>\n",
       "      <td>33.0</td>\n",
       "      <td>0.000503</td>\n",
       "    </tr>\n",
       "    <tr>\n",
       "      <td>96</td>\n",
       "      <td>2014-04-17</td>\n",
       "      <td>NaN</td>\n",
       "      <td>0.001866</td>\n",
       "    </tr>\n",
       "    <tr>\n",
       "      <td>98</td>\n",
       "      <td>2014-04-19</td>\n",
       "      <td>35.0</td>\n",
       "      <td>0.001923</td>\n",
       "    </tr>\n",
       "    <tr>\n",
       "      <td>102</td>\n",
       "      <td>2014-04-23</td>\n",
       "      <td>41.0</td>\n",
       "      <td>0.002750</td>\n",
       "    </tr>\n",
       "    <tr>\n",
       "      <td>111</td>\n",
       "      <td>2014-05-02</td>\n",
       "      <td>39.0</td>\n",
       "      <td>0.003941</td>\n",
       "    </tr>\n",
       "  </tbody>\n",
       "</table>\n",
       "</div>"
      ],
      "text/plain": [
       "          Date  Wind max speed (km/h)  normalized_count\n",
       "94  2014-04-15                   33.0          0.000503\n",
       "96  2014-04-17                    NaN          0.001866\n",
       "98  2014-04-19                   35.0          0.001923\n",
       "102 2014-04-23                   41.0          0.002750\n",
       "111 2014-05-02                   39.0          0.003941"
      ]
     },
     "execution_count": 81,
     "metadata": {},
     "output_type": "execute_result"
    }
   ],
   "source": [
    "Wind_dataset = total_dataset[['Date','Wind max speed (km/h)','normalized_count']]\n",
    "\n",
    "# simplest operation found to have only one temperature conrresponding to one number of bike\n",
    "Wind_dataset = Wind_dataset.drop_duplicates(subset = ['Wind max speed (km/h)'])\n",
    "\n",
    "Wind_dataset.head()"
   ]
  },
  {
   "cell_type": "code",
   "execution_count": 82,
   "metadata": {},
   "outputs": [
    {
     "data": {
      "text/plain": [
       "(0, 0.008)"
      ]
     },
     "execution_count": 82,
     "metadata": {},
     "output_type": "execute_result"
    },
    {
     "data": {
      "image/png": "[encoded data removed]",
      "text/plain": [
       "<Figure size 432x288 with 1 Axes>"
      ]
     },
     "metadata": {
      "needs_background": "light"
     },
     "output_type": "display_data"
    }
   ],
   "source": [
    "plt.scatter(Wind_dataset['Wind max speed (km/h)'],Wind_dataset['normalized_count'])\n",
    "\n",
    "axes = plt.gca()\n",
    "axes.set_xlabel('Wind max speed (km/h)')\n",
    "axes.set_ylabel('Normalize count of bike use')\n",
    "axes.set_ylim(0, 0.008)"
   ]
  },
  {
   "cell_type": "markdown",
   "metadata": {},
   "source": [
    "# Sketch of stuff"
   ]
  },
  {
   "cell_type": "code",
   "execution_count": null,
   "metadata": {},
   "outputs": [],
   "source": [
    "# Maybe I should use dataset cleaned of \"false travel\"\n",
    "# pour visualiser les cartes : aversin et folium\n",
    "# update the readme\n",
    "# mettre des titres\n",
    "# et aussi compléter le \"THE DATA\" dans overview => pour les autres\n",
    "# Standardiser au lieu de normaliser\n",
    "# mettre mes pickle sur le drive\n",
    "# rendre le website plus joli"
   ]
  }
 ],
 "metadata": {
  "kernelspec": {
   "display_name": "Python 3",
   "language": "python",
   "name": "python3"
  },
  "language_info": {
   "codemirror_mode": {
    "name": "ipython",
    "version": 3
   },
   "file_extension": ".py",
   "mimetype": "text/x-python",
   "name": "python",
   "nbconvert_exporter": "python",
   "pygments_lexer": "ipython3",
   "version": "3.7.3"
  }
 },
 "nbformat": 4,
 "nbformat_minor": 4
}
